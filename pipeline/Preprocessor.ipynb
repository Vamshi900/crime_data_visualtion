{
 "cells": [
  {
   "cell_type": "code",
   "execution_count": 2,
   "metadata": {},
   "outputs": [
    {
     "name": "stdout",
     "output_type": "stream",
     "text": [
      "Collecting package metadata (current_repodata.json): done\n",
      "Solving environment: done\n",
      "\n",
      "# All requested packages already installed.\n",
      "\n",
      "\n",
      "Note: you may need to restart the kernel to use updated packages.\n"
     ]
    }
   ],
   "source": [
    "conda install -c conda-forge vaex-core vaex-viz vaex-jupyter vaex-server vaex-hdf5 vaex-astro vaex-ml"
   ]
  },
  {
   "cell_type": "code",
   "execution_count": 1,
   "metadata": {},
   "outputs": [],
   "source": [
    "import vaex as vx\n",
    "import numpy as np\n",
    "import pandas as pd\n"
   ]
  },
  {
   "cell_type": "markdown",
   "metadata": {},
   "source": [
    "# use pandas to clean up data "
   ]
  },
  {
   "cell_type": "code",
   "execution_count": null,
   "metadata": {},
   "outputs": [],
   "source": [
    "# use pandas to read in the data\n",
    "df_pandas = pd.read_csv('./data.csv')\n",
    "df_pandas.dropna(inplace=True)\n",
    "\n",
    "\n",
    "# convert dates to pandas datetime format\n",
    "df_pandas.Date = pd.to_datetime(df_pandas.Date, format='%m/%d/%Y %I:%M:%S %p')\n",
    "# setting the index to be the date will help us a lot later on\n",
    "df_pandas.index = pd.DatetimeIndex(df_pandas.Date)\n"
   ]
  },
  {
   "cell_type": "code",
   "execution_count": 8,
   "metadata": {},
   "outputs": [],
   "source": [
    "# convert pandas dataframe to vaex dataframe\n",
    "df_vaex = vx.from_pandas(df_pandas)\n",
    "\n",
    "# export the dataframe to a hdf5 file\n",
    "df_vaex.export('./proces.hdf5')"
   ]
  },
  {
   "cell_type": "code",
   "execution_count": 11,
   "metadata": {},
   "outputs": [
    {
     "data": {
      "text/html": [
       "<table>\n",
       "<thead>\n",
       "<tr><th>#                            </th><th style=\"text-align: right;\">      ID</th><th>Case Number  </th><th>Date                         </th><th>Block                 </th><th style=\"text-align: right;\">  IUCR</th><th>Primary Type       </th><th>Description                                        </th><th>Location Description    </th><th>Arrest  </th><th>Domestic  </th><th style=\"text-align: right;\">  Beat</th><th style=\"text-align: right;\">  District</th><th style=\"text-align: right;\">  Ward</th><th style=\"text-align: right;\">  Community Area</th><th>FBI Code  </th><th style=\"text-align: right;\">  X Coordinate</th><th style=\"text-align: right;\">  Y Coordinate</th><th style=\"text-align: right;\">  Year</th><th>Updated On            </th><th style=\"text-align: right;\">  Latitude</th><th style=\"text-align: right;\">  Longitude</th><th>Location                     </th></tr>\n",
       "</thead>\n",
       "<tbody>\n",
       "<tr><td><i style='opacity: 0.6'>0</i></td><td style=\"text-align: right;\">12615059</td><td>JF140816     </td><td>2022-02-07 19:00:00.000000000</td><td>096XX S COMMERCIAL AVE</td><td style=\"text-align: right;\">  1320</td><td>CRIMINAL DAMAGE    </td><td>TO VEHICLE                                         </td><td>STREET                  </td><td>False   </td><td>False     </td><td style=\"text-align: right;\">   431</td><td style=\"text-align: right;\">         4</td><td style=\"text-align: right;\">    10</td><td style=\"text-align: right;\">              51</td><td>14        </td><td style=\"text-align: right;\">   1.19782e+06</td><td style=\"text-align: right;\">   1.8416e+06 </td><td style=\"text-align: right;\">  2022</td><td>02/14/2022 03:48:42 PM</td><td style=\"text-align: right;\">   41.7202</td><td style=\"text-align: right;\">   -87.551 </td><td>(41.7202039, -87.551043724)  </td></tr>\n",
       "<tr><td><i style='opacity: 0.6'>1</i></td><td style=\"text-align: right;\">12612390</td><td>JF137541     </td><td>2022-02-07 20:30:00.000000000</td><td>004XX W WELLINGTON AVE</td><td style=\"text-align: right;\">  0910</td><td>MOTOR VEHICLE THEFT</td><td>AUTOMOBILE                                         </td><td>STREET                  </td><td>False   </td><td>False     </td><td style=\"text-align: right;\">  1934</td><td style=\"text-align: right;\">        19</td><td style=\"text-align: right;\">    44</td><td style=\"text-align: right;\">               6</td><td>07        </td><td style=\"text-align: right;\">   1.1727e+06 </td><td style=\"text-align: right;\">   1.92024e+06</td><td style=\"text-align: right;\">  2022</td><td>02/14/2022 03:48:42 PM</td><td style=\"text-align: right;\">   41.9366</td><td style=\"text-align: right;\">   -87.6407</td><td>(41.936572103, -87.640707032)</td></tr>\n",
       "<tr><td><i style='opacity: 0.6'>2</i></td><td style=\"text-align: right;\">12611584</td><td>JF136477     </td><td>2022-02-07 11:31:00.000000000</td><td>002XX E 48TH ST       </td><td style=\"text-align: right;\">  1310</td><td>CRIMINAL DAMAGE    </td><td>TO PROPERTY                                        </td><td>APARTMENT               </td><td>False   </td><td>False     </td><td style=\"text-align: right;\">   224</td><td style=\"text-align: right;\">         2</td><td style=\"text-align: right;\">     3</td><td style=\"text-align: right;\">              38</td><td>14        </td><td style=\"text-align: right;\">   1.17854e+06</td><td style=\"text-align: right;\">   1.87325e+06</td><td style=\"text-align: right;\">  2022</td><td>02/14/2022 03:48:42 PM</td><td style=\"text-align: right;\">   41.8075</td><td style=\"text-align: right;\">   -87.6207</td><td>(41.807500127, -87.620674671)</td></tr>\n",
       "<tr><td><i style='opacity: 0.6'>3</i></td><td style=\"text-align: right;\">12612141</td><td>JF137227     </td><td>2022-02-07 23:18:00.000000000</td><td>001XX N STATE ST      </td><td style=\"text-align: right;\">  0545</td><td>ASSAULT            </td><td>&#x27;PROTECTED EMPLOYEE - HANDS, FISTS, FEET, NO / M...</td><td>CTA BUS                 </td><td>False   </td><td>False     </td><td style=\"text-align: right;\">   111</td><td style=\"text-align: right;\">         1</td><td style=\"text-align: right;\">    42</td><td style=\"text-align: right;\">              32</td><td>08A       </td><td style=\"text-align: right;\">   1.17633e+06</td><td style=\"text-align: right;\">   1.90169e+06</td><td style=\"text-align: right;\">  2022</td><td>02/14/2022 03:48:42 PM</td><td style=\"text-align: right;\">   41.8856</td><td style=\"text-align: right;\">   -87.6279</td><td>(41.885591676, -87.627938154)</td></tr>\n",
       "<tr><td><i style='opacity: 0.6'>4</i></td><td style=\"text-align: right;\">12611928</td><td>JF137086     </td><td>2022-02-07 19:47:00.000000000</td><td>110XX S LOOMIS ST     </td><td style=\"text-align: right;\">  1812</td><td>NARCOTICS          </td><td>POSSESS - CANNABIS MORE THAN 30 GRAMS              </td><td>STREET                  </td><td>True    </td><td>False     </td><td style=\"text-align: right;\">  2234</td><td style=\"text-align: right;\">        22</td><td style=\"text-align: right;\">    34</td><td style=\"text-align: right;\">              75</td><td>18        </td><td style=\"text-align: right;\">   1.16897e+06</td><td style=\"text-align: right;\">   1.83139e+06</td><td style=\"text-align: right;\">  2022</td><td>02/14/2022 03:48:42 PM</td><td style=\"text-align: right;\">   41.6929</td><td style=\"text-align: right;\">   -87.657 </td><td>(41.692851305, -87.656996049)</td></tr>\n",
       "<tr><td><i style='opacity: 0.6'>5</i></td><td style=\"text-align: right;\">12611986</td><td>JF137098     </td><td>2022-02-07 15:00:00.000000000</td><td>007XX W 50TH PL       </td><td style=\"text-align: right;\">  2825</td><td>OTHER OFFENSE      </td><td>HARASSMENT BY TELEPHONE                            </td><td>APARTMENT               </td><td>False   </td><td>False     </td><td style=\"text-align: right;\">   935</td><td style=\"text-align: right;\">         9</td><td style=\"text-align: right;\">    20</td><td style=\"text-align: right;\">              61</td><td>26        </td><td style=\"text-align: right;\">   1.17224e+06</td><td style=\"text-align: right;\">   1.87138e+06</td><td style=\"text-align: right;\">  2022</td><td>02/14/2022 03:48:42 PM</td><td style=\"text-align: right;\">   41.8025</td><td style=\"text-align: right;\">   -87.6439</td><td>(41.802520836, -87.643865412)</td></tr>\n",
       "<tr><td><i style='opacity: 0.6'>6</i></td><td style=\"text-align: right;\">12614268</td><td>JF139812     </td><td>2022-02-07 13:00:00.000000000</td><td>014XX N OGDEN AVE     </td><td style=\"text-align: right;\">  0560</td><td>ASSAULT            </td><td>SIMPLE                                             </td><td>SCHOOL - PRIVATE GROUNDS</td><td>False   </td><td>False     </td><td style=\"text-align: right;\">  1822</td><td style=\"text-align: right;\">        18</td><td style=\"text-align: right;\">    27</td><td style=\"text-align: right;\">               8</td><td>08A       </td><td style=\"text-align: right;\">   1.17142e+06</td><td style=\"text-align: right;\">   1.90971e+06</td><td style=\"text-align: right;\">  2022</td><td>02/14/2022 03:48:42 PM</td><td style=\"text-align: right;\">   41.9077</td><td style=\"text-align: right;\">   -87.6457</td><td>(41.907722138, -87.645739645)</td></tr>\n",
       "<tr><td><i style='opacity: 0.6'>7</i></td><td style=\"text-align: right;\">12612478</td><td>JF137662     </td><td>2022-02-07 18:00:00.000000000</td><td>106XX S LA SALLE ST   </td><td style=\"text-align: right;\">  0820</td><td>THEFT              </td><td>$500 AND UNDER                                     </td><td>RESIDENCE               </td><td>False   </td><td>False     </td><td style=\"text-align: right;\">   512</td><td style=\"text-align: right;\">         5</td><td style=\"text-align: right;\">    34</td><td style=\"text-align: right;\">              49</td><td>06        </td><td style=\"text-align: right;\">   1.17716e+06</td><td style=\"text-align: right;\">   1.83424e+06</td><td style=\"text-align: right;\">  2022</td><td>02/14/2022 03:48:42 PM</td><td style=\"text-align: right;\">   41.7005</td><td style=\"text-align: right;\">   -87.6269</td><td>(41.700472417, -87.626907339)</td></tr>\n",
       "<tr><td><i style='opacity: 0.6'>8</i></td><td style=\"text-align: right;\">12612008</td><td>JF137063     </td><td>2022-02-07 18:18:00.000000000</td><td>032XX W EVERGREEN AVE </td><td style=\"text-align: right;\">  1477</td><td>WEAPONS VIOLATION  </td><td>RECKLESS FIREARM DISCHARGE                         </td><td>STREET                  </td><td>False   </td><td>False     </td><td style=\"text-align: right;\">  1422</td><td style=\"text-align: right;\">        14</td><td style=\"text-align: right;\">    26</td><td style=\"text-align: right;\">              23</td><td>15        </td><td style=\"text-align: right;\">   1.15442e+06</td><td style=\"text-align: right;\">   1.90879e+06</td><td style=\"text-align: right;\">  2022</td><td>02/14/2022 03:48:42 PM</td><td style=\"text-align: right;\">   41.9056</td><td style=\"text-align: right;\">   -87.7082</td><td>(41.905554539, -87.70821325) </td></tr>\n",
       "<tr><td><i style='opacity: 0.6'>9</i></td><td style=\"text-align: right;\">12611620</td><td>JF136549     </td><td>2022-02-07 12:24:00.000000000</td><td>071XX S WESTERN AVE   </td><td style=\"text-align: right;\">  0860</td><td>THEFT              </td><td>RETAIL THEFT                                       </td><td>DRUG STORE              </td><td>False   </td><td>False     </td><td style=\"text-align: right;\">   832</td><td style=\"text-align: right;\">         8</td><td style=\"text-align: right;\">    18</td><td style=\"text-align: right;\">              66</td><td>06        </td><td style=\"text-align: right;\">   1.16161e+06</td><td style=\"text-align: right;\">   1.85732e+06</td><td style=\"text-align: right;\">  2022</td><td>02/14/2022 03:48:42 PM</td><td style=\"text-align: right;\">   41.7642</td><td style=\"text-align: right;\">   -87.6832</td><td>(41.764151886, -87.683229302)</td></tr>\n",
       "</tbody>\n",
       "</table>"
      ],
      "text/plain": [
       "  #        ID  Case Number    Date                           Block                     IUCR  Primary Type         Description                                          Location Description      Arrest    Domestic      Beat    District    Ward    Community Area  FBI Code      X Coordinate    Y Coordinate    Year  Updated On                Latitude    Longitude  Location\n",
       "  0  12615059  JF140816       2022-02-07 19:00:00.000000000  096XX S COMMERCIAL AVE    1320  CRIMINAL DAMAGE      TO VEHICLE                                           STREET                    False     False          431           4      10                51  14             1.19782e+06     1.8416e+06     2022  02/14/2022 03:48:42 PM     41.7202     -87.551   (41.7202039, -87.551043724)\n",
       "  1  12612390  JF137541       2022-02-07 20:30:00.000000000  004XX W WELLINGTON AVE    0910  MOTOR VEHICLE THEFT  AUTOMOBILE                                           STREET                    False     False         1934          19      44                 6  07             1.1727e+06      1.92024e+06    2022  02/14/2022 03:48:42 PM     41.9366     -87.6407  (41.936572103, -87.640707032)\n",
       "  2  12611584  JF136477       2022-02-07 11:31:00.000000000  002XX E 48TH ST           1310  CRIMINAL DAMAGE      TO PROPERTY                                          APARTMENT                 False     False          224           2       3                38  14             1.17854e+06     1.87325e+06    2022  02/14/2022 03:48:42 PM     41.8075     -87.6207  (41.807500127, -87.620674671)\n",
       "  3  12612141  JF137227       2022-02-07 23:18:00.000000000  001XX N STATE ST          0545  ASSAULT              'PROTECTED EMPLOYEE - HANDS, FISTS, FEET, NO / M...  CTA BUS                   False     False          111           1      42                32  08A            1.17633e+06     1.90169e+06    2022  02/14/2022 03:48:42 PM     41.8856     -87.6279  (41.885591676, -87.627938154)\n",
       "  4  12611928  JF137086       2022-02-07 19:47:00.000000000  110XX S LOOMIS ST         1812  NARCOTICS            POSSESS - CANNABIS MORE THAN 30 GRAMS                STREET                    True      False         2234          22      34                75  18             1.16897e+06     1.83139e+06    2022  02/14/2022 03:48:42 PM     41.6929     -87.657   (41.692851305, -87.656996049)\n",
       "  5  12611986  JF137098       2022-02-07 15:00:00.000000000  007XX W 50TH PL           2825  OTHER OFFENSE        HARASSMENT BY TELEPHONE                              APARTMENT                 False     False          935           9      20                61  26             1.17224e+06     1.87138e+06    2022  02/14/2022 03:48:42 PM     41.8025     -87.6439  (41.802520836, -87.643865412)\n",
       "  6  12614268  JF139812       2022-02-07 13:00:00.000000000  014XX N OGDEN AVE         0560  ASSAULT              SIMPLE                                               SCHOOL - PRIVATE GROUNDS  False     False         1822          18      27                 8  08A            1.17142e+06     1.90971e+06    2022  02/14/2022 03:48:42 PM     41.9077     -87.6457  (41.907722138, -87.645739645)\n",
       "  7  12612478  JF137662       2022-02-07 18:00:00.000000000  106XX S LA SALLE ST       0820  THEFT                $500 AND UNDER                                       RESIDENCE                 False     False          512           5      34                49  06             1.17716e+06     1.83424e+06    2022  02/14/2022 03:48:42 PM     41.7005     -87.6269  (41.700472417, -87.626907339)\n",
       "  8  12612008  JF137063       2022-02-07 18:18:00.000000000  032XX W EVERGREEN AVE     1477  WEAPONS VIOLATION    RECKLESS FIREARM DISCHARGE                           STREET                    False     False         1422          14      26                23  15             1.15442e+06     1.90879e+06    2022  02/14/2022 03:48:42 PM     41.9056     -87.7082  (41.905554539, -87.70821325)\n",
       "  9  12611620  JF136549       2022-02-07 12:24:00.000000000  071XX S WESTERN AVE       0860  THEFT                RETAIL THEFT                                         DRUG STORE                False     False          832           8      18                66  06             1.16161e+06     1.85732e+06    2022  02/14/2022 03:48:42 PM     41.7642     -87.6832  (41.764151886, -87.683229302)"
      ]
     },
     "execution_count": 11,
     "metadata": {},
     "output_type": "execute_result"
    }
   ],
   "source": [
    "df_vaex.shape\n",
    "df_vaex.head()\n",
    "df_vaex.tail()"
   ]
  },
  {
   "cell_type": "code",
   "execution_count": 16,
   "metadata": {},
   "outputs": [
    {
     "data": {
      "text/plain": [
       "array(22.71572581)"
      ]
     },
     "execution_count": 16,
     "metadata": {},
     "output_type": "execute_result"
    }
   ],
   "source": [
    "df_vaex.mean(df_vaex.Ward)"
   ]
  },
  {
   "cell_type": "code",
   "execution_count": 14,
   "metadata": {},
   "outputs": [],
   "source": [
    "df_vaex = vx.open('./proces.hdf5')\n"
   ]
  },
  {
   "cell_type": "code",
   "execution_count": 15,
   "metadata": {},
   "outputs": [
    {
     "data": {
      "text/html": [
       "<table>\n",
       "<thead>\n",
       "<tr><th>#                            </th><th style=\"text-align: right;\">      ID</th><th>Case Number  </th><th>Date                         </th><th>Block                  </th><th style=\"text-align: right;\">  IUCR</th><th>Primary Type  </th><th>Description            </th><th>Location Description          </th><th>Arrest  </th><th>Domestic  </th><th style=\"text-align: right;\">  Beat</th><th style=\"text-align: right;\">  District</th><th style=\"text-align: right;\">  Ward</th><th style=\"text-align: right;\">  Community Area</th><th>FBI Code  </th><th style=\"text-align: right;\">  X Coordinate</th><th style=\"text-align: right;\">  Y Coordinate</th><th style=\"text-align: right;\">  Year</th><th>Updated On            </th><th style=\"text-align: right;\">  Latitude</th><th style=\"text-align: right;\">  Longitude</th><th>Location                     </th></tr>\n",
       "</thead>\n",
       "<tbody>\n",
       "<tr><td><i style='opacity: 0.6'>0</i></td><td style=\"text-align: right;\">10224738</td><td>HY411648     </td><td>2015-09-05 13:30:00.000000000</td><td>043XX S WOOD ST        </td><td style=\"text-align: right;\">  0486</td><td>BATTERY       </td><td>DOMESTIC BATTERY SIMPLE</td><td>RESIDENCE                     </td><td>False   </td><td>True      </td><td style=\"text-align: right;\">   924</td><td style=\"text-align: right;\">         9</td><td style=\"text-align: right;\">    12</td><td style=\"text-align: right;\">              61</td><td>08B       </td><td style=\"text-align: right;\">   1.16507e+06</td><td style=\"text-align: right;\">   1.87592e+06</td><td style=\"text-align: right;\">  2015</td><td>02/10/2018 03:50:01 PM</td><td style=\"text-align: right;\">   41.8151</td><td style=\"text-align: right;\">   -87.67  </td><td>(41.815117282, -87.669999562)</td></tr>\n",
       "<tr><td><i style='opacity: 0.6'>1</i></td><td style=\"text-align: right;\">10224739</td><td>HY411615     </td><td>2015-09-04 11:30:00.000000000</td><td>008XX N CENTRAL AVE    </td><td style=\"text-align: right;\">  0870</td><td>THEFT         </td><td>POCKET-PICKING         </td><td>CTA BUS                       </td><td>False   </td><td>False     </td><td style=\"text-align: right;\">  1511</td><td style=\"text-align: right;\">        15</td><td style=\"text-align: right;\">    29</td><td style=\"text-align: right;\">              25</td><td>06        </td><td style=\"text-align: right;\">   1.13888e+06</td><td style=\"text-align: right;\">   1.90487e+06</td><td style=\"text-align: right;\">  2015</td><td>02/10/2018 03:50:01 PM</td><td style=\"text-align: right;\">   41.8951</td><td style=\"text-align: right;\">   -87.7654</td><td>(41.895080471, -87.765400451)</td></tr>\n",
       "<tr><td><i style='opacity: 0.6'>2</i></td><td style=\"text-align: right;\">10224740</td><td>HY411595     </td><td>2015-09-05 12:45:00.000000000</td><td>035XX W BARRY AVE      </td><td style=\"text-align: right;\">  2023</td><td>NARCOTICS     </td><td>POSS: HEROIN(BRN/TAN)  </td><td>SIDEWALK                      </td><td>True    </td><td>False     </td><td style=\"text-align: right;\">  1412</td><td style=\"text-align: right;\">        14</td><td style=\"text-align: right;\">    35</td><td style=\"text-align: right;\">              21</td><td>18        </td><td style=\"text-align: right;\">   1.15204e+06</td><td style=\"text-align: right;\">   1.92038e+06</td><td style=\"text-align: right;\">  2015</td><td>02/10/2018 03:50:01 PM</td><td style=\"text-align: right;\">   41.9374</td><td style=\"text-align: right;\">   -87.7166</td><td>(41.937405765, -87.716649687)</td></tr>\n",
       "<tr><td><i style='opacity: 0.6'>3</i></td><td style=\"text-align: right;\">10224741</td><td>HY411610     </td><td>2015-09-05 13:00:00.000000000</td><td>0000X N LARAMIE AVE    </td><td style=\"text-align: right;\">  0560</td><td>ASSAULT       </td><td>SIMPLE                 </td><td>APARTMENT                     </td><td>False   </td><td>True      </td><td style=\"text-align: right;\">  1522</td><td style=\"text-align: right;\">        15</td><td style=\"text-align: right;\">    28</td><td style=\"text-align: right;\">              25</td><td>08A       </td><td style=\"text-align: right;\">   1.14171e+06</td><td style=\"text-align: right;\">   1.90009e+06</td><td style=\"text-align: right;\">  2015</td><td>02/10/2018 03:50:01 PM</td><td style=\"text-align: right;\">   41.8819</td><td style=\"text-align: right;\">   -87.7551</td><td>(41.881903443, -87.755121152)</td></tr>\n",
       "<tr><td><i style='opacity: 0.6'>4</i></td><td style=\"text-align: right;\">10224742</td><td>HY411435     </td><td>2015-09-05 10:55:00.000000000</td><td>082XX S LOOMIS BLVD    </td><td style=\"text-align: right;\">  0610</td><td>BURGLARY      </td><td>FORCIBLE ENTRY         </td><td>RESIDENCE                     </td><td>False   </td><td>False     </td><td style=\"text-align: right;\">   614</td><td style=\"text-align: right;\">         6</td><td style=\"text-align: right;\">    21</td><td style=\"text-align: right;\">              71</td><td>05        </td><td style=\"text-align: right;\">   1.16843e+06</td><td style=\"text-align: right;\">   1.85016e+06</td><td style=\"text-align: right;\">  2015</td><td>02/10/2018 03:50:01 PM</td><td style=\"text-align: right;\">   41.7444</td><td style=\"text-align: right;\">   -87.6584</td><td>(41.744378879, -87.658430635)</td></tr>\n",
       "<tr><td><i style='opacity: 0.6'>5</i></td><td style=\"text-align: right;\">10224743</td><td>HY411629     </td><td>2015-09-04 18:00:00.000000000</td><td>021XX W CHURCHILL ST   </td><td style=\"text-align: right;\">  0620</td><td>BURGLARY      </td><td>UNLAWFUL ENTRY         </td><td>RESIDENCE-GARAGE              </td><td>False   </td><td>False     </td><td style=\"text-align: right;\">  1434</td><td style=\"text-align: right;\">        14</td><td style=\"text-align: right;\">    32</td><td style=\"text-align: right;\">              24</td><td>05        </td><td style=\"text-align: right;\">   1.16163e+06</td><td style=\"text-align: right;\">   1.91216e+06</td><td style=\"text-align: right;\">  2015</td><td>02/10/2018 03:50:01 PM</td><td style=\"text-align: right;\">   41.9146</td><td style=\"text-align: right;\">   -87.6816</td><td>(41.914635603, -87.681630909)</td></tr>\n",
       "<tr><td><i style='opacity: 0.6'>6</i></td><td style=\"text-align: right;\">10224744</td><td>HY411605     </td><td>2015-09-05 13:00:00.000000000</td><td>025XX W CERMAK RD      </td><td style=\"text-align: right;\">  0860</td><td>THEFT         </td><td>RETAIL THEFT           </td><td>GROCERY FOOD STORE            </td><td>True    </td><td>False     </td><td style=\"text-align: right;\">  1034</td><td style=\"text-align: right;\">        10</td><td style=\"text-align: right;\">    25</td><td style=\"text-align: right;\">              31</td><td>06        </td><td style=\"text-align: right;\">   1.15973e+06</td><td style=\"text-align: right;\">   1.88931e+06</td><td style=\"text-align: right;\">  2015</td><td>09/17/2015 11:37:18 AM</td><td style=\"text-align: right;\">   41.852 </td><td style=\"text-align: right;\">   -87.6892</td><td>(41.851988885, -87.689219118)</td></tr>\n",
       "<tr><td><i style='opacity: 0.6'>7</i></td><td style=\"text-align: right;\">10224745</td><td>HY411654     </td><td>2015-09-05 11:30:00.000000000</td><td>031XX W WASHINGTON BLVD</td><td style=\"text-align: right;\">  0320</td><td>ROBBERY       </td><td>STRONGARM - NO WEAPON  </td><td>STREET                        </td><td>False   </td><td>True      </td><td style=\"text-align: right;\">  1222</td><td style=\"text-align: right;\">        12</td><td style=\"text-align: right;\">    27</td><td style=\"text-align: right;\">              27</td><td>03        </td><td style=\"text-align: right;\">   1.15554e+06</td><td style=\"text-align: right;\">   1.90052e+06</td><td style=\"text-align: right;\">  2015</td><td>02/10/2018 03:50:01 PM</td><td style=\"text-align: right;\">   41.8828</td><td style=\"text-align: right;\">   -87.7043</td><td>(41.88281374, -87.704325717) </td></tr>\n",
       "<tr><td><i style='opacity: 0.6'>8</i></td><td style=\"text-align: right;\">10224746</td><td>HY411662     </td><td>2015-09-05 14:00:00.000000000</td><td>071XX S PULASKI RD     </td><td style=\"text-align: right;\">  0820</td><td>THEFT         </td><td>$500 AND UNDER         </td><td>PARKING LOT/GARAGE(NON.RESID.)</td><td>False   </td><td>False     </td><td style=\"text-align: right;\">   833</td><td style=\"text-align: right;\">         8</td><td style=\"text-align: right;\">    13</td><td style=\"text-align: right;\">              65</td><td>06        </td><td style=\"text-align: right;\">   1.15094e+06</td><td style=\"text-align: right;\">   1.85706e+06</td><td style=\"text-align: right;\">  2015</td><td>02/10/2018 03:50:01 PM</td><td style=\"text-align: right;\">   41.7636</td><td style=\"text-align: right;\">   -87.7223</td><td>(41.763647552, -87.722344693)</td></tr>\n",
       "<tr><td><i style='opacity: 0.6'>9</i></td><td style=\"text-align: right;\">10224749</td><td>HY411626     </td><td>2015-09-05 11:00:00.000000000</td><td>052XX N MILWAUKEE AVE  </td><td style=\"text-align: right;\">  0460</td><td>BATTERY       </td><td>SIMPLE                 </td><td>SMALL RETAIL STORE            </td><td>False   </td><td>False     </td><td style=\"text-align: right;\">  1623</td><td style=\"text-align: right;\">        16</td><td style=\"text-align: right;\">    45</td><td style=\"text-align: right;\">              11</td><td>08B       </td><td style=\"text-align: right;\">   1.13797e+06</td><td style=\"text-align: right;\">   1.93434e+06</td><td style=\"text-align: right;\">  2015</td><td>02/10/2018 03:50:01 PM</td><td style=\"text-align: right;\">   41.976 </td><td style=\"text-align: right;\">   -87.768 </td><td>(41.975968415, -87.768014257)</td></tr>\n",
       "</tbody>\n",
       "</table>"
      ],
      "text/plain": [
       "  #        ID  Case Number    Date                           Block                      IUCR  Primary Type    Description              Location Description            Arrest    Domestic      Beat    District    Ward    Community Area  FBI Code      X Coordinate    Y Coordinate    Year  Updated On                Latitude    Longitude  Location\n",
       "  0  10224738  HY411648       2015-09-05 13:30:00.000000000  043XX S WOOD ST            0486  BATTERY         DOMESTIC BATTERY SIMPLE  RESIDENCE                       False     True           924           9      12                61  08B            1.16507e+06     1.87592e+06    2015  02/10/2018 03:50:01 PM     41.8151     -87.67    (41.815117282, -87.669999562)\n",
       "  1  10224739  HY411615       2015-09-04 11:30:00.000000000  008XX N CENTRAL AVE        0870  THEFT           POCKET-PICKING           CTA BUS                         False     False         1511          15      29                25  06             1.13888e+06     1.90487e+06    2015  02/10/2018 03:50:01 PM     41.8951     -87.7654  (41.895080471, -87.765400451)\n",
       "  2  10224740  HY411595       2015-09-05 12:45:00.000000000  035XX W BARRY AVE          2023  NARCOTICS       POSS: HEROIN(BRN/TAN)    SIDEWALK                        True      False         1412          14      35                21  18             1.15204e+06     1.92038e+06    2015  02/10/2018 03:50:01 PM     41.9374     -87.7166  (41.937405765, -87.716649687)\n",
       "  3  10224741  HY411610       2015-09-05 13:00:00.000000000  0000X N LARAMIE AVE        0560  ASSAULT         SIMPLE                   APARTMENT                       False     True          1522          15      28                25  08A            1.14171e+06     1.90009e+06    2015  02/10/2018 03:50:01 PM     41.8819     -87.7551  (41.881903443, -87.755121152)\n",
       "  4  10224742  HY411435       2015-09-05 10:55:00.000000000  082XX S LOOMIS BLVD        0610  BURGLARY        FORCIBLE ENTRY           RESIDENCE                       False     False          614           6      21                71  05             1.16843e+06     1.85016e+06    2015  02/10/2018 03:50:01 PM     41.7444     -87.6584  (41.744378879, -87.658430635)\n",
       "  5  10224743  HY411629       2015-09-04 18:00:00.000000000  021XX W CHURCHILL ST       0620  BURGLARY        UNLAWFUL ENTRY           RESIDENCE-GARAGE                False     False         1434          14      32                24  05             1.16163e+06     1.91216e+06    2015  02/10/2018 03:50:01 PM     41.9146     -87.6816  (41.914635603, -87.681630909)\n",
       "  6  10224744  HY411605       2015-09-05 13:00:00.000000000  025XX W CERMAK RD          0860  THEFT           RETAIL THEFT             GROCERY FOOD STORE              True      False         1034          10      25                31  06             1.15973e+06     1.88931e+06    2015  09/17/2015 11:37:18 AM     41.852      -87.6892  (41.851988885, -87.689219118)\n",
       "  7  10224745  HY411654       2015-09-05 11:30:00.000000000  031XX W WASHINGTON BLVD    0320  ROBBERY         STRONGARM - NO WEAPON    STREET                          False     True          1222          12      27                27  03             1.15554e+06     1.90052e+06    2015  02/10/2018 03:50:01 PM     41.8828     -87.7043  (41.88281374, -87.704325717)\n",
       "  8  10224746  HY411662       2015-09-05 14:00:00.000000000  071XX S PULASKI RD         0820  THEFT           $500 AND UNDER           PARKING LOT/GARAGE(NON.RESID.)  False     False          833           8      13                65  06             1.15094e+06     1.85706e+06    2015  02/10/2018 03:50:01 PM     41.7636     -87.7223  (41.763647552, -87.722344693)\n",
       "  9  10224749  HY411626       2015-09-05 11:00:00.000000000  052XX N MILWAUKEE AVE      0460  BATTERY         SIMPLE                   SMALL RETAIL STORE              False     False         1623          16      45                11  08B            1.13797e+06     1.93434e+06    2015  02/10/2018 03:50:01 PM     41.976      -87.768   (41.975968415, -87.768014257)"
      ]
     },
     "execution_count": 15,
     "metadata": {},
     "output_type": "execute_result"
    }
   ],
   "source": [
    "df_vaex.head()"
   ]
  },
  {
   "cell_type": "code",
   "execution_count": 32,
   "metadata": {},
   "outputs": [],
   "source": [
    "# print column names\n",
    "df_vaex.columns\n",
    "\n",
    "# group by district\n",
    "district_crime = df_vaex.groupby('District').agg({\"District\": \"count\"})\n",
    "\n"
   ]
  },
  {
   "cell_type": "code",
   "execution_count": 38,
   "metadata": {},
   "outputs": [
    {
     "data": {
      "text/html": [
       "<table>\n",
       "<thead>\n",
       "<tr><th>#                            </th><th style=\"text-align: right;\">  District</th></tr>\n",
       "</thead>\n",
       "<tbody>\n",
       "<tr><td><i style='opacity: 0.6'>0</i></td><td style=\"text-align: right;\">    224185</td></tr>\n",
       "<tr><td><i style='opacity: 0.6'>1</i></td><td style=\"text-align: right;\">    441225</td></tr>\n",
       "<tr><td><i style='opacity: 0.6'>2</i></td><td style=\"text-align: right;\">    400259</td></tr>\n",
       "<tr><td><i style='opacity: 0.6'>3</i></td><td style=\"text-align: right;\">    388383</td></tr>\n",
       "<tr><td><i style='opacity: 0.6'>4</i></td><td style=\"text-align: right;\">    301070</td></tr>\n",
       "<tr><td><i style='opacity: 0.6'>5</i></td><td style=\"text-align: right;\">    333475</td></tr>\n",
       "<tr><td><i style='opacity: 0.6'>6</i></td><td style=\"text-align: right;\">    460928</td></tr>\n",
       "<tr><td><i style='opacity: 0.6'>7</i></td><td style=\"text-align: right;\">    225788</td></tr>\n",
       "<tr><td><i style='opacity: 0.6'>8</i></td><td style=\"text-align: right;\">    294827</td></tr>\n",
       "<tr><td><i style='opacity: 0.6'>9</i></td><td style=\"text-align: right;\">    274964</td></tr>\n",
       "</tbody>\n",
       "</table>"
      ],
      "text/plain": [
       "  #    District\n",
       "  0      224185\n",
       "  1      441225\n",
       "  2      400259\n",
       "  3      388383\n",
       "  4      301070\n",
       "  5      333475\n",
       "  6      460928\n",
       "  7      225788\n",
       "  8      294827\n",
       "  9      274964"
      ]
     },
     "execution_count": 38,
     "metadata": {},
     "output_type": "execute_result"
    }
   ],
   "source": [
    "# print groupby object\n",
    "district_crime.columns = [ 'Count','Districts']\n",
    "\n",
    "district_crime.tail()\n"
   ]
  }
 ],
 "metadata": {
  "interpreter": {
   "hash": "31f2aee4e71d21fbe5cf8b01ff0e069b9275f58929596ceb00d14d90e3e16cd6"
  },
  "kernelspec": {
   "display_name": "Python 3.8.9 64-bit",
   "language": "python",
   "name": "python3"
  },
  "language_info": {
   "codemirror_mode": {
    "name": "ipython",
    "version": 3
   },
   "file_extension": ".py",
   "mimetype": "text/x-python",
   "name": "python",
   "nbconvert_exporter": "python",
   "pygments_lexer": "ipython3",
   "version": "3.9.7"
  },
  "orig_nbformat": 4
 },
 "nbformat": 4,
 "nbformat_minor": 2
}
