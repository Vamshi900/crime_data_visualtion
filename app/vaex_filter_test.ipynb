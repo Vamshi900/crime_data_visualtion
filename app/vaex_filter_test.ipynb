{
 "cells": [
  {
   "cell_type": "code",
   "execution_count": 1,
   "metadata": {},
   "outputs": [],
   "source": [
    "import vaex as vx"
   ]
  },
  {
   "cell_type": "code",
   "execution_count": 2,
   "metadata": {},
   "outputs": [],
   "source": [
    "from datafilters.DataFilter import DataFilter\n"
   ]
  },
  {
   "cell_type": "code",
   "execution_count": null,
   "metadata": {},
   "outputs": [],
   "source": [
    "data_frame = vx.from_csv(\"./dataset/processed_full.csv\")\n"
   ]
  },
  {
   "cell_type": "code",
   "execution_count": 22,
   "metadata": {},
   "outputs": [],
   "source": [
    "\n",
    "filters = DataFilter(data_frame)"
   ]
  },
  {
   "cell_type": "code",
   "execution_count": 10,
   "metadata": {},
   "outputs": [
    {
     "data": {
      "text/plain": [
       "array(6797353)"
      ]
     },
     "execution_count": 10,
     "metadata": {},
     "output_type": "execute_result"
    }
   ],
   "source": [
    "# total cases test\n",
    "filters.get_total_cases()"
   ]
  },
  {
   "cell_type": "code",
   "execution_count": 11,
   "metadata": {},
   "outputs": [
    {
     "data": {
      "text/plain": [
       "[2001, 2002, 2003, 2004, 2005]"
      ]
     },
     "execution_count": 11,
     "metadata": {},
     "output_type": "execute_result"
    }
   ],
   "source": [
    "# years test\n",
    "filters.get_years()[:5]"
   ]
  },
  {
   "cell_type": "code",
   "execution_count": 12,
   "metadata": {},
   "outputs": [
    {
     "data": {
      "text/plain": [
       "['ARSON',\n",
       " 'ASSAULT',\n",
       " 'BATTERY',\n",
       " 'BURGLARY',\n",
       " 'CONCEALED CARRY LICENSE VIOLATION']"
      ]
     },
     "execution_count": 12,
     "metadata": {},
     "output_type": "execute_result"
    }
   ],
   "source": [
    "# get crime types test\n",
    "filters.get_crime_types()[:5]"
   ]
  },
  {
   "cell_type": "code",
   "execution_count": 13,
   "metadata": {},
   "outputs": [
    {
     "data": {
      "text/html": [
       "<table>\n",
       "<thead>\n",
       "<tr><th>#                            </th><th>District_Name  </th><th>Primary Type   </th><th style=\"text-align: right;\">  total_case</th></tr>\n",
       "</thead>\n",
       "<tbody>\n",
       "<tr><td><i style='opacity: 0.6'>0</i></td><td>Wentworth      </td><td>THEFT          </td><td style=\"text-align: right;\">       62179</td></tr>\n",
       "<tr><td><i style='opacity: 0.6'>1</i></td><td>Wentworth      </td><td>BATTERY        </td><td style=\"text-align: right;\">       61612</td></tr>\n",
       "<tr><td><i style='opacity: 0.6'>2</i></td><td>Wentworth      </td><td>CRIMINAL DAMAGE</td><td style=\"text-align: right;\">       31714</td></tr>\n",
       "<tr><td><i style='opacity: 0.6'>3</i></td><td>Wentworth      </td><td>NARCOTICS      </td><td style=\"text-align: right;\">       27582</td></tr>\n",
       "<tr><td><i style='opacity: 0.6'>4</i></td><td>Wentworth      </td><td>ASSAULT        </td><td style=\"text-align: right;\">       22238</td></tr>\n",
       "</tbody>\n",
       "</table>"
      ],
      "text/plain": [
       "  #  District_Name    Primary Type       total_case\n",
       "  0  Wentworth        THEFT                   62179\n",
       "  1  Wentworth        BATTERY                 61612\n",
       "  2  Wentworth        CRIMINAL DAMAGE         31714\n",
       "  3  Wentworth        NARCOTICS               27582\n",
       "  4  Wentworth        ASSAULT                 22238"
      ]
     },
     "execution_count": 13,
     "metadata": {},
     "output_type": "execute_result"
    }
   ],
   "source": [
    "# sunburst filter test\n",
    "tp= filters.sunburst_filter()\n",
    "tp.head(5)"
   ]
  },
  {
   "cell_type": "code",
   "execution_count": 15,
   "metadata": {},
   "outputs": [
    {
     "name": "stdout",
     "output_type": "stream",
     "text": [
      "820908\n"
     ]
    },
    {
     "data": {
      "text/plain": [
       "array(820908)"
      ]
     },
     "execution_count": 15,
     "metadata": {},
     "output_type": "execute_result"
    }
   ],
   "source": [
    "# # create selection test\n",
    "filters.create_selection(years=[2001, 2002, 2003], types=[], districts=[], months=[])\n",
    "filters.get_total_cases()"
   ]
  },
  {
   "cell_type": "code",
   "execution_count": 16,
   "metadata": {},
   "outputs": [
    {
     "data": {
      "text/html": [
       "<table>\n",
       "<thead>\n",
       "<tr><th>#                            </th><th>District_Name  </th><th>Primary Type   </th><th style=\"text-align: right;\">  total_case</th></tr>\n",
       "</thead>\n",
       "<tbody>\n",
       "<tr><td><i style='opacity: 0.6'>0</i></td><td>Wentworth      </td><td>BATTERY        </td><td style=\"text-align: right;\">        9691</td></tr>\n",
       "<tr><td><i style='opacity: 0.6'>1</i></td><td>Wentworth      </td><td>THEFT          </td><td style=\"text-align: right;\">        8048</td></tr>\n",
       "<tr><td><i style='opacity: 0.6'>2</i></td><td>Wentworth      </td><td>NARCOTICS      </td><td style=\"text-align: right;\">        5475</td></tr>\n",
       "<tr><td><i style='opacity: 0.6'>3</i></td><td>Wentworth      </td><td>CRIMINAL DAMAGE</td><td style=\"text-align: right;\">        4133</td></tr>\n",
       "<tr><td><i style='opacity: 0.6'>4</i></td><td>Wentworth      </td><td>ASSAULT        </td><td style=\"text-align: right;\">        2896</td></tr>\n",
       "</tbody>\n",
       "</table>"
      ],
      "text/plain": [
       "  #  District_Name    Primary Type       total_case\n",
       "  0  Wentworth        BATTERY                  9691\n",
       "  1  Wentworth        THEFT                    8048\n",
       "  2  Wentworth        NARCOTICS                5475\n",
       "  3  Wentworth        CRIMINAL DAMAGE          4133\n",
       "  4  Wentworth        ASSAULT                  2896"
      ]
     },
     "execution_count": 16,
     "metadata": {},
     "output_type": "execute_result"
    }
   ],
   "source": [
    "# sunburst filter test after selection\n",
    "tp= filters.sunburst_filter()\n",
    "tp.head(5)"
   ]
  },
  {
   "cell_type": "code",
   "execution_count": 17,
   "metadata": {},
   "outputs": [
    {
     "data": {
      "text/html": [
       "<table>\n",
       "<thead>\n",
       "<tr><th>#                            </th><th>District_Name  </th><th>Primary Type   </th><th style=\"text-align: right;\">  total_case</th></tr>\n",
       "</thead>\n",
       "<tbody>\n",
       "<tr><td><i style='opacity: 0.6'>0</i></td><td>Wentworth      </td><td>BATTERY        </td><td style=\"text-align: right;\">        9691</td></tr>\n",
       "<tr><td><i style='opacity: 0.6'>1</i></td><td>Wentworth      </td><td>THEFT          </td><td style=\"text-align: right;\">        8048</td></tr>\n",
       "<tr><td><i style='opacity: 0.6'>2</i></td><td>Wentworth      </td><td>NARCOTICS      </td><td style=\"text-align: right;\">        5475</td></tr>\n",
       "<tr><td><i style='opacity: 0.6'>3</i></td><td>Wentworth      </td><td>CRIMINAL DAMAGE</td><td style=\"text-align: right;\">        4133</td></tr>\n",
       "<tr><td><i style='opacity: 0.6'>4</i></td><td>Wentworth      </td><td>ASSAULT        </td><td style=\"text-align: right;\">        2896</td></tr>\n",
       "</tbody>\n",
       "</table>"
      ],
      "text/plain": [
       "  #  District_Name    Primary Type       total_case\n",
       "  0  Wentworth        BATTERY                  9691\n",
       "  1  Wentworth        THEFT                    8048\n",
       "  2  Wentworth        NARCOTICS                5475\n",
       "  3  Wentworth        CRIMINAL DAMAGE          4133\n",
       "  4  Wentworth        ASSAULT                  2896"
      ]
     },
     "execution_count": 17,
     "metadata": {},
     "output_type": "execute_result"
    }
   ],
   "source": [
    "# table filter test after selection\n",
    "tp= filters.table_filter()\n",
    "tp.head(5)"
   ]
  },
  {
   "cell_type": "code",
   "execution_count": 24,
   "metadata": {},
   "outputs": [
    {
     "name": "stdout",
     "output_type": "stream",
     "text": [
      "3888\n"
     ]
    },
    {
     "data": {
      "text/plain": [
       "array(3888)"
      ]
     },
     "execution_count": 24,
     "metadata": {},
     "output_type": "execute_result"
    }
   ],
   "source": [
    "# create selection test\n",
    "filters.create_selection(years=[2001], types=[], districts=[], months=[])\n",
    "filters.get_total_cases()"
   ]
  },
  {
   "cell_type": "code",
   "execution_count": 19,
   "metadata": {},
   "outputs": [
    {
     "data": {
      "text/html": [
       "<table>\n",
       "<thead>\n",
       "<tr><th>#                            </th><th>District_Name  </th><th>Primary Type       </th><th style=\"text-align: right;\">  total_case</th></tr>\n",
       "</thead>\n",
       "<tbody>\n",
       "<tr><td><i style='opacity: 0.6'>0</i></td><td>Wentworth      </td><td>THEFT              </td><td style=\"text-align: right;\">          60</td></tr>\n",
       "<tr><td><i style='opacity: 0.6'>1</i></td><td>Wentworth      </td><td>HOMICIDE           </td><td style=\"text-align: right;\">          27</td></tr>\n",
       "<tr><td><i style='opacity: 0.6'>2</i></td><td>Wentworth      </td><td>MOTOR VEHICLE THEFT</td><td style=\"text-align: right;\">          25</td></tr>\n",
       "<tr><td><i style='opacity: 0.6'>3</i></td><td>Wentworth      </td><td>DECEPTIVE PRACTICE </td><td style=\"text-align: right;\">          14</td></tr>\n",
       "<tr><td><i style='opacity: 0.6'>4</i></td><td>Wentworth      </td><td>OTHER OFFENSE      </td><td style=\"text-align: right;\">          14</td></tr>\n",
       "</tbody>\n",
       "</table>"
      ],
      "text/plain": [
       "  #  District_Name    Primary Type           total_case\n",
       "  0  Wentworth        THEFT                          60\n",
       "  1  Wentworth        HOMICIDE                       27\n",
       "  2  Wentworth        MOTOR VEHICLE THEFT            25\n",
       "  3  Wentworth        DECEPTIVE PRACTICE             14\n",
       "  4  Wentworth        OTHER OFFENSE                  14"
      ]
     },
     "execution_count": 19,
     "metadata": {},
     "output_type": "execute_result"
    }
   ],
   "source": [
    "tp= filters.table_filter()\n",
    "tp.head(5)"
   ]
  },
  {
   "cell_type": "code",
   "execution_count": 25,
   "metadata": {},
   "outputs": [
    {
     "data": {
      "text/plain": [
       "array(6797353)"
      ]
     },
     "execution_count": 25,
     "metadata": {},
     "output_type": "execute_result"
    }
   ],
   "source": [
    "filters.reset_data_frame()\n",
    "filters.get_total_cases()"
   ]
  }
 ],
 "metadata": {
  "interpreter": {
   "hash": "12b4e467ea31d8f99371a6f0578bcc232f449a01b1261ed6bc4c9694af517fff"
  },
  "kernelspec": {
   "display_name": "Python 3.8.10 64-bit ('3.8.10')",
   "language": "python",
   "name": "python3"
  },
  "language_info": {
   "codemirror_mode": {
    "name": "ipython",
    "version": 3
   },
   "file_extension": ".py",
   "mimetype": "text/x-python",
   "name": "python",
   "nbconvert_exporter": "python",
   "pygments_lexer": "ipython3",
   "version": "3.9.7"
  },
  "orig_nbformat": 4
 },
 "nbformat": 4,
 "nbformat_minor": 2
}
