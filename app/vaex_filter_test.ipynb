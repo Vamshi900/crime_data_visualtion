{
 "cells": [
  {
   "cell_type": "code",
   "execution_count": 1,
   "metadata": {},
   "outputs": [],
   "source": [
    "import vaex as vx"
   ]
  },
  {
   "cell_type": "code",
   "execution_count": 2,
   "metadata": {},
   "outputs": [],
   "source": [
    "from datafilters.DataFilter import DataFilter\n"
   ]
  },
  {
   "cell_type": "code",
   "execution_count": 3,
   "metadata": {},
   "outputs": [],
   "source": [
    "data_frame = vx.from_csv(\"./datasets/sample_data.csv\")\n"
   ]
  },
  {
   "cell_type": "code",
   "execution_count": 4,
   "metadata": {},
   "outputs": [],
   "source": [
    "\n",
    "filters = DataFilter(data_frame)"
   ]
  },
  {
   "cell_type": "code",
   "execution_count": 5,
   "metadata": {},
   "outputs": [
    {
     "data": {
      "text/plain": [
       "array(2200)"
      ]
     },
     "execution_count": 5,
     "metadata": {},
     "output_type": "execute_result"
    }
   ],
   "source": [
    "# total cases test\n",
    "filters.get_total_cases()"
   ]
  },
  {
   "cell_type": "code",
   "execution_count": 6,
   "metadata": {},
   "outputs": [
    {
     "data": {
      "text/plain": [
       "[2001, 2002, 2003, 2004, 2005]"
      ]
     },
     "execution_count": 6,
     "metadata": {},
     "output_type": "execute_result"
    }
   ],
   "source": [
    "# years test\n",
    "filters.get_years()[:5]"
   ]
  },
  {
   "cell_type": "code",
   "execution_count": 7,
   "metadata": {},
   "outputs": [
    {
     "data": {
      "text/plain": [
       "['ARSON',\n",
       " 'ASSAULT',\n",
       " 'BATTERY',\n",
       " 'BURGLARY',\n",
       " 'CONCEALED CARRY LICENSE VIOLATION']"
      ]
     },
     "execution_count": 7,
     "metadata": {},
     "output_type": "execute_result"
    }
   ],
   "source": [
    "# get crime types test\n",
    "filters.get_crime_types()[:5]"
   ]
  },
  {
   "cell_type": "code",
   "execution_count": 8,
   "metadata": {},
   "outputs": [
    {
     "data": {
      "text/html": [
       "<div>\n",
       "<style scoped>\n",
       "    .dataframe tbody tr th:only-of-type {\n",
       "        vertical-align: middle;\n",
       "    }\n",
       "\n",
       "    .dataframe tbody tr th {\n",
       "        vertical-align: top;\n",
       "    }\n",
       "\n",
       "    .dataframe thead th {\n",
       "        text-align: right;\n",
       "    }\n",
       "</style>\n",
       "<table border=\"1\" class=\"dataframe\">\n",
       "  <thead>\n",
       "    <tr style=\"text-align: right;\">\n",
       "      <th></th>\n",
       "      <th>labels</th>\n",
       "      <th>parents</th>\n",
       "      <th>values</th>\n",
       "    </tr>\n",
       "  </thead>\n",
       "  <tbody>\n",
       "    <tr>\n",
       "      <th>0</th>\n",
       "      <td>Wentworth</td>\n",
       "      <td>THEFT</td>\n",
       "      <td>29</td>\n",
       "    </tr>\n",
       "    <tr>\n",
       "      <th>1</th>\n",
       "      <td>Wentworth</td>\n",
       "      <td>BATTERY</td>\n",
       "      <td>21</td>\n",
       "    </tr>\n",
       "    <tr>\n",
       "      <th>2</th>\n",
       "      <td>Wentworth</td>\n",
       "      <td>CRIMINAL DAMAGE</td>\n",
       "      <td>14</td>\n",
       "    </tr>\n",
       "    <tr>\n",
       "      <th>3</th>\n",
       "      <td>Wentworth</td>\n",
       "      <td>ASSAULT</td>\n",
       "      <td>8</td>\n",
       "    </tr>\n",
       "    <tr>\n",
       "      <th>4</th>\n",
       "      <td>Wentworth</td>\n",
       "      <td>MOTOR VEHICLE THEFT</td>\n",
       "      <td>7</td>\n",
       "    </tr>\n",
       "  </tbody>\n",
       "</table>\n",
       "</div>"
      ],
      "text/plain": [
       "      labels              parents  values\n",
       "0  Wentworth                THEFT      29\n",
       "1  Wentworth              BATTERY      21\n",
       "2  Wentworth      CRIMINAL DAMAGE      14\n",
       "3  Wentworth              ASSAULT       8\n",
       "4  Wentworth  MOTOR VEHICLE THEFT       7"
      ]
     },
     "execution_count": 8,
     "metadata": {},
     "output_type": "execute_result"
    }
   ],
   "source": [
    "# sunburst filter test\n",
    "tp= filters.sunburst_filter(data_frame)\n",
    "tp.head(5)"
   ]
  },
  {
   "cell_type": "code",
   "execution_count": 9,
   "metadata": {},
   "outputs": [
    {
     "name": "stdout",
     "output_type": "stream",
     "text": [
      "before filter df  2200\n",
      "after filter selection 300\n"
     ]
    },
    {
     "data": {
      "text/plain": [
       "array(300)"
      ]
     },
     "execution_count": 9,
     "metadata": {},
     "output_type": "execute_result"
    }
   ],
   "source": [
    "# # create selection test\n",
    "filters.create_selection(years=[2001, 2002, 2003], types=[], districts=[], months=[])\n",
    "filters.get_total_cases()"
   ]
  },
  {
   "cell_type": "code",
   "execution_count": 10,
   "metadata": {},
   "outputs": [
    {
     "data": {
      "text/html": [
       "<div>\n",
       "<style scoped>\n",
       "    .dataframe tbody tr th:only-of-type {\n",
       "        vertical-align: middle;\n",
       "    }\n",
       "\n",
       "    .dataframe tbody tr th {\n",
       "        vertical-align: top;\n",
       "    }\n",
       "\n",
       "    .dataframe thead th {\n",
       "        text-align: right;\n",
       "    }\n",
       "</style>\n",
       "<table border=\"1\" class=\"dataframe\">\n",
       "  <thead>\n",
       "    <tr style=\"text-align: right;\">\n",
       "      <th></th>\n",
       "      <th>labels</th>\n",
       "      <th>parents</th>\n",
       "      <th>values</th>\n",
       "    </tr>\n",
       "  </thead>\n",
       "  <tbody>\n",
       "    <tr>\n",
       "      <th>0</th>\n",
       "      <td>Wentworth</td>\n",
       "      <td>THEFT</td>\n",
       "      <td>29</td>\n",
       "    </tr>\n",
       "    <tr>\n",
       "      <th>1</th>\n",
       "      <td>Wentworth</td>\n",
       "      <td>BATTERY</td>\n",
       "      <td>21</td>\n",
       "    </tr>\n",
       "    <tr>\n",
       "      <th>2</th>\n",
       "      <td>Wentworth</td>\n",
       "      <td>CRIMINAL DAMAGE</td>\n",
       "      <td>14</td>\n",
       "    </tr>\n",
       "    <tr>\n",
       "      <th>3</th>\n",
       "      <td>Wentworth</td>\n",
       "      <td>ASSAULT</td>\n",
       "      <td>8</td>\n",
       "    </tr>\n",
       "    <tr>\n",
       "      <th>4</th>\n",
       "      <td>Wentworth</td>\n",
       "      <td>MOTOR VEHICLE THEFT</td>\n",
       "      <td>7</td>\n",
       "    </tr>\n",
       "  </tbody>\n",
       "</table>\n",
       "</div>"
      ],
      "text/plain": [
       "      labels              parents  values\n",
       "0  Wentworth                THEFT      29\n",
       "1  Wentworth              BATTERY      21\n",
       "2  Wentworth      CRIMINAL DAMAGE      14\n",
       "3  Wentworth              ASSAULT       8\n",
       "4  Wentworth  MOTOR VEHICLE THEFT       7"
      ]
     },
     "execution_count": 10,
     "metadata": {},
     "output_type": "execute_result"
    }
   ],
   "source": [
    "# sunburst filter test after selection\n",
    "tp= filters.sunburst_filter(data_frame)\n",
    "tp.head(5)"
   ]
  },
  {
   "cell_type": "code",
   "execution_count": 11,
   "metadata": {},
   "outputs": [
    {
     "data": {
      "text/html": [
       "<table>\n",
       "<thead>\n",
       "<tr><th>#                            </th><th>District_Name  </th><th>Primary Type       </th><th style=\"text-align: right;\">  total_case</th></tr>\n",
       "</thead>\n",
       "<tbody>\n",
       "<tr><td><i style='opacity: 0.6'>0</i></td><td>Wentworth      </td><td>THEFT              </td><td style=\"text-align: right;\">          29</td></tr>\n",
       "<tr><td><i style='opacity: 0.6'>1</i></td><td>Wentworth      </td><td>BATTERY            </td><td style=\"text-align: right;\">          21</td></tr>\n",
       "<tr><td><i style='opacity: 0.6'>2</i></td><td>Wentworth      </td><td>CRIMINAL DAMAGE    </td><td style=\"text-align: right;\">          14</td></tr>\n",
       "<tr><td><i style='opacity: 0.6'>3</i></td><td>Wentworth      </td><td>ASSAULT            </td><td style=\"text-align: right;\">           8</td></tr>\n",
       "<tr><td><i style='opacity: 0.6'>4</i></td><td>Wentworth      </td><td>MOTOR VEHICLE THEFT</td><td style=\"text-align: right;\">           7</td></tr>\n",
       "</tbody>\n",
       "</table>"
      ],
      "text/plain": [
       "  #  District_Name    Primary Type           total_case\n",
       "  0  Wentworth        THEFT                          29\n",
       "  1  Wentworth        BATTERY                        21\n",
       "  2  Wentworth        CRIMINAL DAMAGE                14\n",
       "  3  Wentworth        ASSAULT                         8\n",
       "  4  Wentworth        MOTOR VEHICLE THEFT             7"
      ]
     },
     "execution_count": 11,
     "metadata": {},
     "output_type": "execute_result"
    }
   ],
   "source": [
    "# table filter test after selection\n",
    "tp= filters.create_ranking_filter(data_frame)\n",
    "tp.head(5)"
   ]
  },
  {
   "cell_type": "code",
   "execution_count": 12,
   "metadata": {},
   "outputs": [
    {
     "name": "stdout",
     "output_type": "stream",
     "text": [
      "before filter df  2200\n",
      "after filter selection 100\n"
     ]
    },
    {
     "data": {
      "text/plain": [
       "array(100)"
      ]
     },
     "execution_count": 12,
     "metadata": {},
     "output_type": "execute_result"
    }
   ],
   "source": [
    "# create selection test\n",
    "filters.create_selection(years=[2001], types=[], districts=[], months=[])\n",
    "filters.get_total_cases()"
   ]
  },
  {
   "cell_type": "code",
   "execution_count": 13,
   "metadata": {},
   "outputs": [
    {
     "data": {
      "text/html": [
       "<table>\n",
       "<thead>\n",
       "<tr><th>#                            </th><th>District_Name  </th><th>Primary Type       </th><th style=\"text-align: right;\">  total_case</th></tr>\n",
       "</thead>\n",
       "<tbody>\n",
       "<tr><td><i style='opacity: 0.6'>0</i></td><td>Wentworth      </td><td>THEFT              </td><td style=\"text-align: right;\">          29</td></tr>\n",
       "<tr><td><i style='opacity: 0.6'>1</i></td><td>Wentworth      </td><td>BATTERY            </td><td style=\"text-align: right;\">          21</td></tr>\n",
       "<tr><td><i style='opacity: 0.6'>2</i></td><td>Wentworth      </td><td>CRIMINAL DAMAGE    </td><td style=\"text-align: right;\">          14</td></tr>\n",
       "<tr><td><i style='opacity: 0.6'>3</i></td><td>Wentworth      </td><td>ASSAULT            </td><td style=\"text-align: right;\">           8</td></tr>\n",
       "<tr><td><i style='opacity: 0.6'>4</i></td><td>Wentworth      </td><td>MOTOR VEHICLE THEFT</td><td style=\"text-align: right;\">           7</td></tr>\n",
       "</tbody>\n",
       "</table>"
      ],
      "text/plain": [
       "  #  District_Name    Primary Type           total_case\n",
       "  0  Wentworth        THEFT                          29\n",
       "  1  Wentworth        BATTERY                        21\n",
       "  2  Wentworth        CRIMINAL DAMAGE                14\n",
       "  3  Wentworth        ASSAULT                         8\n",
       "  4  Wentworth        MOTOR VEHICLE THEFT             7"
      ]
     },
     "execution_count": 13,
     "metadata": {},
     "output_type": "execute_result"
    }
   ],
   "source": [
    "tp= filters.create_ranking_filter(data_frame)\n",
    "tp.head(5)"
   ]
  },
  {
   "cell_type": "code",
   "execution_count": 14,
   "metadata": {},
   "outputs": [
    {
     "data": {
      "text/plain": [
       "array(2200)"
      ]
     },
     "execution_count": 14,
     "metadata": {},
     "output_type": "execute_result"
    }
   ],
   "source": [
    "filters.reset_data_frame()\n",
    "filters.get_total_cases()"
   ]
  },
  {
   "cell_type": "code",
   "execution_count": 15,
   "metadata": {},
   "outputs": [
    {
     "data": {
      "text/plain": [
       "(#    Primary Type                       Arrest    count\n",
       " 0    LIQUOR LAW VIOLATION               True      2\n",
       " 1    OTHER OFFENSE                      True      21\n",
       " 2    THEFT                              True      42\n",
       " 3    WEAPONS VIOLATION                  True      25\n",
       " 4    CRIMINAL DAMAGE                    True      17\n",
       " ...  ...                                ...       ...\n",
       " 17   NARCOTICS                          True      191\n",
       " 18   INTERFERENCE WITH PUBLIC OFFICER   True      3\n",
       " 19   CONCEALED CARRY LICENSE VIOLATION  True      1\n",
       " 20   BATTERY                            True      79\n",
       " 21   ROBBERY                            True      7,\n",
       " #    Primary Type            Arrest    Count\n",
       " 0    OTHER OFFENSE           False     115\n",
       " 1    ARSON                   False     1\n",
       " 2    THEFT                   False     424\n",
       " 3    CRIMINAL DAMAGE         False     225\n",
       " 4    WEAPONS VIOLATION       False     8\n",
       " ...  ...                     ...       ...\n",
       " 16   DECEPTIVE PRACTICE      False     95\n",
       " 17   PUBLIC PEACE VIOLATION  False     1\n",
       " 18   NARCOTICS               False     2\n",
       " 19   BATTERY                 False     317\n",
       " 20   ROBBERY                 False     71)"
      ]
     },
     "execution_count": 15,
     "metadata": {},
     "output_type": "execute_result"
    }
   ],
   "source": [
    "filters.effective_pd_filter(data_frame)"
   ]
  },
  {
   "cell_type": "code",
   "execution_count": 16,
   "metadata": {},
   "outputs": [
    {
     "data": {
      "text/plain": [
       "(#    Month    Count\n",
       " 0    1        235\n",
       " 1    2        151\n",
       " 2    3        150\n",
       " 3    4        171\n",
       " 4    5        166\n",
       " ...  ...      ...\n",
       " 7    8        182\n",
       " 8    9        223\n",
       " 9    10       183\n",
       " 10   11       171\n",
       " 11   12       152,\n",
       " 183.33333333333334)"
      ]
     },
     "execution_count": 16,
     "metadata": {},
     "output_type": "execute_result"
    }
   ],
   "source": [
    "filters.holiday_crime_filter()"
   ]
  },
  {
   "cell_type": "code",
   "execution_count": 17,
   "metadata": {},
   "outputs": [
    {
     "data": {
      "text/html": [
       "<table>\n",
       "<thead>\n",
       "<tr><th>#                             </th><th>District_Name  </th><th>Domestic  </th><th>Count  </th></tr>\n",
       "</thead>\n",
       "<tbody>\n",
       "<tr><td><i style='opacity: 0.6'>0</i> </td><td>Near North     </td><td>True      </td><td>2      </td></tr>\n",
       "<tr><td><i style='opacity: 0.6'>1</i> </td><td>Deering        </td><td>True      </td><td>9      </td></tr>\n",
       "<tr><td><i style='opacity: 0.6'>2</i> </td><td>Morgan Park    </td><td>True      </td><td>9      </td></tr>\n",
       "<tr><td><i style='opacity: 0.6'>3</i> </td><td>Wentworth      </td><td>True      </td><td>16     </td></tr>\n",
       "<tr><td><i style='opacity: 0.6'>4</i> </td><td>Englewood      </td><td>True      </td><td>26     </td></tr>\n",
       "<tr><td>...                           </td><td>...            </td><td>...       </td><td>...    </td></tr>\n",
       "<tr><td><i style='opacity: 0.6'>17</i></td><td>Near West      </td><td>True      </td><td>15     </td></tr>\n",
       "<tr><td><i style='opacity: 0.6'>18</i></td><td>Albany Park    </td><td>True      </td><td>11     </td></tr>\n",
       "<tr><td><i style='opacity: 0.6'>19</i></td><td>Harrison       </td><td>True      </td><td>33     </td></tr>\n",
       "<tr><td><i style='opacity: 0.6'>20</i></td><td>Gresham        </td><td>True      </td><td>23     </td></tr>\n",
       "<tr><td><i style='opacity: 0.6'>21</i></td><td>Lincoln        </td><td>True      </td><td>2      </td></tr>\n",
       "</tbody>\n",
       "</table>"
      ],
      "text/plain": [
       "#    District_Name    Domestic    Count\n",
       "0    Near North       True        2\n",
       "1    Deering          True        9\n",
       "2    Morgan Park      True        9\n",
       "3    Wentworth        True        16\n",
       "4    Englewood        True        26\n",
       "...  ...              ...         ...\n",
       "17   Near West        True        15\n",
       "18   Albany Park      True        11\n",
       "19   Harrison         True        33\n",
       "20   Gresham          True        23\n",
       "21   Lincoln          True        2"
      ]
     },
     "execution_count": 17,
     "metadata": {},
     "output_type": "execute_result"
    }
   ],
   "source": [
    "filters.abuse_crime_filter()\n"
   ]
  },
  {
   "cell_type": "code",
   "execution_count": 18,
   "metadata": {},
   "outputs": [
    {
     "data": {
      "text/plain": [
       "(#    Day        District_Name    Count\n",
       " 0    Wednesday  Near North       10\n",
       " 1    Wednesday  Deering          18\n",
       " 2    Wednesday  Morgan Park      11\n",
       " 3    Wednesday  Wentworth        13\n",
       " 4    Wednesday  Englewood        20\n",
       " ...  ...        ...              ...\n",
       " 149  Friday     Grand Crossing   16\n",
       " 150  Friday     Albany Park      12\n",
       " 151  Friday     Harrison         26\n",
       " 152  Friday     Gresham          18\n",
       " 153  Friday     Lincoln          5,\n",
       " 14.285714285714286)"
      ]
     },
     "execution_count": 18,
     "metadata": {},
     "output_type": "execute_result"
    }
   ],
   "source": [
    "filters.weekday_crime_filter()\n"
   ]
  },
  {
   "cell_type": "code",
   "execution_count": 19,
   "metadata": {},
   "outputs": [
    {
     "data": {
      "text/plain": [
       "(#    Time    Count\n",
       " 0    08      87\n",
       " 1    19      120\n",
       " 2    06      45\n",
       " 3    09      100\n",
       " 4    23      100\n",
       " ...  ...     ...\n",
       " 19   18      128\n",
       " 20   14      109\n",
       " 21   05      34\n",
       " 22   22      101\n",
       " 23   03      50,\n",
       " 91.66666666666667)"
      ]
     },
     "execution_count": 19,
     "metadata": {},
     "output_type": "execute_result"
    }
   ],
   "source": [
    "filters.daytime_crime_filter()"
   ]
  },
  {
   "cell_type": "code",
   "execution_count": 20,
   "metadata": {},
   "outputs": [
    {
     "data": {
      "text/html": [
       "<table>\n",
       "<thead>\n",
       "<tr><th>#                             </th><th>Year  </th><th>Count  </th></tr>\n",
       "</thead>\n",
       "<tbody>\n",
       "<tr><td><i style='opacity: 0.6'>0</i> </td><td>2001  </td><td>100    </td></tr>\n",
       "<tr><td><i style='opacity: 0.6'>1</i> </td><td>2002  </td><td>100    </td></tr>\n",
       "<tr><td><i style='opacity: 0.6'>2</i> </td><td>2003  </td><td>100    </td></tr>\n",
       "<tr><td><i style='opacity: 0.6'>3</i> </td><td>2004  </td><td>100    </td></tr>\n",
       "<tr><td><i style='opacity: 0.6'>4</i> </td><td>2005  </td><td>100    </td></tr>\n",
       "<tr><td>...                           </td><td>...   </td><td>...    </td></tr>\n",
       "<tr><td><i style='opacity: 0.6'>17</i></td><td>2018  </td><td>100    </td></tr>\n",
       "<tr><td><i style='opacity: 0.6'>18</i></td><td>2019  </td><td>100    </td></tr>\n",
       "<tr><td><i style='opacity: 0.6'>19</i></td><td>2020  </td><td>100    </td></tr>\n",
       "<tr><td><i style='opacity: 0.6'>20</i></td><td>2021  </td><td>100    </td></tr>\n",
       "<tr><td><i style='opacity: 0.6'>21</i></td><td>2022  </td><td>100    </td></tr>\n",
       "</tbody>\n",
       "</table>"
      ],
      "text/plain": [
       "#    Year    Count\n",
       "0    2001    100\n",
       "1    2002    100\n",
       "2    2003    100\n",
       "3    2004    100\n",
       "4    2005    100\n",
       "...  ...     ...\n",
       "17   2018    100\n",
       "18   2019    100\n",
       "19   2020    100\n",
       "20   2021    100\n",
       "21   2022    100"
      ]
     },
     "execution_count": 20,
     "metadata": {},
     "output_type": "execute_result"
    }
   ],
   "source": [
    "filters.state_crime_filter()"
   ]
  }
 ],
 "metadata": {
  "interpreter": {
   "hash": "12b4e467ea31d8f99371a6f0578bcc232f449a01b1261ed6bc4c9694af517fff"
  },
  "kernelspec": {
   "display_name": "Python 3.8.10 64-bit ('3.8.10')",
   "language": "python",
   "name": "python3"
  },
  "language_info": {
   "codemirror_mode": {
    "name": "ipython",
    "version": 3
   },
   "file_extension": ".py",
   "mimetype": "text/x-python",
   "name": "python",
   "nbconvert_exporter": "python",
   "pygments_lexer": "ipython3",
   "version": "3.8.10"
  },
  "orig_nbformat": 4
 },
 "nbformat": 4,
 "nbformat_minor": 2
}
