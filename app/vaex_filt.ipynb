{
 "cells": [
  {
   "cell_type": "code",
   "execution_count": null,
   "metadata": {},
   "outputs": [],
   "source": [
    "pip install pyyaml\n"
   ]
  },
  {
   "cell_type": "code",
   "execution_count": null,
   "metadata": {},
   "outputs": [],
   "source": [
    "!pip uninstall pipenv\n",
    "!pip install pipenv"
   ]
  },
  {
   "cell_type": "code",
   "execution_count": 2,
   "metadata": {},
   "outputs": [
    {
     "name": "stdout",
     "output_type": "stream",
     "text": [
      "Requirement already satisfied: vaex in /home/codespace/.local/lib/python3.8/site-packages (4.8.0)\n",
      "Requirement already satisfied: vaex-jupyter<0.8,>=0.7.0 in /home/codespace/.local/lib/python3.8/site-packages (from vaex) (0.7.0)\n",
      "Requirement already satisfied: vaex-server<0.9,>=0.8.1 in /home/codespace/.local/lib/python3.8/site-packages (from vaex) (0.8.1)\n",
      "Requirement already satisfied: vaex-core<4.9,>=4.8.0 in /home/codespace/.local/lib/python3.8/site-packages (from vaex) (4.8.0)\n",
      "Requirement already satisfied: vaex-astro<0.10,>=0.9.0 in /home/codespace/.local/lib/python3.8/site-packages (from vaex) (0.9.0)\n",
      "Requirement already satisfied: vaex-viz<0.6,>=0.5.1 in /home/codespace/.local/lib/python3.8/site-packages (from vaex) (0.5.1)\n",
      "Requirement already satisfied: vaex-hdf5<0.13,>=0.12.0 in /home/codespace/.local/lib/python3.8/site-packages (from vaex) (0.12.0)\n",
      "Requirement already satisfied: vaex-ml<0.18,>=0.17.0 in /home/codespace/.local/lib/python3.8/site-packages (from vaex) (0.17.0)\n",
      "Requirement already satisfied: astropy in /home/codespace/.local/lib/python3.8/site-packages (from vaex-astro<0.10,>=0.9.0->vaex) (5.0.1)\n",
      "Requirement already satisfied: rich in /home/codespace/.local/lib/python3.8/site-packages (from vaex-core<4.9,>=4.8.0->vaex) (11.2.0)\n",
      "Requirement already satisfied: aplus in /home/codespace/.local/lib/python3.8/site-packages (from vaex-core<4.9,>=4.8.0->vaex) (0.11.0)\n",
      "Requirement already satisfied: pyyaml in /opt/python/3.8.12/lib/python3.8/site-packages (from vaex-core<4.9,>=4.8.0->vaex) (6.0)\n",
      "Requirement already satisfied: tabulate>=0.8.3 in /home/codespace/.local/lib/python3.8/site-packages (from vaex-core<4.9,>=4.8.0->vaex) (0.8.9)\n",
      "Requirement already satisfied: cloudpickle in /home/codespace/.local/lib/python3.8/site-packages (from vaex-core<4.9,>=4.8.0->vaex) (2.0.0)\n",
      "Requirement already satisfied: pandas in /home/codespace/.local/lib/python3.8/site-packages (from vaex-core<4.9,>=4.8.0->vaex) (1.3.5)\n",
      "Requirement already satisfied: nest-asyncio>=1.3.3 in /opt/python/3.8.12/lib/python3.8/site-packages (from vaex-core<4.9,>=4.8.0->vaex) (1.5.5)\n",
      "Requirement already satisfied: dask in /home/codespace/.local/lib/python3.8/site-packages (from vaex-core<4.9,>=4.8.0->vaex) (2022.2.0)\n",
      "Requirement already satisfied: frozendict!=2.2.0 in /home/codespace/.local/lib/python3.8/site-packages (from vaex-core<4.9,>=4.8.0->vaex) (2.3.0)\n",
      "Requirement already satisfied: future>=0.15.2 in /home/codespace/.local/lib/python3.8/site-packages (from vaex-core<4.9,>=4.8.0->vaex) (0.18.2)\n",
      "Requirement already satisfied: progressbar2 in /home/codespace/.local/lib/python3.8/site-packages (from vaex-core<4.9,>=4.8.0->vaex) (4.0.0)\n",
      "Collecting requests\n",
      "  Downloading requests-2.27.1-py2.py3-none-any.whl (63 kB)\n",
      "\u001b[2K     \u001b[90m━━━━━━━━━━━━━━━━━━━━━━━━━━━━━━━━━━━━━━━━\u001b[0m \u001b[32m63.1/63.1 KB\u001b[0m \u001b[31m3.1 MB/s\u001b[0m eta \u001b[36m0:00:00\u001b[0m\n",
      "\u001b[?25hRequirement already satisfied: six in /opt/python/3.8.12/lib/python3.8/site-packages (from vaex-core<4.9,>=4.8.0->vaex) (1.16.0)\n",
      "Requirement already satisfied: blake3 in /home/codespace/.local/lib/python3.8/site-packages (from vaex-core<4.9,>=4.8.0->vaex) (0.3.1)\n",
      "Requirement already satisfied: pydantic>=1.8.0 in /home/codespace/.local/lib/python3.8/site-packages (from vaex-core<4.9,>=4.8.0->vaex) (1.9.0)\n",
      "Requirement already satisfied: filelock in /home/codespace/.local/lib/python3.8/site-packages (from vaex-core<4.9,>=4.8.0->vaex) (3.5.1)\n",
      "Requirement already satisfied: pyarrow>=3.0 in /home/codespace/.local/lib/python3.8/site-packages (from vaex-core<4.9,>=4.8.0->vaex) (7.0.0)\n",
      "Requirement already satisfied: numpy>=1.16 in /home/codespace/.local/lib/python3.8/site-packages (from vaex-core<4.9,>=4.8.0->vaex) (1.21.5)\n",
      "Requirement already satisfied: h5py>=2.9 in /home/codespace/.local/lib/python3.8/site-packages (from vaex-hdf5<0.13,>=0.12.0->vaex) (3.6.0)\n",
      "Requirement already satisfied: ipyleaflet in /home/codespace/.local/lib/python3.8/site-packages (from vaex-jupyter<0.8,>=0.7.0->vaex) (0.15.0)\n",
      "Requirement already satisfied: ipyvolume>=0.4 in /home/codespace/.local/lib/python3.8/site-packages (from vaex-jupyter<0.8,>=0.7.0->vaex) (0.5.2)\n",
      "Requirement already satisfied: bqplot>=0.10.1 in /home/codespace/.local/lib/python3.8/site-packages (from vaex-jupyter<0.8,>=0.7.0->vaex) (0.12.33)\n",
      "Requirement already satisfied: ipympl in /home/codespace/.local/lib/python3.8/site-packages (from vaex-jupyter<0.8,>=0.7.0->vaex) (0.8.7)\n",
      "Requirement already satisfied: ipyvuetify<2,>=1.2.2 in /home/codespace/.local/lib/python3.8/site-packages (from vaex-jupyter<0.8,>=0.7.0->vaex) (1.8.2)\n",
      "Requirement already satisfied: xarray in /home/codespace/.local/lib/python3.8/site-packages (from vaex-jupyter<0.8,>=0.7.0->vaex) (0.21.1)\n",
      "Requirement already satisfied: jinja2 in /home/codespace/.local/lib/python3.8/site-packages (from vaex-ml<0.18,>=0.17.0->vaex) (3.0.3)\n",
      "Requirement already satisfied: traitlets in /opt/python/3.8.12/lib/python3.8/site-packages (from vaex-ml<0.18,>=0.17.0->vaex) (5.1.1)\n",
      "Requirement already satisfied: numba in /home/codespace/.local/lib/python3.8/site-packages (from vaex-ml<0.18,>=0.17.0->vaex) (0.55.1)\n",
      "Requirement already satisfied: tornado>4.1 in /opt/python/3.8.12/lib/python3.8/site-packages (from vaex-server<0.9,>=0.8.1->vaex) (6.1)\n",
      "Requirement already satisfied: uvicorn[standard] in /home/codespace/.local/lib/python3.8/site-packages (from vaex-server<0.9,>=0.8.1->vaex) (0.17.5)\n",
      "Requirement already satisfied: cachetools in /home/codespace/.local/lib/python3.8/site-packages (from vaex-server<0.9,>=0.8.1->vaex) (5.0.0)\n",
      "Requirement already satisfied: fastapi in /home/codespace/.local/lib/python3.8/site-packages (from vaex-server<0.9,>=0.8.1->vaex) (0.73.0)\n",
      "Requirement already satisfied: pillow in /home/codespace/.local/lib/python3.8/site-packages (from vaex-viz<0.6,>=0.5.1->vaex) (9.0.1)\n",
      "Requirement already satisfied: matplotlib>=1.3.1 in /home/codespace/.local/lib/python3.8/site-packages (from vaex-viz<0.6,>=0.5.1->vaex) (3.5.1)\n",
      "Requirement already satisfied: ipywidgets>=7.5.0 in /home/codespace/.local/lib/python3.8/site-packages (from bqplot>=0.10.1->vaex-jupyter<0.8,>=0.7.0->vaex) (7.6.5)\n",
      "Requirement already satisfied: traittypes>=0.0.6 in /home/codespace/.local/lib/python3.8/site-packages (from bqplot>=0.10.1->vaex-jupyter<0.8,>=0.7.0->vaex) (0.2.1)\n",
      "Requirement already satisfied: ipywebrtc in /home/codespace/.local/lib/python3.8/site-packages (from ipyvolume>=0.4->vaex-jupyter<0.8,>=0.7.0->vaex) (0.6.0)\n",
      "Requirement already satisfied: pythreejs>=1.0.0 in /home/codespace/.local/lib/python3.8/site-packages (from ipyvolume>=0.4->vaex-jupyter<0.8,>=0.7.0->vaex) (2.3.0)\n",
      "Requirement already satisfied: ipyvue<2,>=1.5 in /home/codespace/.local/lib/python3.8/site-packages (from ipyvuetify<2,>=1.2.2->vaex-jupyter<0.8,>=0.7.0->vaex) (1.7.0)\n",
      "Requirement already satisfied: packaging>=20.0 in /opt/python/3.8.12/lib/python3.8/site-packages (from matplotlib>=1.3.1->vaex-viz<0.6,>=0.5.1->vaex) (21.3)\n",
      "Requirement already satisfied: fonttools>=4.22.0 in /home/codespace/.local/lib/python3.8/site-packages (from matplotlib>=1.3.1->vaex-viz<0.6,>=0.5.1->vaex) (4.29.1)\n",
      "Requirement already satisfied: cycler>=0.10 in /home/codespace/.local/lib/python3.8/site-packages (from matplotlib>=1.3.1->vaex-viz<0.6,>=0.5.1->vaex) (0.11.0)\n",
      "Requirement already satisfied: python-dateutil>=2.7 in /opt/python/3.8.12/lib/python3.8/site-packages (from matplotlib>=1.3.1->vaex-viz<0.6,>=0.5.1->vaex) (2.8.2)\n",
      "Requirement already satisfied: pyparsing>=2.2.1 in /opt/python/3.8.12/lib/python3.8/site-packages (from matplotlib>=1.3.1->vaex-viz<0.6,>=0.5.1->vaex) (3.0.7)\n",
      "Requirement already satisfied: kiwisolver>=1.0.1 in /home/codespace/.local/lib/python3.8/site-packages (from matplotlib>=1.3.1->vaex-viz<0.6,>=0.5.1->vaex) (1.3.2)\n",
      "Requirement already satisfied: pytz>=2017.3 in /home/codespace/.local/lib/python3.8/site-packages (from pandas->vaex-core<4.9,>=4.8.0->vaex) (2021.3)\n",
      "Requirement already satisfied: typing-extensions>=3.7.4.3 in /home/codespace/.local/lib/python3.8/site-packages (from pydantic>=1.8.0->vaex-core<4.9,>=4.8.0->vaex) (4.1.1)\n",
      "Requirement already satisfied: pyerfa>=2.0 in /home/codespace/.local/lib/python3.8/site-packages (from astropy->vaex-astro<0.10,>=0.9.0->vaex) (2.0.0.1)\n",
      "Requirement already satisfied: toolz>=0.8.2 in /home/codespace/.local/lib/python3.8/site-packages (from dask->vaex-core<4.9,>=4.8.0->vaex) (0.11.2)\n",
      "Requirement already satisfied: partd>=0.3.10 in /home/codespace/.local/lib/python3.8/site-packages (from dask->vaex-core<4.9,>=4.8.0->vaex) (1.2.0)\n",
      "Requirement already satisfied: fsspec>=0.6.0 in /home/codespace/.local/lib/python3.8/site-packages (from dask->vaex-core<4.9,>=4.8.0->vaex) (2022.1.0)\n",
      "Requirement already satisfied: starlette==0.17.1 in /home/codespace/.local/lib/python3.8/site-packages (from fastapi->vaex-server<0.9,>=0.8.1->vaex) (0.17.1)\n",
      "Requirement already satisfied: anyio<4,>=3.0.0 in /home/codespace/.local/lib/python3.8/site-packages (from starlette==0.17.1->fastapi->vaex-server<0.9,>=0.8.1->vaex) (3.5.0)\n",
      "Requirement already satisfied: xyzservices>=2021.8.1 in /home/codespace/.local/lib/python3.8/site-packages (from ipyleaflet->vaex-jupyter<0.8,>=0.7.0->vaex) (2022.2.0)\n",
      "Requirement already satisfied: ipython<9 in /opt/python/3.8.12/lib/python3.8/site-packages (from ipympl->vaex-jupyter<0.8,>=0.7.0->vaex) (8.2.0)\n",
      "Requirement already satisfied: ipython-genutils in /home/codespace/.local/lib/python3.8/site-packages (from ipympl->vaex-jupyter<0.8,>=0.7.0->vaex) (0.2.0)\n",
      "Requirement already satisfied: MarkupSafe>=2.0 in /home/codespace/.local/lib/python3.8/site-packages (from jinja2->vaex-ml<0.18,>=0.17.0->vaex) (2.0.1)\n",
      "Requirement already satisfied: setuptools in /opt/python/3.8.12/lib/python3.8/site-packages (from numba->vaex-ml<0.18,>=0.17.0->vaex) (62.0.0)\n",
      "Requirement already satisfied: llvmlite<0.39,>=0.38.0rc1 in /home/codespace/.local/lib/python3.8/site-packages (from numba->vaex-ml<0.18,>=0.17.0->vaex) (0.38.0)\n",
      "Requirement already satisfied: python-utils>=3.0.0 in /home/codespace/.local/lib/python3.8/site-packages (from progressbar2->vaex-core<4.9,>=4.8.0->vaex) (3.1.0)\n",
      "Collecting charset-normalizer~=2.0.0\n",
      "  Downloading charset_normalizer-2.0.12-py3-none-any.whl (39 kB)\n",
      "Requirement already satisfied: certifi>=2017.4.17 in /opt/python/3.8.12/lib/python3.8/site-packages (from requests->vaex-core<4.9,>=4.8.0->vaex) (2021.10.8)\n",
      "Collecting urllib3<1.27,>=1.21.1\n",
      "  Downloading urllib3-1.26.9-py2.py3-none-any.whl (138 kB)\n",
      "\u001b[2K     \u001b[90m━━━━━━━━━━━━━━━━━━━━━━━━━━━━━━━━━━━━━━━\u001b[0m \u001b[32m139.0/139.0 KB\u001b[0m \u001b[31m7.5 MB/s\u001b[0m eta \u001b[36m0:00:00\u001b[0m\n",
      "\u001b[?25hCollecting idna<4,>=2.5\n",
      "  Downloading idna-3.3-py3-none-any.whl (61 kB)\n",
      "\u001b[2K     \u001b[90m━━━━━━━━━━━━━━━━━━━━━━━━━━━━━━━━━━━━━━━━\u001b[0m \u001b[32m61.2/61.2 KB\u001b[0m \u001b[31m3.1 MB/s\u001b[0m eta \u001b[36m0:00:00\u001b[0m\n",
      "\u001b[?25hRequirement already satisfied: colorama<0.5.0,>=0.4.0 in /home/codespace/.local/lib/python3.8/site-packages (from rich->vaex-core<4.9,>=4.8.0->vaex) (0.4.4)\n",
      "Requirement already satisfied: commonmark<0.10.0,>=0.9.0 in /home/codespace/.local/lib/python3.8/site-packages (from rich->vaex-core<4.9,>=4.8.0->vaex) (0.9.1)\n",
      "Requirement already satisfied: pygments<3.0.0,>=2.6.0 in /opt/python/3.8.12/lib/python3.8/site-packages (from rich->vaex-core<4.9,>=4.8.0->vaex) (2.11.2)\n",
      "Requirement already satisfied: h11>=0.8 in /home/codespace/.local/lib/python3.8/site-packages (from uvicorn[standard]->vaex-server<0.9,>=0.8.1->vaex) (0.13.0)\n",
      "Requirement already satisfied: asgiref>=3.4.0 in /home/codespace/.local/lib/python3.8/site-packages (from uvicorn[standard]->vaex-server<0.9,>=0.8.1->vaex) (3.5.0)\n",
      "Requirement already satisfied: click>=7.0 in /home/codespace/.local/lib/python3.8/site-packages (from uvicorn[standard]->vaex-server<0.9,>=0.8.1->vaex) (8.0.3)\n",
      "Requirement already satisfied: uvloop!=0.15.0,!=0.15.1,>=0.14.0 in /home/codespace/.local/lib/python3.8/site-packages (from uvicorn[standard]->vaex-server<0.9,>=0.8.1->vaex) (0.16.0)\n",
      "Requirement already satisfied: httptools<0.4.0,>=0.2.0 in /home/codespace/.local/lib/python3.8/site-packages (from uvicorn[standard]->vaex-server<0.9,>=0.8.1->vaex) (0.3.0)\n",
      "Requirement already satisfied: watchgod>=0.6 in /home/codespace/.local/lib/python3.8/site-packages (from uvicorn[standard]->vaex-server<0.9,>=0.8.1->vaex) (0.7)\n",
      "Requirement already satisfied: websockets>=10.0 in /home/codespace/.local/lib/python3.8/site-packages (from uvicorn[standard]->vaex-server<0.9,>=0.8.1->vaex) (10.1)\n",
      "Requirement already satisfied: python-dotenv>=0.13 in /home/codespace/.local/lib/python3.8/site-packages (from uvicorn[standard]->vaex-server<0.9,>=0.8.1->vaex) (0.19.2)\n",
      "Requirement already satisfied: pexpect>4.3 in /opt/python/3.8.12/lib/python3.8/site-packages (from ipython<9->ipympl->vaex-jupyter<0.8,>=0.7.0->vaex) (4.8.0)\n",
      "Requirement already satisfied: stack-data in /opt/python/3.8.12/lib/python3.8/site-packages (from ipython<9->ipympl->vaex-jupyter<0.8,>=0.7.0->vaex) (0.2.0)\n",
      "Requirement already satisfied: decorator in /opt/python/3.8.12/lib/python3.8/site-packages (from ipython<9->ipympl->vaex-jupyter<0.8,>=0.7.0->vaex) (5.1.1)\n",
      "Requirement already satisfied: prompt-toolkit!=3.0.0,!=3.0.1,<3.1.0,>=2.0.0 in /opt/python/3.8.12/lib/python3.8/site-packages (from ipython<9->ipympl->vaex-jupyter<0.8,>=0.7.0->vaex) (3.0.29)\n",
      "Requirement already satisfied: jedi>=0.16 in /opt/python/3.8.12/lib/python3.8/site-packages (from ipython<9->ipympl->vaex-jupyter<0.8,>=0.7.0->vaex) (0.18.1)\n",
      "Requirement already satisfied: matplotlib-inline in /opt/python/3.8.12/lib/python3.8/site-packages (from ipython<9->ipympl->vaex-jupyter<0.8,>=0.7.0->vaex) (0.1.3)\n",
      "Requirement already satisfied: pickleshare in /opt/python/3.8.12/lib/python3.8/site-packages (from ipython<9->ipympl->vaex-jupyter<0.8,>=0.7.0->vaex) (0.7.5)\n",
      "Requirement already satisfied: backcall in /opt/python/3.8.12/lib/python3.8/site-packages (from ipython<9->ipympl->vaex-jupyter<0.8,>=0.7.0->vaex) (0.2.0)\n",
      "Requirement already satisfied: ipykernel>=4.5.1 in /opt/python/3.8.12/lib/python3.8/site-packages (from ipywidgets>=7.5.0->bqplot>=0.10.1->vaex-jupyter<0.8,>=0.7.0->vaex) (6.12.1)\n",
      "Requirement already satisfied: widgetsnbextension~=3.5.0 in /home/codespace/.local/lib/python3.8/site-packages (from ipywidgets>=7.5.0->bqplot>=0.10.1->vaex-jupyter<0.8,>=0.7.0->vaex) (3.5.2)\n",
      "Requirement already satisfied: jupyterlab-widgets>=1.0.0 in /home/codespace/.local/lib/python3.8/site-packages (from ipywidgets>=7.5.0->bqplot>=0.10.1->vaex-jupyter<0.8,>=0.7.0->vaex) (1.0.2)\n",
      "Requirement already satisfied: nbformat>=4.2.0 in /home/codespace/.local/lib/python3.8/site-packages (from ipywidgets>=7.5.0->bqplot>=0.10.1->vaex-jupyter<0.8,>=0.7.0->vaex) (5.1.3)\n",
      "Requirement already satisfied: locket in /home/codespace/.local/lib/python3.8/site-packages (from partd>=0.3.10->dask->vaex-core<4.9,>=4.8.0->vaex) (0.2.1)\n",
      "Requirement already satisfied: ipydatawidgets>=1.1.1 in /home/codespace/.local/lib/python3.8/site-packages (from pythreejs>=1.0.0->ipyvolume>=0.4->vaex-jupyter<0.8,>=0.7.0->vaex) (4.2.0)\n",
      "Requirement already satisfied: sniffio>=1.1 in /home/codespace/.local/lib/python3.8/site-packages (from anyio<4,>=3.0.0->starlette==0.17.1->fastapi->vaex-server<0.9,>=0.8.1->vaex) (1.2.0)\n",
      "Requirement already satisfied: psutil in /opt/python/3.8.12/lib/python3.8/site-packages (from ipykernel>=4.5.1->ipywidgets>=7.5.0->bqplot>=0.10.1->vaex-jupyter<0.8,>=0.7.0->vaex) (5.9.0)\n",
      "Requirement already satisfied: jupyter-client>=6.1.12 in /opt/python/3.8.12/lib/python3.8/site-packages (from ipykernel>=4.5.1->ipywidgets>=7.5.0->bqplot>=0.10.1->vaex-jupyter<0.8,>=0.7.0->vaex) (7.2.2)\n",
      "Requirement already satisfied: debugpy>=1.0 in /opt/python/3.8.12/lib/python3.8/site-packages (from ipykernel>=4.5.1->ipywidgets>=7.5.0->bqplot>=0.10.1->vaex-jupyter<0.8,>=0.7.0->vaex) (1.6.0)\n",
      "Requirement already satisfied: parso<0.9.0,>=0.8.0 in /opt/python/3.8.12/lib/python3.8/site-packages (from jedi>=0.16->ipython<9->ipympl->vaex-jupyter<0.8,>=0.7.0->vaex) (0.8.3)\n",
      "Requirement already satisfied: jupyter-core in /opt/python/3.8.12/lib/python3.8/site-packages (from nbformat>=4.2.0->ipywidgets>=7.5.0->bqplot>=0.10.1->vaex-jupyter<0.8,>=0.7.0->vaex) (4.9.2)\n",
      "Requirement already satisfied: jsonschema!=2.5.0,>=2.4 in /home/codespace/.local/lib/python3.8/site-packages (from nbformat>=4.2.0->ipywidgets>=7.5.0->bqplot>=0.10.1->vaex-jupyter<0.8,>=0.7.0->vaex) (4.4.0)\n",
      "Requirement already satisfied: ptyprocess>=0.5 in /opt/python/3.8.12/lib/python3.8/site-packages (from pexpect>4.3->ipython<9->ipympl->vaex-jupyter<0.8,>=0.7.0->vaex) (0.7.0)\n",
      "Requirement already satisfied: wcwidth in /opt/python/3.8.12/lib/python3.8/site-packages (from prompt-toolkit!=3.0.0,!=3.0.1,<3.1.0,>=2.0.0->ipython<9->ipympl->vaex-jupyter<0.8,>=0.7.0->vaex) (0.2.5)\n",
      "Requirement already satisfied: notebook>=4.4.1 in /home/codespace/.local/lib/python3.8/site-packages (from widgetsnbextension~=3.5.0->ipywidgets>=7.5.0->bqplot>=0.10.1->vaex-jupyter<0.8,>=0.7.0->vaex) (6.4.8)\n",
      "Requirement already satisfied: pure-eval in /opt/python/3.8.12/lib/python3.8/site-packages (from stack-data->ipython<9->ipympl->vaex-jupyter<0.8,>=0.7.0->vaex) (0.2.2)\n",
      "Requirement already satisfied: asttokens in /opt/python/3.8.12/lib/python3.8/site-packages (from stack-data->ipython<9->ipympl->vaex-jupyter<0.8,>=0.7.0->vaex) (2.0.5)\n",
      "Requirement already satisfied: executing in /opt/python/3.8.12/lib/python3.8/site-packages (from stack-data->ipython<9->ipympl->vaex-jupyter<0.8,>=0.7.0->vaex) (0.8.3)\n",
      "Requirement already satisfied: importlib-resources>=1.4.0 in /home/codespace/.local/lib/python3.8/site-packages (from jsonschema!=2.5.0,>=2.4->nbformat>=4.2.0->ipywidgets>=7.5.0->bqplot>=0.10.1->vaex-jupyter<0.8,>=0.7.0->vaex) (5.4.0)\n",
      "Requirement already satisfied: pyrsistent!=0.17.0,!=0.17.1,!=0.17.2,>=0.14.0 in /home/codespace/.local/lib/python3.8/site-packages (from jsonschema!=2.5.0,>=2.4->nbformat>=4.2.0->ipywidgets>=7.5.0->bqplot>=0.10.1->vaex-jupyter<0.8,>=0.7.0->vaex) (0.18.1)\n",
      "Requirement already satisfied: attrs>=17.4.0 in /home/codespace/.local/lib/python3.8/site-packages (from jsonschema!=2.5.0,>=2.4->nbformat>=4.2.0->ipywidgets>=7.5.0->bqplot>=0.10.1->vaex-jupyter<0.8,>=0.7.0->vaex) (21.4.0)\n",
      "Requirement already satisfied: entrypoints in /opt/python/3.8.12/lib/python3.8/site-packages (from jupyter-client>=6.1.12->ipykernel>=4.5.1->ipywidgets>=7.5.0->bqplot>=0.10.1->vaex-jupyter<0.8,>=0.7.0->vaex) (0.4)\n",
      "Requirement already satisfied: pyzmq>=22.3 in /opt/python/3.8.12/lib/python3.8/site-packages (from jupyter-client>=6.1.12->ipykernel>=4.5.1->ipywidgets>=7.5.0->bqplot>=0.10.1->vaex-jupyter<0.8,>=0.7.0->vaex) (22.3.0)\n",
      "Requirement already satisfied: nbconvert in /home/codespace/.local/lib/python3.8/site-packages (from notebook>=4.4.1->widgetsnbextension~=3.5.0->ipywidgets>=7.5.0->bqplot>=0.10.1->vaex-jupyter<0.8,>=0.7.0->vaex) (6.4.2)\n",
      "Requirement already satisfied: Send2Trash>=1.8.0 in /home/codespace/.local/lib/python3.8/site-packages (from notebook>=4.4.1->widgetsnbextension~=3.5.0->ipywidgets>=7.5.0->bqplot>=0.10.1->vaex-jupyter<0.8,>=0.7.0->vaex) (1.8.0)\n",
      "Requirement already satisfied: prometheus-client in /home/codespace/.local/lib/python3.8/site-packages (from notebook>=4.4.1->widgetsnbextension~=3.5.0->ipywidgets>=7.5.0->bqplot>=0.10.1->vaex-jupyter<0.8,>=0.7.0->vaex) (0.13.1)\n",
      "Requirement already satisfied: argon2-cffi in /home/codespace/.local/lib/python3.8/site-packages (from notebook>=4.4.1->widgetsnbextension~=3.5.0->ipywidgets>=7.5.0->bqplot>=0.10.1->vaex-jupyter<0.8,>=0.7.0->vaex) (21.3.0)\n",
      "Requirement already satisfied: terminado>=0.8.3 in /home/codespace/.local/lib/python3.8/site-packages (from notebook>=4.4.1->widgetsnbextension~=3.5.0->ipywidgets>=7.5.0->bqplot>=0.10.1->vaex-jupyter<0.8,>=0.7.0->vaex) (0.13.1)\n",
      "Requirement already satisfied: zipp>=3.1.0 in /home/codespace/.local/lib/python3.8/site-packages (from importlib-resources>=1.4.0->jsonschema!=2.5.0,>=2.4->nbformat>=4.2.0->ipywidgets>=7.5.0->bqplot>=0.10.1->vaex-jupyter<0.8,>=0.7.0->vaex) (3.7.0)\n",
      "Requirement already satisfied: argon2-cffi-bindings in /home/codespace/.local/lib/python3.8/site-packages (from argon2-cffi->notebook>=4.4.1->widgetsnbextension~=3.5.0->ipywidgets>=7.5.0->bqplot>=0.10.1->vaex-jupyter<0.8,>=0.7.0->vaex) (21.2.0)\n",
      "Requirement already satisfied: jupyterlab-pygments in /home/codespace/.local/lib/python3.8/site-packages (from nbconvert->notebook>=4.4.1->widgetsnbextension~=3.5.0->ipywidgets>=7.5.0->bqplot>=0.10.1->vaex-jupyter<0.8,>=0.7.0->vaex) (0.1.2)\n",
      "Requirement already satisfied: nbclient<0.6.0,>=0.5.0 in /home/codespace/.local/lib/python3.8/site-packages (from nbconvert->notebook>=4.4.1->widgetsnbextension~=3.5.0->ipywidgets>=7.5.0->bqplot>=0.10.1->vaex-jupyter<0.8,>=0.7.0->vaex) (0.5.11)\n",
      "Requirement already satisfied: defusedxml in /home/codespace/.local/lib/python3.8/site-packages (from nbconvert->notebook>=4.4.1->widgetsnbextension~=3.5.0->ipywidgets>=7.5.0->bqplot>=0.10.1->vaex-jupyter<0.8,>=0.7.0->vaex) (0.7.1)\n",
      "Requirement already satisfied: bleach in /home/codespace/.local/lib/python3.8/site-packages (from nbconvert->notebook>=4.4.1->widgetsnbextension~=3.5.0->ipywidgets>=7.5.0->bqplot>=0.10.1->vaex-jupyter<0.8,>=0.7.0->vaex) (4.1.0)\n",
      "Requirement already satisfied: testpath in /home/codespace/.local/lib/python3.8/site-packages (from nbconvert->notebook>=4.4.1->widgetsnbextension~=3.5.0->ipywidgets>=7.5.0->bqplot>=0.10.1->vaex-jupyter<0.8,>=0.7.0->vaex) (0.5.0)\n",
      "Requirement already satisfied: mistune<2,>=0.8.1 in /home/codespace/.local/lib/python3.8/site-packages (from nbconvert->notebook>=4.4.1->widgetsnbextension~=3.5.0->ipywidgets>=7.5.0->bqplot>=0.10.1->vaex-jupyter<0.8,>=0.7.0->vaex) (0.8.4)\n",
      "Requirement already satisfied: pandocfilters>=1.4.1 in /home/codespace/.local/lib/python3.8/site-packages (from nbconvert->notebook>=4.4.1->widgetsnbextension~=3.5.0->ipywidgets>=7.5.0->bqplot>=0.10.1->vaex-jupyter<0.8,>=0.7.0->vaex) (1.5.0)\n",
      "Requirement already satisfied: cffi>=1.0.1 in /home/codespace/.local/lib/python3.8/site-packages (from argon2-cffi-bindings->argon2-cffi->notebook>=4.4.1->widgetsnbextension~=3.5.0->ipywidgets>=7.5.0->bqplot>=0.10.1->vaex-jupyter<0.8,>=0.7.0->vaex) (1.15.0)\n",
      "Requirement already satisfied: webencodings in /home/codespace/.local/lib/python3.8/site-packages (from bleach->nbconvert->notebook>=4.4.1->widgetsnbextension~=3.5.0->ipywidgets>=7.5.0->bqplot>=0.10.1->vaex-jupyter<0.8,>=0.7.0->vaex) (0.5.1)\n",
      "Requirement already satisfied: pycparser in /home/codespace/.local/lib/python3.8/site-packages (from cffi>=1.0.1->argon2-cffi-bindings->argon2-cffi->notebook>=4.4.1->widgetsnbextension~=3.5.0->ipywidgets>=7.5.0->bqplot>=0.10.1->vaex-jupyter<0.8,>=0.7.0->vaex) (2.21)\n",
      "Installing collected packages: urllib3, idna, charset-normalizer, requests\n",
      "\u001b[33m  WARNING: The script normalizer is installed in '/opt/python/3.8.12/bin' which is not on PATH.\n",
      "  Consider adding this directory to PATH or, if you prefer to suppress this warning, use --no-warn-script-location.\u001b[0m\u001b[33m\n",
      "\u001b[0mSuccessfully installed charset-normalizer-2.0.12 idna-3.3 requests-2.27.1 urllib3-1.26.9\n",
      "\u001b[33mWARNING: You are using pip version 22.0.3; however, version 22.0.4 is available.\n",
      "You should consider upgrading via the '/opt/python/latest/bin/python -m pip install --upgrade pip' command.\u001b[0m\u001b[33m\n",
      "\u001b[0mNote: you may need to restart the kernel to use updated packages.\n"
     ]
    }
   ],
   "source": [
    "pip install vaex"
   ]
  },
  {
   "cell_type": "code",
   "execution_count": 3,
   "metadata": {},
   "outputs": [],
   "source": [
    "import vaex as vx\n",
    "from filters.filters import FilterCreation\n",
    "from filter_values.vaex_filtes import LoadFilterValues"
   ]
  },
  {
   "cell_type": "markdown",
   "metadata": {},
   "source": [
    "# load data frame"
   ]
  },
  {
   "cell_type": "code",
   "execution_count": 4,
   "metadata": {},
   "outputs": [],
   "source": [
    "data_frame = vx.from_csv(\"./dataset/processed_crimes_sample_5000.csv\")"
   ]
  },
  {
   "cell_type": "code",
   "execution_count": 5,
   "metadata": {},
   "outputs": [
    {
     "data": {
      "text/html": [
       "<table>\n",
       "<thead>\n",
       "<tr><th>#                            </th><th style=\"text-align: right;\">  Year</th><th>Date               </th><th style=\"text-align: right;\">     ID</th><th>Case Number  </th><th>Date.1    </th><th>Block                </th><th style=\"text-align: right;\">  IUCR</th><th>Primary Type      </th><th>Description                   </th><th>Location Description  </th><th>Arrest  </th><th>Domestic  </th><th style=\"text-align: right;\">  Beat</th><th style=\"text-align: right;\">  District</th><th style=\"text-align: right;\">  Ward</th><th style=\"text-align: right;\">  Community Area</th><th>FBI Code  </th><th style=\"text-align: right;\">  X Coordinate</th><th style=\"text-align: right;\">  Y Coordinate</th><th style=\"text-align: right;\">  Year.1</th><th>Updated On            </th><th style=\"text-align: right;\">  Latitude</th><th style=\"text-align: right;\">  Longitude</th><th>Location                     </th><th>Datetime           </th><th>Day     </th><th>Time    </th><th style=\"text-align: right;\">  Month</th></tr>\n",
       "</thead>\n",
       "<tbody>\n",
       "<tr><td><i style='opacity: 0.6'>0</i></td><td style=\"text-align: right;\">  2001</td><td>2001-12-28 19:00:00</td><td style=\"text-align: right;\">1918721</td><td>G775843      </td><td>2001-12-28</td><td>027XX W JACKSON BLVD </td><td style=\"text-align: right;\">  5001</td><td>OTHER OFFENSE     </td><td>OTHER CRIME INVOLVING PROPERTY</td><td>STREET                </td><td>True    </td><td>False     </td><td style=\"text-align: right;\">  1125</td><td style=\"text-align: right;\">        11</td><td style=\"text-align: right;\">     2</td><td style=\"text-align: right;\">              27</td><td>26        </td><td style=\"text-align: right;\">   1.15839e+06</td><td style=\"text-align: right;\">   1.89862e+06</td><td style=\"text-align: right;\">    2001</td><td>08/17/2015 03:03:40 PM</td><td style=\"text-align: right;\">   41.8776</td><td style=\"text-align: right;\">   -87.6939</td><td>(41.877569562, -87.693904749)</td><td>2001-12-28 19:00:00</td><td>Friday  </td><td>19:00:00</td><td style=\"text-align: right;\">     12</td></tr>\n",
       "<tr><td><i style='opacity: 0.6'>1</i></td><td style=\"text-align: right;\">  2001</td><td>2001-10-16 00:01:00</td><td style=\"text-align: right;\">2123198</td><td>HH358469     </td><td>2001-10-16</td><td>071XX W GRAND AVE    </td><td style=\"text-align: right;\">  1150</td><td>DECEPTIVE PRACTICE</td><td>CREDIT CARD FRAUD             </td><td>OTHER                 </td><td>False   </td><td>True      </td><td style=\"text-align: right;\">  2512</td><td style=\"text-align: right;\">        25</td><td style=\"text-align: right;\">    36</td><td style=\"text-align: right;\">              18</td><td>11        </td><td style=\"text-align: right;\">   1.12785e+06</td><td style=\"text-align: right;\">   1.91526e+06</td><td style=\"text-align: right;\">    2001</td><td>08/17/2015 03:03:40 PM</td><td style=\"text-align: right;\">   41.9238</td><td style=\"text-align: right;\">   -87.8057</td><td>(41.923801639, -87.805661998)</td><td>2001-10-16 00:01:00</td><td>Tuesday </td><td>00:01:00</td><td style=\"text-align: right;\">     10</td></tr>\n",
       "<tr><td><i style='opacity: 0.6'>2</i></td><td style=\"text-align: right;\">  2001</td><td>2001-10-28 12:00:00</td><td style=\"text-align: right;\">2100699</td><td>HH332385     </td><td>2001-10-28</td><td>065XX S FRANCISCO AVE</td><td style=\"text-align: right;\">  1310</td><td>CRIMINAL DAMAGE   </td><td>TO PROPERTY                   </td><td>RESIDENCE             </td><td>False   </td><td>False     </td><td style=\"text-align: right;\">   831</td><td style=\"text-align: right;\">         8</td><td style=\"text-align: right;\">    15</td><td style=\"text-align: right;\">              66</td><td>14        </td><td style=\"text-align: right;\">   1.15822e+06</td><td style=\"text-align: right;\">   1.86092e+06</td><td style=\"text-align: right;\">    2001</td><td>08/17/2015 03:03:40 PM</td><td style=\"text-align: right;\">   41.7741</td><td style=\"text-align: right;\">   -87.6956</td><td>(41.774097713, -87.695556749)</td><td>2001-10-28 12:00:00</td><td>Sunday  </td><td>12:00:00</td><td style=\"text-align: right;\">     10</td></tr>\n",
       "<tr><td><i style='opacity: 0.6'>3</i></td><td style=\"text-align: right;\">  2001</td><td>2001-05-01 00:00:00</td><td style=\"text-align: right;\">3164428</td><td>HK164197     </td><td>2001-05-01</td><td>042XX W HARRISON ST  </td><td style=\"text-align: right;\">  0840</td><td>THEFT             </td><td>FINANCIAL ID THEFT: OVER $300 </td><td>RESIDENCE             </td><td>False   </td><td>False     </td><td style=\"text-align: right;\">  1132</td><td style=\"text-align: right;\">        11</td><td style=\"text-align: right;\">    24</td><td style=\"text-align: right;\">              26</td><td>06        </td><td style=\"text-align: right;\">   1.14788e+06</td><td style=\"text-align: right;\">   1.89705e+06</td><td style=\"text-align: right;\">    2001</td><td>03/31/2006 10:03:38 PM</td><td style=\"text-align: right;\">   41.8735</td><td style=\"text-align: right;\">   -87.7325</td><td>(41.873464135, -87.732524372)</td><td>2001-05-01 00:00:00</td><td>Tuesday </td><td>00:00:00</td><td style=\"text-align: right;\">      5</td></tr>\n",
       "<tr><td><i style='opacity: 0.6'>4</i></td><td style=\"text-align: right;\">  2001</td><td>2001-01-11 04:30:00</td><td style=\"text-align: right;\">    648</td><td>G021349      </td><td>2001-01-11</td><td>071XX S BENNETT AVE  </td><td style=\"text-align: right;\">  0110</td><td>HOMICIDE          </td><td>FIRST DEGREE MURDER           </td><td>APARTMENT             </td><td>True    </td><td>True      </td><td style=\"text-align: right;\">   333</td><td style=\"text-align: right;\">         3</td><td style=\"text-align: right;\">     5</td><td style=\"text-align: right;\">              43</td><td>01A       </td><td style=\"text-align: right;\">   1.18994e+06</td><td style=\"text-align: right;\">   1.85799e+06</td><td style=\"text-align: right;\">    2001</td><td>03/19/2019 04:11:22 PM</td><td style=\"text-align: right;\">   41.7654</td><td style=\"text-align: right;\">   -87.5794</td><td>(41.765361316, -87.579354115)</td><td>2001-01-11 04:30:00</td><td>Thursday</td><td>04:30:00</td><td style=\"text-align: right;\">      1</td></tr>\n",
       "</tbody>\n",
       "</table>"
      ],
      "text/plain": [
       "  #    Year  Date                      ID  Case Number    Date.1      Block                    IUCR  Primary Type        Description                     Location Description    Arrest    Domestic      Beat    District    Ward    Community Area  FBI Code      X Coordinate    Y Coordinate    Year.1  Updated On                Latitude    Longitude  Location                       Datetime             Day       Time        Month\n",
       "  0    2001  2001-12-28 19:00:00  1918721  G775843        2001-12-28  027XX W JACKSON BLVD     5001  OTHER OFFENSE       OTHER CRIME INVOLVING PROPERTY  STREET                  True      False         1125          11       2                27  26             1.15839e+06     1.89862e+06      2001  08/17/2015 03:03:40 PM     41.8776     -87.6939  (41.877569562, -87.693904749)  2001-12-28 19:00:00  Friday    19:00:00       12\n",
       "  1    2001  2001-10-16 00:01:00  2123198  HH358469       2001-10-16  071XX W GRAND AVE        1150  DECEPTIVE PRACTICE  CREDIT CARD FRAUD               OTHER                   False     True          2512          25      36                18  11             1.12785e+06     1.91526e+06      2001  08/17/2015 03:03:40 PM     41.9238     -87.8057  (41.923801639, -87.805661998)  2001-10-16 00:01:00  Tuesday   00:01:00       10\n",
       "  2    2001  2001-10-28 12:00:00  2100699  HH332385       2001-10-28  065XX S FRANCISCO AVE    1310  CRIMINAL DAMAGE     TO PROPERTY                     RESIDENCE               False     False          831           8      15                66  14             1.15822e+06     1.86092e+06      2001  08/17/2015 03:03:40 PM     41.7741     -87.6956  (41.774097713, -87.695556749)  2001-10-28 12:00:00  Sunday    12:00:00       10\n",
       "  3    2001  2001-05-01 00:00:00  3164428  HK164197       2001-05-01  042XX W HARRISON ST      0840  THEFT               FINANCIAL ID THEFT: OVER $300   RESIDENCE               False     False         1132          11      24                26  06             1.14788e+06     1.89705e+06      2001  03/31/2006 10:03:38 PM     41.8735     -87.7325  (41.873464135, -87.732524372)  2001-05-01 00:00:00  Tuesday   00:00:00        5\n",
       "  4    2001  2001-01-11 04:30:00      648  G021349        2001-01-11  071XX S BENNETT AVE      0110  HOMICIDE            FIRST DEGREE MURDER             APARTMENT               True      True           333           3       5                43  01A            1.18994e+06     1.85799e+06      2001  03/19/2019 04:11:22 PM     41.7654     -87.5794  (41.765361316, -87.579354115)  2001-01-11 04:30:00  Thursday  04:30:00        1"
      ]
     },
     "execution_count": 5,
     "metadata": {},
     "output_type": "execute_result"
    }
   ],
   "source": [
    "# print head\n",
    "data_frame.head(5)"
   ]
  },
  {
   "cell_type": "code",
   "execution_count": 6,
   "metadata": {},
   "outputs": [],
   "source": [
    "filters = FilterCreation(data_frame)\n"
   ]
  },
  {
   "cell_type": "code",
   "execution_count": 7,
   "metadata": {},
   "outputs": [
    {
     "data": {
      "text/plain": [
       "['Monday', 'Tuesday', 'Wednesday', 'Thursday', 'Friday', 'Saturday', 'Sunday']"
      ]
     },
     "execution_count": 7,
     "metadata": {},
     "output_type": "execute_result"
    }
   ],
   "source": [
    "df_slice_obj = LoadFilterValues(data_frame)\n",
    "df_slice_obj.get_days_of_week()\n",
    "\n",
    "\n"
   ]
  },
  {
   "cell_type": "code",
   "execution_count": 8,
   "metadata": {},
   "outputs": [
    {
     "data": {
      "text/plain": [
       "Year                      int64\n",
       "Date                     string\n",
       "ID                        int64\n",
       "Case Number              string\n",
       "Date.1                   string\n",
       "Block                    string\n",
       "IUCR                     string\n",
       "Primary Type             string\n",
       "Description              string\n",
       "Location Description     string\n",
       "Arrest                     bool\n",
       "Domestic                   bool\n",
       "Beat                      int64\n",
       "District                float64\n",
       "Ward                    float64\n",
       "Community Area          float64\n",
       "FBI Code                 string\n",
       "X Coordinate            float64\n",
       "Y Coordinate            float64\n",
       "Year.1                    int64\n",
       "Updated On               string\n",
       "Latitude                float64\n",
       "Longitude               float64\n",
       "Location                 string\n",
       "Datetime                 string\n",
       "Day                      string\n",
       "Time                     string\n",
       "Month                     int64\n",
       "dtype: object"
      ]
     },
     "execution_count": 8,
     "metadata": {},
     "output_type": "execute_result"
    }
   ],
   "source": [
    "data_frame.dtypes\n"
   ]
  },
  {
   "cell_type": "code",
   "execution_count": 19,
   "metadata": {},
   "outputs": [],
   "source": [
    "# create selection filter\n",
    "\n",
    "\n",
    "years=[2010,2011,2012,2013,2014,2015,2016,2017,2018]\n",
    "months=[1,2,3,4,5,6,7,8,9,10,11,12]\n",
    "types=[\"THEFT\",\"ASSAULT\",\"NARCOTICS\",\"BATTERY\",\"CRIMINAL DAMAGE\",\"OTHER OFFENSE\",\"ROBBERY\"]\n",
    "districts= [1,2,3,5,10]\n",
    "\n",
    "result =data_frame.select(data_frame.Month.isin([12]), mode='and')\n",
    "result= data_frame.select(data_frame[\"Year\"].isin([2001,2002,2003]), mode='and')\n",
    "result = data_frame.select(data_frame.District.isin(districts), mode='and')\n",
    "\n",
    "result = data_frame.select(data_frame.Month.isin(months), mode='and')\n",
    "result = data_frame.select(data_frame[\"Primary Type\"].isin(types), mode='and')"
   ]
  },
  {
   "cell_type": "code",
   "execution_count": 23,
   "metadata": {},
   "outputs": [
    {
     "data": {
      "text/plain": [
       "[2009, 2003, 2004, 2005, 2006]"
      ]
     },
     "execution_count": 23,
     "metadata": {},
     "output_type": "execute_result"
    }
   ],
   "source": [
    "# get years filter\n",
    "years = data_frame[\"Year\"].unique() # get unique years\n",
    "years[:5]"
   ]
  },
  {
   "cell_type": "code",
   "execution_count": 24,
   "metadata": {},
   "outputs": [
    {
     "data": {
      "text/plain": [
       "['LIQUOR LAW VIOLATION',\n",
       " 'OTHER OFFENSE',\n",
       " 'ARSON',\n",
       " 'OTHER NARCOTIC VIOLATION',\n",
       " 'THEFT']"
      ]
     },
     "execution_count": 24,
     "metadata": {},
     "output_type": "execute_result"
    }
   ],
   "source": [
    "# get_crime_types\n",
    "types = data_frame[\"Primary Type\"].unique() # get unique crime types\n",
    "types[:5]"
   ]
  }
 ],
 "metadata": {
  "interpreter": {
   "hash": "4f946df053fbf2b937619d3c5458e7af74262f9a954d8797ba0b27400bcafe06"
  },
  "kernelspec": {
   "display_name": "Python 3.8.12 64-bit",
   "language": "python",
   "name": "python3"
  },
  "language_info": {
   "codemirror_mode": {
    "name": "ipython",
    "version": 3
   },
   "file_extension": ".py",
   "mimetype": "text/x-python",
   "name": "python",
   "nbconvert_exporter": "python",
   "pygments_lexer": "ipython3",
   "version": "3.8.12"
  },
  "orig_nbformat": 4
 },
 "nbformat": 4,
 "nbformat_minor": 2
}
