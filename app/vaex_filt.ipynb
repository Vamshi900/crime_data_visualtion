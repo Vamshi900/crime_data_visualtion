{
 "cells": [
  {
   "cell_type": "code",
   "execution_count": null,
   "metadata": {},
   "outputs": [],
   "source": [
    "# pip install pyyaml\n"
   ]
  },
  {
   "cell_type": "code",
   "execution_count": 1,
   "metadata": {},
   "outputs": [],
   "source": [
    "# !pip uninstall pipenv\n",
    "# !pip install pipenv"
   ]
  },
  {
   "cell_type": "code",
   "execution_count": 2,
   "metadata": {},
   "outputs": [],
   "source": [
    "# pip install vaex"
   ]
  },
  {
   "cell_type": "code",
   "execution_count": 3,
   "metadata": {},
   "outputs": [],
   "source": [
    "import vaex as vx\n",
    "from filters.filters import FilterCreation\n",
    "from filter_values.vaex_filtes import LoadFilterValues"
   ]
  },
  {
   "cell_type": "markdown",
   "metadata": {},
   "source": [
    "# load data frame"
   ]
  },
  {
   "cell_type": "code",
   "execution_count": 4,
   "metadata": {},
   "outputs": [],
   "source": [
    "data_frame = vx.from_csv(\"./dataset/processed_crimes_sample_5000.csv\")\n",
    "# data_frame = vx.from_csv(\"./dataset/processed_full.csv\")"
   ]
  },
  {
   "cell_type": "code",
   "execution_count": 5,
   "metadata": {},
   "outputs": [
    {
     "data": {
      "text/html": [
       "<table>\n",
       "<thead>\n",
       "<tr><th>#                            </th><th>Date               </th><th style=\"text-align: right;\">      ID</th><th>Case Number  </th><th>Date.1    </th><th>Block              </th><th style=\"text-align: right;\">  IUCR</th><th>Primary Type  </th><th>Description            </th><th>Location Description  </th><th>Arrest  </th><th>Domestic  </th><th style=\"text-align: right;\">  Beat</th><th style=\"text-align: right;\">  District</th><th style=\"text-align: right;\">  Ward</th><th style=\"text-align: right;\">  Community Area</th><th>FBI Code  </th><th style=\"text-align: right;\">  X Coordinate</th><th style=\"text-align: right;\">  Y Coordinate</th><th style=\"text-align: right;\">  Year</th><th>Updated On            </th><th style=\"text-align: right;\">  Latitude</th><th style=\"text-align: right;\">  Longitude</th><th>Location                     </th><th>Datetime           </th><th>Day     </th><th>Time    </th><th style=\"text-align: right;\">  Month</th></tr>\n",
       "</thead>\n",
       "<tbody>\n",
       "<tr><td><i style='opacity: 0.6'>0</i></td><td>2015-09-05 13:30:00</td><td style=\"text-align: right;\">10224738</td><td>HY411648     </td><td>2015-09-05</td><td>043XX S WOOD ST    </td><td style=\"text-align: right;\">  0486</td><td>BATTERY       </td><td>DOMESTIC BATTERY SIMPLE</td><td>RESIDENCE             </td><td>False   </td><td>True      </td><td style=\"text-align: right;\">   924</td><td style=\"text-align: right;\">         9</td><td style=\"text-align: right;\">    12</td><td style=\"text-align: right;\">              61</td><td>08B       </td><td style=\"text-align: right;\">   1.16507e+06</td><td style=\"text-align: right;\">   1.87592e+06</td><td style=\"text-align: right;\">  2015</td><td>02/10/2018 03:50:01 PM</td><td style=\"text-align: right;\">   41.8151</td><td style=\"text-align: right;\">   -87.67  </td><td>(41.815117282, -87.669999562)</td><td>2015-09-05 13:30:00</td><td>Saturday</td><td>13:30:00</td><td style=\"text-align: right;\">      9</td></tr>\n",
       "<tr><td><i style='opacity: 0.6'>1</i></td><td>2015-09-04 11:30:00</td><td style=\"text-align: right;\">10224739</td><td>HY411615     </td><td>2015-09-04</td><td>008XX N CENTRAL AVE</td><td style=\"text-align: right;\">  0870</td><td>THEFT         </td><td>POCKET-PICKING         </td><td>CTA BUS               </td><td>False   </td><td>False     </td><td style=\"text-align: right;\">  1511</td><td style=\"text-align: right;\">        15</td><td style=\"text-align: right;\">    29</td><td style=\"text-align: right;\">              25</td><td>06        </td><td style=\"text-align: right;\">   1.13888e+06</td><td style=\"text-align: right;\">   1.90487e+06</td><td style=\"text-align: right;\">  2015</td><td>02/10/2018 03:50:01 PM</td><td style=\"text-align: right;\">   41.8951</td><td style=\"text-align: right;\">   -87.7654</td><td>(41.895080471, -87.765400451)</td><td>2015-09-04 11:30:00</td><td>Friday  </td><td>11:30:00</td><td style=\"text-align: right;\">      9</td></tr>\n",
       "<tr><td><i style='opacity: 0.6'>2</i></td><td>2015-09-05 12:45:00</td><td style=\"text-align: right;\">10224740</td><td>HY411595     </td><td>2015-09-05</td><td>035XX W BARRY AVE  </td><td style=\"text-align: right;\">  2023</td><td>NARCOTICS     </td><td>POSS: HEROIN(BRN/TAN)  </td><td>SIDEWALK              </td><td>True    </td><td>False     </td><td style=\"text-align: right;\">  1412</td><td style=\"text-align: right;\">        14</td><td style=\"text-align: right;\">    35</td><td style=\"text-align: right;\">              21</td><td>18        </td><td style=\"text-align: right;\">   1.15204e+06</td><td style=\"text-align: right;\">   1.92038e+06</td><td style=\"text-align: right;\">  2015</td><td>02/10/2018 03:50:01 PM</td><td style=\"text-align: right;\">   41.9374</td><td style=\"text-align: right;\">   -87.7166</td><td>(41.937405765, -87.716649687)</td><td>2015-09-05 12:45:00</td><td>Saturday</td><td>12:45:00</td><td style=\"text-align: right;\">      9</td></tr>\n",
       "<tr><td><i style='opacity: 0.6'>3</i></td><td>2015-09-05 13:00:00</td><td style=\"text-align: right;\">10224741</td><td>HY411610     </td><td>2015-09-05</td><td>0000X N LARAMIE AVE</td><td style=\"text-align: right;\">  0560</td><td>ASSAULT       </td><td>SIMPLE                 </td><td>APARTMENT             </td><td>False   </td><td>True      </td><td style=\"text-align: right;\">  1522</td><td style=\"text-align: right;\">        15</td><td style=\"text-align: right;\">    28</td><td style=\"text-align: right;\">              25</td><td>08A       </td><td style=\"text-align: right;\">   1.14171e+06</td><td style=\"text-align: right;\">   1.90009e+06</td><td style=\"text-align: right;\">  2015</td><td>02/10/2018 03:50:01 PM</td><td style=\"text-align: right;\">   41.8819</td><td style=\"text-align: right;\">   -87.7551</td><td>(41.881903443, -87.755121152)</td><td>2015-09-05 13:00:00</td><td>Saturday</td><td>13:00:00</td><td style=\"text-align: right;\">      9</td></tr>\n",
       "<tr><td><i style='opacity: 0.6'>4</i></td><td>2015-09-05 10:55:00</td><td style=\"text-align: right;\">10224742</td><td>HY411435     </td><td>2015-09-05</td><td>082XX S LOOMIS BLVD</td><td style=\"text-align: right;\">  0610</td><td>BURGLARY      </td><td>FORCIBLE ENTRY         </td><td>RESIDENCE             </td><td>False   </td><td>False     </td><td style=\"text-align: right;\">   614</td><td style=\"text-align: right;\">         6</td><td style=\"text-align: right;\">    21</td><td style=\"text-align: right;\">              71</td><td>05        </td><td style=\"text-align: right;\">   1.16843e+06</td><td style=\"text-align: right;\">   1.85016e+06</td><td style=\"text-align: right;\">  2015</td><td>02/10/2018 03:50:01 PM</td><td style=\"text-align: right;\">   41.7444</td><td style=\"text-align: right;\">   -87.6584</td><td>(41.744378879, -87.658430635)</td><td>2015-09-05 10:55:00</td><td>Saturday</td><td>10:55:00</td><td style=\"text-align: right;\">      9</td></tr>\n",
       "</tbody>\n",
       "</table>"
      ],
      "text/plain": [
       "  #  Date                       ID  Case Number    Date.1      Block                  IUCR  Primary Type    Description              Location Description    Arrest    Domestic      Beat    District    Ward    Community Area  FBI Code      X Coordinate    Y Coordinate    Year  Updated On                Latitude    Longitude  Location                       Datetime             Day       Time        Month\n",
       "  0  2015-09-05 13:30:00  10224738  HY411648       2015-09-05  043XX S WOOD ST        0486  BATTERY         DOMESTIC BATTERY SIMPLE  RESIDENCE               False     True           924           9      12                61  08B            1.16507e+06     1.87592e+06    2015  02/10/2018 03:50:01 PM     41.8151     -87.67    (41.815117282, -87.669999562)  2015-09-05 13:30:00  Saturday  13:30:00        9\n",
       "  1  2015-09-04 11:30:00  10224739  HY411615       2015-09-04  008XX N CENTRAL AVE    0870  THEFT           POCKET-PICKING           CTA BUS                 False     False         1511          15      29                25  06             1.13888e+06     1.90487e+06    2015  02/10/2018 03:50:01 PM     41.8951     -87.7654  (41.895080471, -87.765400451)  2015-09-04 11:30:00  Friday    11:30:00        9\n",
       "  2  2015-09-05 12:45:00  10224740  HY411595       2015-09-05  035XX W BARRY AVE      2023  NARCOTICS       POSS: HEROIN(BRN/TAN)    SIDEWALK                True      False         1412          14      35                21  18             1.15204e+06     1.92038e+06    2015  02/10/2018 03:50:01 PM     41.9374     -87.7166  (41.937405765, -87.716649687)  2015-09-05 12:45:00  Saturday  12:45:00        9\n",
       "  3  2015-09-05 13:00:00  10224741  HY411610       2015-09-05  0000X N LARAMIE AVE    0560  ASSAULT         SIMPLE                   APARTMENT               False     True          1522          15      28                25  08A            1.14171e+06     1.90009e+06    2015  02/10/2018 03:50:01 PM     41.8819     -87.7551  (41.881903443, -87.755121152)  2015-09-05 13:00:00  Saturday  13:00:00        9\n",
       "  4  2015-09-05 10:55:00  10224742  HY411435       2015-09-05  082XX S LOOMIS BLVD    0610  BURGLARY        FORCIBLE ENTRY           RESIDENCE               False     False          614           6      21                71  05             1.16843e+06     1.85016e+06    2015  02/10/2018 03:50:01 PM     41.7444     -87.6584  (41.744378879, -87.658430635)  2015-09-05 10:55:00  Saturday  10:55:00        9"
      ]
     },
     "execution_count": 5,
     "metadata": {},
     "output_type": "execute_result"
    }
   ],
   "source": [
    "# print head\n",
    "data_frame.head(5)"
   ]
  },
  {
   "cell_type": "code",
   "execution_count": 6,
   "metadata": {},
   "outputs": [],
   "source": [
    "filters = FilterCreation(data_frame)\n"
   ]
  },
  {
   "cell_type": "code",
   "execution_count": 7,
   "metadata": {},
   "outputs": [
    {
     "data": {
      "text/plain": [
       "['Monday', 'Tuesday', 'Wednesday', 'Thursday', 'Friday', 'Saturday', 'Sunday']"
      ]
     },
     "execution_count": 7,
     "metadata": {},
     "output_type": "execute_result"
    }
   ],
   "source": [
    "df_slice_obj = LoadFilterValues(data_frame)\n",
    "df_slice_obj.get_days_of_week()\n",
    "\n",
    "\n"
   ]
  },
  {
   "cell_type": "code",
   "execution_count": 8,
   "metadata": {},
   "outputs": [
    {
     "data": {
      "text/plain": [
       "Date                     string\n",
       "ID                        int64\n",
       "Case Number              string\n",
       "Date.1                   string\n",
       "Block                    string\n",
       "IUCR                     string\n",
       "Primary Type             string\n",
       "Description              string\n",
       "Location Description     string\n",
       "Arrest                     bool\n",
       "Domestic                   bool\n",
       "Beat                      int64\n",
       "District                float64\n",
       "Ward                    float64\n",
       "Community Area          float64\n",
       "FBI Code                 string\n",
       "X Coordinate            float64\n",
       "Y Coordinate            float64\n",
       "Year                      int64\n",
       "Updated On               string\n",
       "Latitude                float64\n",
       "Longitude               float64\n",
       "Location                 string\n",
       "Datetime                 string\n",
       "Day                      string\n",
       "Time                     string\n",
       "Month                     int64\n",
       "dtype: object"
      ]
     },
     "execution_count": 8,
     "metadata": {},
     "output_type": "execute_result"
    }
   ],
   "source": [
    "data_frame.dtypes\n"
   ]
  },
  {
   "cell_type": "code",
   "execution_count": 9,
   "metadata": {},
   "outputs": [],
   "source": [
    "# create selection filter\n",
    "\n",
    "\n",
    "years=[2010,2011,2012,2013,2014,2015,2016,2017,2018]\n",
    "months=[1,2,3,4,5,6,7,8,9,10,11,12]\n",
    "types=[\"THEFT\",\"ASSAULT\",\"NARCOTICS\",\"BATTERY\",\"CRIMINAL DAMAGE\",\"OTHER OFFENSE\",\"ROBBERY\"]\n",
    "districts= [1,2,3,5,10]\n",
    "\n",
    "result =data_frame.select(data_frame.Month.isin([12]), mode='and')\n",
    "result= data_frame.select(data_frame[\"Year\"].isin([2001,2002,2003]), mode='and')\n",
    "result = data_frame.select(data_frame.District.isin(districts), mode='and')\n",
    "\n",
    "result = data_frame.select(data_frame.Month.isin(months), mode='and')\n",
    "result = data_frame.select(data_frame[\"Primary Type\"].isin(types), mode='and')"
   ]
  },
  {
   "cell_type": "code",
   "execution_count": 10,
   "metadata": {},
   "outputs": [
    {
     "data": {
      "text/plain": [
       "[2012, 2005, 2015, 2013, 2014]"
      ]
     },
     "execution_count": 10,
     "metadata": {},
     "output_type": "execute_result"
    }
   ],
   "source": [
    "# get years filter\n",
    "years = data_frame[\"Year\"].unique() # get unique years\n",
    "years[:5]"
   ]
  },
  {
   "cell_type": "code",
   "execution_count": 11,
   "metadata": {},
   "outputs": [
    {
     "data": {
      "text/plain": [
       "['STALKING', 'HUMAN TRAFFICKING', 'ROBBERY', 'NON - CRIMINAL', 'OTHER OFFENSE']"
      ]
     },
     "execution_count": 11,
     "metadata": {},
     "output_type": "execute_result"
    }
   ],
   "source": [
    "# get_crime_types\n",
    "types = data_frame[\"Primary Type\"].unique() # get unique crime types\n",
    "types[:5]"
   ]
  },
  {
   "cell_type": "code",
   "execution_count": 12,
   "metadata": {},
   "outputs": [
    {
     "data": {
      "text/plain": [
       "{1: 'Central',\n",
       " 2: 'Wentworth',\n",
       " 3: 'Grand Crossing',\n",
       " 4: 'South Chicago',\n",
       " 5: 'Calumet',\n",
       " 6: 'Gresham',\n",
       " 7: 'Englewood',\n",
       " 8: 'Chicago Lawn',\n",
       " 9: 'Deering',\n",
       " 10: 'Ogden',\n",
       " 11: 'Harrison',\n",
       " 12: 'Near West',\n",
       " 14: 'Shakespeare',\n",
       " 15: 'Austin',\n",
       " 16: 'Jefferson Park',\n",
       " 17: 'Albany Park',\n",
       " 18: 'Near North',\n",
       " 19: 'Town Hall',\n",
       " 20: 'Lincoln',\n",
       " 21: 'Dis21',\n",
       " 22: 'Morgan Park',\n",
       " 23: 'dist23',\n",
       " 24: 'Rogers Park',\n",
       " 25: 'Grand Central',\n",
       " 31: 'dis31'}"
      ]
     },
     "execution_count": 12,
     "metadata": {},
     "output_type": "execute_result"
    }
   ],
   "source": [
    "fil_obj = LoadFilterValues(data_frame)\n",
    "dist_name_map = {1: \"Central\", 2: \"Wentworth\", 3: \"Grand Crossing\", 4: \"South Chicago\", 5: \"Calumet\",\n",
    "                        6: \"Gresham\", 7: \"Englewood\", 8: \"Chicago Lawn\", 9: \"Deering\", 10: \"Ogden\",\n",
    "                        11: \"Harrison\", 12: \"Near West\", 14: \"Shakespeare\", 15: \"Austin\", 16: \"Jefferson Park\",\n",
    "                        17: \"Albany Park\", 18: \"Near North\", 19: \"Town Hall\", 20: \"Lincoln\", 21:'Dis21',22: \"Morgan Park\",23:'dist23',\n",
    "                        24: \"Rogers Park\", 25: \"Grand Central\",31:\"dis31\"}\n",
    "dist_name_map"
   ]
  },
  {
   "cell_type": "code",
   "execution_count": 13,
   "metadata": {},
   "outputs": [
    {
     "data": {
      "text/html": [
       "<table>\n",
       "<thead>\n",
       "<tr><th>#                            </th><th>District_Name  </th><th>Primary Type      </th><th style=\"text-align: right;\">  total_case</th></tr>\n",
       "</thead>\n",
       "<tbody>\n",
       "<tr><td><i style='opacity: 0.6'>0</i></td><td>dis31          </td><td>NARCOTICS         </td><td style=\"text-align: right;\">          42</td></tr>\n",
       "<tr><td><i style='opacity: 0.6'>1</i></td><td>dis31          </td><td>DECEPTIVE PRACTICE</td><td style=\"text-align: right;\">          26</td></tr>\n",
       "<tr><td><i style='opacity: 0.6'>2</i></td><td>dis31          </td><td>CRIMINAL DAMAGE   </td><td style=\"text-align: right;\">          20</td></tr>\n",
       "<tr><td><i style='opacity: 0.6'>3</i></td><td>dis31          </td><td>THEFT             </td><td style=\"text-align: right;\">          20</td></tr>\n",
       "<tr><td><i style='opacity: 0.6'>4</i></td><td>dis31          </td><td>BATTERY           </td><td style=\"text-align: right;\">          18</td></tr>\n",
       "</tbody>\n",
       "</table>"
      ],
      "text/plain": [
       "  #  District_Name    Primary Type          total_case\n",
       "  0  dis31            NARCOTICS                     42\n",
       "  1  dis31            DECEPTIVE PRACTICE            26\n",
       "  2  dis31            CRIMINAL DAMAGE               20\n",
       "  3  dis31            THEFT                         20\n",
       "  4  dis31            BATTERY                       18"
      ]
     },
     "execution_count": 13,
     "metadata": {},
     "output_type": "execute_result"
    }
   ],
   "source": [
    "# create ranking table filter\n",
    "\n",
    "tp_df = data_frame.copy()\n",
    "tp_df['District_Name'] = tp_df.District.map(dist_name_map)\n",
    "\n",
    "tp_df = tp_df.groupby([tp_df[\"District_Name\"], tp_df[\"Primary Type\"]], agg={\n",
    "                                'total_case': vx.agg.count('Primary Type')})\n",
    "tp_df = tp_df.sort([\"District_Name\", 'total_case'], ascending=False)                                \n",
    "tp_df.head(5)                                "
   ]
  },
  {
   "cell_type": "code",
   "execution_count": 14,
   "metadata": {},
   "outputs": [
    {
     "data": {
      "text/html": [
       "<table>\n",
       "<thead>\n",
       "<tr><th>#                            </th><th>District_Name  </th><th>Primary Type      </th><th style=\"text-align: right;\">  total_case</th></tr>\n",
       "</thead>\n",
       "<tbody>\n",
       "<tr><td><i style='opacity: 0.6'>0</i></td><td>dis31          </td><td>NARCOTICS         </td><td style=\"text-align: right;\">          42</td></tr>\n",
       "<tr><td><i style='opacity: 0.6'>1</i></td><td>dis31          </td><td>DECEPTIVE PRACTICE</td><td style=\"text-align: right;\">          26</td></tr>\n",
       "<tr><td><i style='opacity: 0.6'>2</i></td><td>dis31          </td><td>CRIMINAL DAMAGE   </td><td style=\"text-align: right;\">          20</td></tr>\n",
       "<tr><td><i style='opacity: 0.6'>3</i></td><td>dis31          </td><td>THEFT             </td><td style=\"text-align: right;\">          20</td></tr>\n",
       "<tr><td><i style='opacity: 0.6'>4</i></td><td>dis31          </td><td>BATTERY           </td><td style=\"text-align: right;\">          18</td></tr>\n",
       "</tbody>\n",
       "</table>"
      ],
      "text/plain": [
       "  #  District_Name    Primary Type          total_case\n",
       "  0  dis31            NARCOTICS                     42\n",
       "  1  dis31            DECEPTIVE PRACTICE            26\n",
       "  2  dis31            CRIMINAL DAMAGE               20\n",
       "  3  dis31            THEFT                         20\n",
       "  4  dis31            BATTERY                       18"
      ]
     },
     "execution_count": 14,
     "metadata": {},
     "output_type": "execute_result"
    }
   ],
   "source": [
    "# createa sunburst filter\n",
    "tp_df = data_frame.copy()\n",
    "tp_df['District_Name'] = tp_df.District.map(dist_name_map)\n",
    "tp_df = tp_df.groupby([tp_df[\"District_Name\"], tp_df[\"Primary Type\"]], agg={\n",
    "                                'total_case': vx.agg.count('Primary Type')})\n",
    "tp_df = tp_df.sort([\"District_Name\", 'total_case'], ascending=False)\n",
    "tp_df.head(5)\n"
   ]
  }
 ],
 "metadata": {
  "interpreter": {
   "hash": "4f946df053fbf2b937619d3c5458e7af74262f9a954d8797ba0b27400bcafe06"
  },
  "kernelspec": {
   "display_name": "Python 3.8.12 64-bit",
   "language": "python",
   "name": "python3"
  },
  "language_info": {
   "codemirror_mode": {
    "name": "ipython",
    "version": 3
   },
   "file_extension": ".py",
   "mimetype": "text/x-python",
   "name": "python",
   "nbconvert_exporter": "python",
   "pygments_lexer": "ipython3",
   "version": "3.9.7"
  },
  "orig_nbformat": 4
 },
 "nbformat": 4,
 "nbformat_minor": 2
}
