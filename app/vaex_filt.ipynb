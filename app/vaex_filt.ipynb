{
 "cells": [
  {
   "cell_type": "code",
   "execution_count": 2,
   "metadata": {},
   "outputs": [],
   "source": [
    "# pip install pyyaml\n"
   ]
  },
  {
   "cell_type": "code",
   "execution_count": 3,
   "metadata": {},
   "outputs": [],
   "source": [
    "# !pip uninstall pipenv\n",
    "# !pip install pipenv"
   ]
  },
  {
   "cell_type": "code",
   "execution_count": 4,
   "metadata": {},
   "outputs": [],
   "source": [
    "# pip install vaex"
   ]
  },
  {
   "cell_type": "code",
   "execution_count": 5,
   "metadata": {},
   "outputs": [
    {
     "name": "stderr",
     "output_type": "stream",
     "text": [
      "/home/codespace/.local/lib/python3.8/site-packages/pandas/compat/__init__.py:124: UserWarning: Could not import the lzma module. Your installed Python is incomplete. Attempting to use lzma compression will result in a RuntimeError.\n",
      "  warnings.warn(msg)\n"
     ]
    }
   ],
   "source": [
    "import vaex as vx\n",
    "from filters.filters import FilterCreation\n",
    "from filter_values.vaex_filtes import LoadFilterValues"
   ]
  },
  {
   "cell_type": "markdown",
   "metadata": {},
   "source": [
    "# load data frame"
   ]
  },
  {
   "cell_type": "code",
   "execution_count": 6,
   "metadata": {},
   "outputs": [],
   "source": [
    "data_frame = vx.from_csv(\"./dataset/processed_crimes_sample_5000.csv\")"
   ]
  },
  {
   "cell_type": "code",
   "execution_count": 7,
   "metadata": {},
   "outputs": [
    {
     "data": {
      "text/html": [
       "<table>\n",
       "<thead>\n",
       "<tr><th>#                            </th><th style=\"text-align: right;\">  Year</th><th>Date               </th><th style=\"text-align: right;\">     ID</th><th>Case Number  </th><th>Date.1    </th><th>Block                </th><th style=\"text-align: right;\">  IUCR</th><th>Primary Type      </th><th>Description                   </th><th>Location Description  </th><th>Arrest  </th><th>Domestic  </th><th style=\"text-align: right;\">  Beat</th><th style=\"text-align: right;\">  District</th><th style=\"text-align: right;\">  Ward</th><th style=\"text-align: right;\">  Community Area</th><th>FBI Code  </th><th style=\"text-align: right;\">  X Coordinate</th><th style=\"text-align: right;\">  Y Coordinate</th><th style=\"text-align: right;\">  Year.1</th><th>Updated On            </th><th style=\"text-align: right;\">  Latitude</th><th style=\"text-align: right;\">  Longitude</th><th>Location                     </th><th>Datetime           </th><th>Day     </th><th>Time    </th><th style=\"text-align: right;\">  Month</th></tr>\n",
       "</thead>\n",
       "<tbody>\n",
       "<tr><td><i style='opacity: 0.6'>0</i></td><td style=\"text-align: right;\">  2001</td><td>2001-12-28 19:00:00</td><td style=\"text-align: right;\">1918721</td><td>G775843      </td><td>2001-12-28</td><td>027XX W JACKSON BLVD </td><td style=\"text-align: right;\">  5001</td><td>OTHER OFFENSE     </td><td>OTHER CRIME INVOLVING PROPERTY</td><td>STREET                </td><td>True    </td><td>False     </td><td style=\"text-align: right;\">  1125</td><td style=\"text-align: right;\">        11</td><td style=\"text-align: right;\">     2</td><td style=\"text-align: right;\">              27</td><td>26        </td><td style=\"text-align: right;\">   1.15839e+06</td><td style=\"text-align: right;\">   1.89862e+06</td><td style=\"text-align: right;\">    2001</td><td>08/17/2015 03:03:40 PM</td><td style=\"text-align: right;\">   41.8776</td><td style=\"text-align: right;\">   -87.6939</td><td>(41.877569562, -87.693904749)</td><td>2001-12-28 19:00:00</td><td>Friday  </td><td>19:00:00</td><td style=\"text-align: right;\">     12</td></tr>\n",
       "<tr><td><i style='opacity: 0.6'>1</i></td><td style=\"text-align: right;\">  2001</td><td>2001-10-16 00:01:00</td><td style=\"text-align: right;\">2123198</td><td>HH358469     </td><td>2001-10-16</td><td>071XX W GRAND AVE    </td><td style=\"text-align: right;\">  1150</td><td>DECEPTIVE PRACTICE</td><td>CREDIT CARD FRAUD             </td><td>OTHER                 </td><td>False   </td><td>True      </td><td style=\"text-align: right;\">  2512</td><td style=\"text-align: right;\">        25</td><td style=\"text-align: right;\">    36</td><td style=\"text-align: right;\">              18</td><td>11        </td><td style=\"text-align: right;\">   1.12785e+06</td><td style=\"text-align: right;\">   1.91526e+06</td><td style=\"text-align: right;\">    2001</td><td>08/17/2015 03:03:40 PM</td><td style=\"text-align: right;\">   41.9238</td><td style=\"text-align: right;\">   -87.8057</td><td>(41.923801639, -87.805661998)</td><td>2001-10-16 00:01:00</td><td>Tuesday </td><td>00:01:00</td><td style=\"text-align: right;\">     10</td></tr>\n",
       "<tr><td><i style='opacity: 0.6'>2</i></td><td style=\"text-align: right;\">  2001</td><td>2001-10-28 12:00:00</td><td style=\"text-align: right;\">2100699</td><td>HH332385     </td><td>2001-10-28</td><td>065XX S FRANCISCO AVE</td><td style=\"text-align: right;\">  1310</td><td>CRIMINAL DAMAGE   </td><td>TO PROPERTY                   </td><td>RESIDENCE             </td><td>False   </td><td>False     </td><td style=\"text-align: right;\">   831</td><td style=\"text-align: right;\">         8</td><td style=\"text-align: right;\">    15</td><td style=\"text-align: right;\">              66</td><td>14        </td><td style=\"text-align: right;\">   1.15822e+06</td><td style=\"text-align: right;\">   1.86092e+06</td><td style=\"text-align: right;\">    2001</td><td>08/17/2015 03:03:40 PM</td><td style=\"text-align: right;\">   41.7741</td><td style=\"text-align: right;\">   -87.6956</td><td>(41.774097713, -87.695556749)</td><td>2001-10-28 12:00:00</td><td>Sunday  </td><td>12:00:00</td><td style=\"text-align: right;\">     10</td></tr>\n",
       "<tr><td><i style='opacity: 0.6'>3</i></td><td style=\"text-align: right;\">  2001</td><td>2001-05-01 00:00:00</td><td style=\"text-align: right;\">3164428</td><td>HK164197     </td><td>2001-05-01</td><td>042XX W HARRISON ST  </td><td style=\"text-align: right;\">  0840</td><td>THEFT             </td><td>FINANCIAL ID THEFT: OVER $300 </td><td>RESIDENCE             </td><td>False   </td><td>False     </td><td style=\"text-align: right;\">  1132</td><td style=\"text-align: right;\">        11</td><td style=\"text-align: right;\">    24</td><td style=\"text-align: right;\">              26</td><td>06        </td><td style=\"text-align: right;\">   1.14788e+06</td><td style=\"text-align: right;\">   1.89705e+06</td><td style=\"text-align: right;\">    2001</td><td>03/31/2006 10:03:38 PM</td><td style=\"text-align: right;\">   41.8735</td><td style=\"text-align: right;\">   -87.7325</td><td>(41.873464135, -87.732524372)</td><td>2001-05-01 00:00:00</td><td>Tuesday </td><td>00:00:00</td><td style=\"text-align: right;\">      5</td></tr>\n",
       "<tr><td><i style='opacity: 0.6'>4</i></td><td style=\"text-align: right;\">  2001</td><td>2001-01-11 04:30:00</td><td style=\"text-align: right;\">    648</td><td>G021349      </td><td>2001-01-11</td><td>071XX S BENNETT AVE  </td><td style=\"text-align: right;\">  0110</td><td>HOMICIDE          </td><td>FIRST DEGREE MURDER           </td><td>APARTMENT             </td><td>True    </td><td>True      </td><td style=\"text-align: right;\">   333</td><td style=\"text-align: right;\">         3</td><td style=\"text-align: right;\">     5</td><td style=\"text-align: right;\">              43</td><td>01A       </td><td style=\"text-align: right;\">   1.18994e+06</td><td style=\"text-align: right;\">   1.85799e+06</td><td style=\"text-align: right;\">    2001</td><td>03/19/2019 04:11:22 PM</td><td style=\"text-align: right;\">   41.7654</td><td style=\"text-align: right;\">   -87.5794</td><td>(41.765361316, -87.579354115)</td><td>2001-01-11 04:30:00</td><td>Thursday</td><td>04:30:00</td><td style=\"text-align: right;\">      1</td></tr>\n",
       "</tbody>\n",
       "</table>"
      ],
      "text/plain": [
       "  #    Year  Date                      ID  Case Number    Date.1      Block                    IUCR  Primary Type        Description                     Location Description    Arrest    Domestic      Beat    District    Ward    Community Area  FBI Code      X Coordinate    Y Coordinate    Year.1  Updated On                Latitude    Longitude  Location                       Datetime             Day       Time        Month\n",
       "  0    2001  2001-12-28 19:00:00  1918721  G775843        2001-12-28  027XX W JACKSON BLVD     5001  OTHER OFFENSE       OTHER CRIME INVOLVING PROPERTY  STREET                  True      False         1125          11       2                27  26             1.15839e+06     1.89862e+06      2001  08/17/2015 03:03:40 PM     41.8776     -87.6939  (41.877569562, -87.693904749)  2001-12-28 19:00:00  Friday    19:00:00       12\n",
       "  1    2001  2001-10-16 00:01:00  2123198  HH358469       2001-10-16  071XX W GRAND AVE        1150  DECEPTIVE PRACTICE  CREDIT CARD FRAUD               OTHER                   False     True          2512          25      36                18  11             1.12785e+06     1.91526e+06      2001  08/17/2015 03:03:40 PM     41.9238     -87.8057  (41.923801639, -87.805661998)  2001-10-16 00:01:00  Tuesday   00:01:00       10\n",
       "  2    2001  2001-10-28 12:00:00  2100699  HH332385       2001-10-28  065XX S FRANCISCO AVE    1310  CRIMINAL DAMAGE     TO PROPERTY                     RESIDENCE               False     False          831           8      15                66  14             1.15822e+06     1.86092e+06      2001  08/17/2015 03:03:40 PM     41.7741     -87.6956  (41.774097713, -87.695556749)  2001-10-28 12:00:00  Sunday    12:00:00       10\n",
       "  3    2001  2001-05-01 00:00:00  3164428  HK164197       2001-05-01  042XX W HARRISON ST      0840  THEFT               FINANCIAL ID THEFT: OVER $300   RESIDENCE               False     False         1132          11      24                26  06             1.14788e+06     1.89705e+06      2001  03/31/2006 10:03:38 PM     41.8735     -87.7325  (41.873464135, -87.732524372)  2001-05-01 00:00:00  Tuesday   00:00:00        5\n",
       "  4    2001  2001-01-11 04:30:00      648  G021349        2001-01-11  071XX S BENNETT AVE      0110  HOMICIDE            FIRST DEGREE MURDER             APARTMENT               True      True           333           3       5                43  01A            1.18994e+06     1.85799e+06      2001  03/19/2019 04:11:22 PM     41.7654     -87.5794  (41.765361316, -87.579354115)  2001-01-11 04:30:00  Thursday  04:30:00        1"
      ]
     },
     "execution_count": 7,
     "metadata": {},
     "output_type": "execute_result"
    }
   ],
   "source": [
    "# print head\n",
    "data_frame.head(5)"
   ]
  },
  {
   "cell_type": "code",
   "execution_count": 8,
   "metadata": {},
   "outputs": [],
   "source": [
    "filters = FilterCreation(data_frame)\n"
   ]
  },
  {
   "cell_type": "code",
   "execution_count": 9,
   "metadata": {},
   "outputs": [
    {
     "data": {
      "text/plain": [
       "['Monday', 'Tuesday', 'Wednesday', 'Thursday', 'Friday', 'Saturday', 'Sunday']"
      ]
     },
     "execution_count": 9,
     "metadata": {},
     "output_type": "execute_result"
    }
   ],
   "source": [
    "df_slice_obj = LoadFilterValues(data_frame)\n",
    "df_slice_obj.get_days_of_week()\n",
    "\n",
    "\n"
   ]
  },
  {
   "cell_type": "code",
   "execution_count": 10,
   "metadata": {},
   "outputs": [
    {
     "data": {
      "text/plain": [
       "Year                      int64\n",
       "Date                     string\n",
       "ID                        int64\n",
       "Case Number              string\n",
       "Date.1                   string\n",
       "Block                    string\n",
       "IUCR                     string\n",
       "Primary Type             string\n",
       "Description              string\n",
       "Location Description     string\n",
       "Arrest                     bool\n",
       "Domestic                   bool\n",
       "Beat                      int64\n",
       "District                float64\n",
       "Ward                    float64\n",
       "Community Area          float64\n",
       "FBI Code                 string\n",
       "X Coordinate            float64\n",
       "Y Coordinate            float64\n",
       "Year.1                    int64\n",
       "Updated On               string\n",
       "Latitude                float64\n",
       "Longitude               float64\n",
       "Location                 string\n",
       "Datetime                 string\n",
       "Day                      string\n",
       "Time                     string\n",
       "Month                     int64\n",
       "dtype: object"
      ]
     },
     "execution_count": 10,
     "metadata": {},
     "output_type": "execute_result"
    }
   ],
   "source": [
    "data_frame.dtypes\n"
   ]
  },
  {
   "cell_type": "code",
   "execution_count": 11,
   "metadata": {},
   "outputs": [],
   "source": [
    "# create selection filter\n",
    "\n",
    "\n",
    "years=[2010,2011,2012,2013,2014,2015,2016,2017,2018]\n",
    "months=[1,2,3,4,5,6,7,8,9,10,11,12]\n",
    "types=[\"THEFT\",\"ASSAULT\",\"NARCOTICS\",\"BATTERY\",\"CRIMINAL DAMAGE\",\"OTHER OFFENSE\",\"ROBBERY\"]\n",
    "districts= [1,2,3,5,10]\n",
    "\n",
    "result =data_frame.select(data_frame.Month.isin([12]), mode='and')\n",
    "result= data_frame.select(data_frame[\"Year\"].isin([2001,2002,2003]), mode='and')\n",
    "result = data_frame.select(data_frame.District.isin(districts), mode='and')\n",
    "\n",
    "result = data_frame.select(data_frame.Month.isin(months), mode='and')\n",
    "result = data_frame.select(data_frame[\"Primary Type\"].isin(types), mode='and')"
   ]
  },
  {
   "cell_type": "code",
   "execution_count": 12,
   "metadata": {},
   "outputs": [
    {
     "data": {
      "text/plain": [
       "[2009, 2003, 2004, 2005, 2006]"
      ]
     },
     "execution_count": 12,
     "metadata": {},
     "output_type": "execute_result"
    }
   ],
   "source": [
    "# get years filter\n",
    "years = data_frame[\"Year\"].unique() # get unique years\n",
    "years[:5]"
   ]
  },
  {
   "cell_type": "code",
   "execution_count": 13,
   "metadata": {},
   "outputs": [
    {
     "data": {
      "text/plain": [
       "['LIQUOR LAW VIOLATION',\n",
       " 'OTHER OFFENSE',\n",
       " 'ARSON',\n",
       " 'OTHER NARCOTIC VIOLATION',\n",
       " 'THEFT']"
      ]
     },
     "execution_count": 13,
     "metadata": {},
     "output_type": "execute_result"
    }
   ],
   "source": [
    "# get_crime_types\n",
    "types = data_frame[\"Primary Type\"].unique() # get unique crime types\n",
    "types[:5]"
   ]
  },
  {
   "cell_type": "code",
   "execution_count": 18,
   "metadata": {},
   "outputs": [
    {
     "data": {
      "text/plain": [
       "{1: 'Central',\n",
       " 2: 'Wentworth',\n",
       " 3: 'Grand Crossing',\n",
       " 4: 'South Chicago',\n",
       " 5: 'Calumet',\n",
       " 6: 'Gresham',\n",
       " 7: 'Englewood',\n",
       " 8: 'Chicago Lawn',\n",
       " 9: 'Deering',\n",
       " 10: 'Ogden',\n",
       " 11: 'Harrison',\n",
       " 12: 'Near West',\n",
       " 14: 'Shakespeare',\n",
       " 15: 'Austin',\n",
       " 16: 'Jefferson Park',\n",
       " 17: 'Albany Park',\n",
       " 18: 'Near North',\n",
       " 19: 'Town Hall',\n",
       " 20: 'Lincoln',\n",
       " 22: 'Morgan Park',\n",
       " 24: 'Rogers Park',\n",
       " 25: 'Grand Central'}"
      ]
     },
     "execution_count": 18,
     "metadata": {},
     "output_type": "execute_result"
    }
   ],
   "source": [
    "fil_obj = LoadFilterValues(data_frame)\n",
    "dist_name_map = fil_obj.get_police_districts()\n",
    "dist_name_map"
   ]
  },
  {
   "cell_type": "code",
   "execution_count": 26,
   "metadata": {},
   "outputs": [
    {
     "data": {
      "text/html": [
       "<table>\n",
       "<thead>\n",
       "<tr><th>#                            </th><th>District_Name  </th><th>Primary Type   </th><th style=\"text-align: right;\">  total_case</th></tr>\n",
       "</thead>\n",
       "<tbody>\n",
       "<tr><td><i style='opacity: 0.6'>0</i></td><td>Wentworth      </td><td>THEFT          </td><td style=\"text-align: right;\">         403</td></tr>\n",
       "<tr><td><i style='opacity: 0.6'>1</i></td><td>Wentworth      </td><td>BATTERY        </td><td style=\"text-align: right;\">         394</td></tr>\n",
       "<tr><td><i style='opacity: 0.6'>2</i></td><td>Wentworth      </td><td>CRIMINAL DAMAGE</td><td style=\"text-align: right;\">         212</td></tr>\n",
       "<tr><td><i style='opacity: 0.6'>3</i></td><td>Wentworth      </td><td>ASSAULT        </td><td style=\"text-align: right;\">         164</td></tr>\n",
       "<tr><td><i style='opacity: 0.6'>4</i></td><td>Wentworth      </td><td>NARCOTICS      </td><td style=\"text-align: right;\">         144</td></tr>\n",
       "</tbody>\n",
       "</table>"
      ],
      "text/plain": [
       "  #  District_Name    Primary Type       total_case\n",
       "  0  Wentworth        THEFT                     403\n",
       "  1  Wentworth        BATTERY                   394\n",
       "  2  Wentworth        CRIMINAL DAMAGE           212\n",
       "  3  Wentworth        ASSAULT                   164\n",
       "  4  Wentworth        NARCOTICS                 144"
      ]
     },
     "execution_count": 26,
     "metadata": {},
     "output_type": "execute_result"
    }
   ],
   "source": [
    "# create ranking table filter\n",
    "\n",
    "tp_df = data_frame.copy()\n",
    "tp_df['District_Name'] = tp_df.District.map(dist_name_map)\n",
    "\n",
    "tp_df = tp_df.groupby([tp_df[\"District_Name\"], tp_df[\"Primary Type\"]], agg={\n",
    "                                'total_case': vx.agg.count('Primary Type')})\n",
    "tp_df = tp_df.sort([\"District_Name\", 'total_case'], ascending=False)                                \n",
    "tp_df.head(5)                                "
   ]
  },
  {
   "cell_type": "code",
   "execution_count": 29,
   "metadata": {},
   "outputs": [
    {
     "data": {
      "text/html": [
       "<table>\n",
       "<thead>\n",
       "<tr><th>#                            </th><th>District_Name  </th><th>Primary Type   </th><th style=\"text-align: right;\">  total_case</th></tr>\n",
       "</thead>\n",
       "<tbody>\n",
       "<tr><td><i style='opacity: 0.6'>0</i></td><td>Wentworth      </td><td>THEFT          </td><td style=\"text-align: right;\">         403</td></tr>\n",
       "<tr><td><i style='opacity: 0.6'>1</i></td><td>Wentworth      </td><td>BATTERY        </td><td style=\"text-align: right;\">         394</td></tr>\n",
       "<tr><td><i style='opacity: 0.6'>2</i></td><td>Wentworth      </td><td>CRIMINAL DAMAGE</td><td style=\"text-align: right;\">         212</td></tr>\n",
       "<tr><td><i style='opacity: 0.6'>3</i></td><td>Wentworth      </td><td>ASSAULT        </td><td style=\"text-align: right;\">         164</td></tr>\n",
       "<tr><td><i style='opacity: 0.6'>4</i></td><td>Wentworth      </td><td>NARCOTICS      </td><td style=\"text-align: right;\">         144</td></tr>\n",
       "</tbody>\n",
       "</table>"
      ],
      "text/plain": [
       "  #  District_Name    Primary Type       total_case\n",
       "  0  Wentworth        THEFT                     403\n",
       "  1  Wentworth        BATTERY                   394\n",
       "  2  Wentworth        CRIMINAL DAMAGE           212\n",
       "  3  Wentworth        ASSAULT                   164\n",
       "  4  Wentworth        NARCOTICS                 144"
      ]
     },
     "execution_count": 29,
     "metadata": {},
     "output_type": "execute_result"
    }
   ],
   "source": [
    "# createa sunburst filter\n",
    "tp_df = data_frame.copy()\n",
    "tp_df['District_Name'] = tp_df.District.map(dist_name_map)\n",
    "tp_df = tp_df.groupby([tp_df[\"District_Name\"], tp_df[\"Primary Type\"]], agg={\n",
    "                                'total_case': vx.agg.count('Primary Type')})\n",
    "tp_df = tp_df.sort([\"District_Name\", 'total_case'], ascending=False)\n",
    "tp_df.head(5)\n"
   ]
  }
 ],
 "metadata": {
  "interpreter": {
   "hash": "4f946df053fbf2b937619d3c5458e7af74262f9a954d8797ba0b27400bcafe06"
  },
  "kernelspec": {
   "display_name": "Python 3.8.12 64-bit",
   "language": "python",
   "name": "python3"
  },
  "language_info": {
   "codemirror_mode": {
    "name": "ipython",
    "version": 3
   },
   "file_extension": ".py",
   "mimetype": "text/x-python",
   "name": "python",
   "nbconvert_exporter": "python",
   "pygments_lexer": "ipython3",
   "version": "3.8.12"
  },
  "orig_nbformat": 4
 },
 "nbformat": 4,
 "nbformat_minor": 2
}
