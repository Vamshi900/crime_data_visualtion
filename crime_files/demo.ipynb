{
 "cells": [
  {
   "cell_type": "code",
   "execution_count": 6,
   "metadata": {},
   "outputs": [],
   "source": [
    "import vaex as vx"
   ]
  },
  {
   "cell_type": "code",
   "execution_count": 20,
   "metadata": {},
   "outputs": [],
   "source": [
    "\n",
    "data_frame = vx.open(\"dataset/cleaned_2010.hdf5\")"
   ]
  },
  {
   "cell_type": "code",
   "execution_count": 21,
   "metadata": {},
   "outputs": [
    {
     "data": {
      "text/html": [
       "<table>\n",
       "<thead>\n",
       "<tr><th>#                            </th><th style=\"text-align: right;\">      ID</th><th>Block                  </th><th>Primary Type  </th><th>Description            </th><th>Location Description          </th><th>Arrest  </th><th>Domestic  </th><th style=\"text-align: right;\">  Beat</th><th style=\"text-align: right;\">  District</th><th style=\"text-align: right;\">  Year</th><th style=\"text-align: right;\">  Latitude</th><th style=\"text-align: right;\">  Longitude</th><th>Location                     </th><th>Day     </th><th>Time    </th><th style=\"text-align: right;\">  Month</th><th>District_Name  </th></tr>\n",
       "</thead>\n",
       "<tbody>\n",
       "<tr><td><i style='opacity: 0.6'>0</i></td><td style=\"text-align: right;\">10224738</td><td>043XX S WOOD ST        </td><td>BATTERY       </td><td>DOMESTIC BATTERY SIMPLE</td><td>RESIDENCE                     </td><td>no      </td><td>True      </td><td style=\"text-align: right;\">   924</td><td style=\"text-align: right;\">         9</td><td style=\"text-align: right;\">  2015</td><td style=\"text-align: right;\">   41.8151</td><td style=\"text-align: right;\">   -87.67  </td><td>(41.815117282, -87.669999562)</td><td>Saturday</td><td>13:30:00</td><td style=\"text-align: right;\">      9</td><td>Deering        </td></tr>\n",
       "<tr><td><i style='opacity: 0.6'>1</i></td><td style=\"text-align: right;\">10224739</td><td>008XX N CENTRAL AVE    </td><td>THEFT         </td><td>POCKET-PICKING         </td><td>CTA BUS                       </td><td>no      </td><td>False     </td><td style=\"text-align: right;\">  1511</td><td style=\"text-align: right;\">        15</td><td style=\"text-align: right;\">  2015</td><td style=\"text-align: right;\">   41.8951</td><td style=\"text-align: right;\">   -87.7654</td><td>(41.895080471, -87.765400451)</td><td>Friday  </td><td>11:30:00</td><td style=\"text-align: right;\">      9</td><td>Austin         </td></tr>\n",
       "<tr><td><i style='opacity: 0.6'>2</i></td><td style=\"text-align: right;\">10224740</td><td>035XX W BARRY AVE      </td><td>NARCOTICS     </td><td>POSS: HEROIN(BRN/TAN)  </td><td>SIDEWALK                      </td><td>yes     </td><td>False     </td><td style=\"text-align: right;\">  1412</td><td style=\"text-align: right;\">        14</td><td style=\"text-align: right;\">  2015</td><td style=\"text-align: right;\">   41.9374</td><td style=\"text-align: right;\">   -87.7166</td><td>(41.937405765, -87.716649687)</td><td>Saturday</td><td>12:45:00</td><td style=\"text-align: right;\">      9</td><td>Shakespeare    </td></tr>\n",
       "<tr><td><i style='opacity: 0.6'>3</i></td><td style=\"text-align: right;\">10224741</td><td>0000X N LARAMIE AVE    </td><td>ASSAULT       </td><td>SIMPLE                 </td><td>APARTMENT                     </td><td>no      </td><td>True      </td><td style=\"text-align: right;\">  1522</td><td style=\"text-align: right;\">        15</td><td style=\"text-align: right;\">  2015</td><td style=\"text-align: right;\">   41.8819</td><td style=\"text-align: right;\">   -87.7551</td><td>(41.881903443, -87.755121152)</td><td>Saturday</td><td>13:00:00</td><td style=\"text-align: right;\">      9</td><td>Austin         </td></tr>\n",
       "<tr><td><i style='opacity: 0.6'>4</i></td><td style=\"text-align: right;\">10224742</td><td>082XX S LOOMIS BLVD    </td><td>BURGLARY      </td><td>FORCIBLE ENTRY         </td><td>RESIDENCE                     </td><td>no      </td><td>False     </td><td style=\"text-align: right;\">   614</td><td style=\"text-align: right;\">         6</td><td style=\"text-align: right;\">  2015</td><td style=\"text-align: right;\">   41.7444</td><td style=\"text-align: right;\">   -87.6584</td><td>(41.744378879, -87.658430635)</td><td>Saturday</td><td>10:55:00</td><td style=\"text-align: right;\">      9</td><td>Gresham        </td></tr>\n",
       "<tr><td><i style='opacity: 0.6'>5</i></td><td style=\"text-align: right;\">10224743</td><td>021XX W CHURCHILL ST   </td><td>BURGLARY      </td><td>UNLAWFUL ENTRY         </td><td>RESIDENCE-GARAGE              </td><td>no      </td><td>False     </td><td style=\"text-align: right;\">  1434</td><td style=\"text-align: right;\">        14</td><td style=\"text-align: right;\">  2015</td><td style=\"text-align: right;\">   41.9146</td><td style=\"text-align: right;\">   -87.6816</td><td>(41.914635603, -87.681630909)</td><td>Friday  </td><td>18:00:00</td><td style=\"text-align: right;\">      9</td><td>Shakespeare    </td></tr>\n",
       "<tr><td><i style='opacity: 0.6'>6</i></td><td style=\"text-align: right;\">10224744</td><td>025XX W CERMAK RD      </td><td>THEFT         </td><td>RETAIL THEFT           </td><td>GROCERY FOOD STORE            </td><td>yes     </td><td>False     </td><td style=\"text-align: right;\">  1034</td><td style=\"text-align: right;\">        10</td><td style=\"text-align: right;\">  2015</td><td style=\"text-align: right;\">   41.852 </td><td style=\"text-align: right;\">   -87.6892</td><td>(41.851988885, -87.689219118)</td><td>Saturday</td><td>13:00:00</td><td style=\"text-align: right;\">      9</td><td>Ogden          </td></tr>\n",
       "<tr><td><i style='opacity: 0.6'>7</i></td><td style=\"text-align: right;\">10224745</td><td>031XX W WASHINGTON BLVD</td><td>ROBBERY       </td><td>STRONGARM - NO WEAPON  </td><td>STREET                        </td><td>no      </td><td>True      </td><td style=\"text-align: right;\">  1222</td><td style=\"text-align: right;\">        12</td><td style=\"text-align: right;\">  2015</td><td style=\"text-align: right;\">   41.8828</td><td style=\"text-align: right;\">   -87.7043</td><td>(41.88281374, -87.704325717) </td><td>Saturday</td><td>11:30:00</td><td style=\"text-align: right;\">      9</td><td>Near West      </td></tr>\n",
       "<tr><td><i style='opacity: 0.6'>8</i></td><td style=\"text-align: right;\">10224746</td><td>071XX S PULASKI RD     </td><td>THEFT         </td><td>$500 AND UNDER         </td><td>PARKING LOT/GARAGE(NON.RESID.)</td><td>no      </td><td>False     </td><td style=\"text-align: right;\">   833</td><td style=\"text-align: right;\">         8</td><td style=\"text-align: right;\">  2015</td><td style=\"text-align: right;\">   41.7636</td><td style=\"text-align: right;\">   -87.7223</td><td>(41.763647552, -87.722344693)</td><td>Saturday</td><td>14:00:00</td><td style=\"text-align: right;\">      9</td><td>Chicago Lawn   </td></tr>\n",
       "<tr><td><i style='opacity: 0.6'>9</i></td><td style=\"text-align: right;\">10224749</td><td>052XX N MILWAUKEE AVE  </td><td>BATTERY       </td><td>SIMPLE                 </td><td>SMALL RETAIL STORE            </td><td>no      </td><td>False     </td><td style=\"text-align: right;\">  1623</td><td style=\"text-align: right;\">        16</td><td style=\"text-align: right;\">  2015</td><td style=\"text-align: right;\">   41.976 </td><td style=\"text-align: right;\">   -87.768 </td><td>(41.975968415, -87.768014257)</td><td>Saturday</td><td>11:00:00</td><td style=\"text-align: right;\">      9</td><td>Jefferson Park </td></tr>\n",
       "</tbody>\n",
       "</table>"
      ],
      "text/plain": [
       "  #        ID  Block                    Primary Type    Description              Location Description            Arrest    Domestic      Beat    District    Year    Latitude    Longitude  Location                       Day       Time        Month  District_Name\n",
       "  0  10224738  043XX S WOOD ST          BATTERY         DOMESTIC BATTERY SIMPLE  RESIDENCE                       no        True           924           9    2015     41.8151     -87.67    (41.815117282, -87.669999562)  Saturday  13:30:00        9  Deering\n",
       "  1  10224739  008XX N CENTRAL AVE      THEFT           POCKET-PICKING           CTA BUS                         no        False         1511          15    2015     41.8951     -87.7654  (41.895080471, -87.765400451)  Friday    11:30:00        9  Austin\n",
       "  2  10224740  035XX W BARRY AVE        NARCOTICS       POSS: HEROIN(BRN/TAN)    SIDEWALK                        yes       False         1412          14    2015     41.9374     -87.7166  (41.937405765, -87.716649687)  Saturday  12:45:00        9  Shakespeare\n",
       "  3  10224741  0000X N LARAMIE AVE      ASSAULT         SIMPLE                   APARTMENT                       no        True          1522          15    2015     41.8819     -87.7551  (41.881903443, -87.755121152)  Saturday  13:00:00        9  Austin\n",
       "  4  10224742  082XX S LOOMIS BLVD      BURGLARY        FORCIBLE ENTRY           RESIDENCE                       no        False          614           6    2015     41.7444     -87.6584  (41.744378879, -87.658430635)  Saturday  10:55:00        9  Gresham\n",
       "  5  10224743  021XX W CHURCHILL ST     BURGLARY        UNLAWFUL ENTRY           RESIDENCE-GARAGE                no        False         1434          14    2015     41.9146     -87.6816  (41.914635603, -87.681630909)  Friday    18:00:00        9  Shakespeare\n",
       "  6  10224744  025XX W CERMAK RD        THEFT           RETAIL THEFT             GROCERY FOOD STORE              yes       False         1034          10    2015     41.852      -87.6892  (41.851988885, -87.689219118)  Saturday  13:00:00        9  Ogden\n",
       "  7  10224745  031XX W WASHINGTON BLVD  ROBBERY         STRONGARM - NO WEAPON    STREET                          no        True          1222          12    2015     41.8828     -87.7043  (41.88281374, -87.704325717)   Saturday  11:30:00        9  Near West\n",
       "  8  10224746  071XX S PULASKI RD       THEFT           $500 AND UNDER           PARKING LOT/GARAGE(NON.RESID.)  no        False          833           8    2015     41.7636     -87.7223  (41.763647552, -87.722344693)  Saturday  14:00:00        9  Chicago Lawn\n",
       "  9  10224749  052XX N MILWAUKEE AVE    BATTERY         SIMPLE                   SMALL RETAIL STORE              no        False         1623          16    2015     41.976      -87.768   (41.975968415, -87.768014257)  Saturday  11:00:00        9  Jefferson Park"
      ]
     },
     "execution_count": 21,
     "metadata": {},
     "output_type": "execute_result"
    }
   ],
   "source": [
    "data_frame.head()"
   ]
  },
  {
   "cell_type": "code",
   "execution_count": 22,
   "metadata": {},
   "outputs": [
    {
     "data": {
      "text/plain": [
       "[12, 3, 6, 9, 1, 5, 7, 4, 8, 10, 2, 11]"
      ]
     },
     "execution_count": 22,
     "metadata": {},
     "output_type": "execute_result"
    }
   ],
   "source": [
    "data_frame[\"Month\"].unique()"
   ]
  },
  {
   "cell_type": "code",
   "execution_count": 23,
   "metadata": {},
   "outputs": [],
   "source": [
    "months_map = {1: \"January\", 2: \"February\", 3: \"March\", 4: \"April\", 5: \"May\", 6: \"June\",\n",
    "                      7: \"July\", 8: \"August\", 9: \"September\", 10: \"October\", 11: \"November\", 12: \"December\"}"
   ]
  },
  {
   "cell_type": "code",
   "execution_count": 24,
   "metadata": {},
   "outputs": [
    {
     "data": {
      "text/html": [
       "<table>\n",
       "<thead>\n",
       "<tr><th>#                            </th><th style=\"text-align: right;\">      ID</th><th>Block                  </th><th>Primary Type  </th><th>Description            </th><th>Location Description          </th><th>Arrest  </th><th>Domestic  </th><th style=\"text-align: right;\">  Beat</th><th style=\"text-align: right;\">  District</th><th style=\"text-align: right;\">  Year</th><th style=\"text-align: right;\">  Latitude</th><th style=\"text-align: right;\">  Longitude</th><th>Location                     </th><th>Day     </th><th>Time    </th><th>Month    </th><th>District_Name  </th></tr>\n",
       "</thead>\n",
       "<tbody>\n",
       "<tr><td><i style='opacity: 0.6'>0</i></td><td style=\"text-align: right;\">10224738</td><td>043XX S WOOD ST        </td><td>BATTERY       </td><td>DOMESTIC BATTERY SIMPLE</td><td>RESIDENCE                     </td><td>no      </td><td>True      </td><td style=\"text-align: right;\">   924</td><td style=\"text-align: right;\">         9</td><td style=\"text-align: right;\">  2015</td><td style=\"text-align: right;\">   41.8151</td><td style=\"text-align: right;\">   -87.67  </td><td>(41.815117282, -87.669999562)</td><td>Saturday</td><td>13:30:00</td><td>September</td><td>Deering        </td></tr>\n",
       "<tr><td><i style='opacity: 0.6'>1</i></td><td style=\"text-align: right;\">10224739</td><td>008XX N CENTRAL AVE    </td><td>THEFT         </td><td>POCKET-PICKING         </td><td>CTA BUS                       </td><td>no      </td><td>False     </td><td style=\"text-align: right;\">  1511</td><td style=\"text-align: right;\">        15</td><td style=\"text-align: right;\">  2015</td><td style=\"text-align: right;\">   41.8951</td><td style=\"text-align: right;\">   -87.7654</td><td>(41.895080471, -87.765400451)</td><td>Friday  </td><td>11:30:00</td><td>September</td><td>Austin         </td></tr>\n",
       "<tr><td><i style='opacity: 0.6'>2</i></td><td style=\"text-align: right;\">10224740</td><td>035XX W BARRY AVE      </td><td>NARCOTICS     </td><td>POSS: HEROIN(BRN/TAN)  </td><td>SIDEWALK                      </td><td>yes     </td><td>False     </td><td style=\"text-align: right;\">  1412</td><td style=\"text-align: right;\">        14</td><td style=\"text-align: right;\">  2015</td><td style=\"text-align: right;\">   41.9374</td><td style=\"text-align: right;\">   -87.7166</td><td>(41.937405765, -87.716649687)</td><td>Saturday</td><td>12:45:00</td><td>September</td><td>Shakespeare    </td></tr>\n",
       "<tr><td><i style='opacity: 0.6'>3</i></td><td style=\"text-align: right;\">10224741</td><td>0000X N LARAMIE AVE    </td><td>ASSAULT       </td><td>SIMPLE                 </td><td>APARTMENT                     </td><td>no      </td><td>True      </td><td style=\"text-align: right;\">  1522</td><td style=\"text-align: right;\">        15</td><td style=\"text-align: right;\">  2015</td><td style=\"text-align: right;\">   41.8819</td><td style=\"text-align: right;\">   -87.7551</td><td>(41.881903443, -87.755121152)</td><td>Saturday</td><td>13:00:00</td><td>September</td><td>Austin         </td></tr>\n",
       "<tr><td><i style='opacity: 0.6'>4</i></td><td style=\"text-align: right;\">10224742</td><td>082XX S LOOMIS BLVD    </td><td>BURGLARY      </td><td>FORCIBLE ENTRY         </td><td>RESIDENCE                     </td><td>no      </td><td>False     </td><td style=\"text-align: right;\">   614</td><td style=\"text-align: right;\">         6</td><td style=\"text-align: right;\">  2015</td><td style=\"text-align: right;\">   41.7444</td><td style=\"text-align: right;\">   -87.6584</td><td>(41.744378879, -87.658430635)</td><td>Saturday</td><td>10:55:00</td><td>September</td><td>Gresham        </td></tr>\n",
       "<tr><td><i style='opacity: 0.6'>5</i></td><td style=\"text-align: right;\">10224743</td><td>021XX W CHURCHILL ST   </td><td>BURGLARY      </td><td>UNLAWFUL ENTRY         </td><td>RESIDENCE-GARAGE              </td><td>no      </td><td>False     </td><td style=\"text-align: right;\">  1434</td><td style=\"text-align: right;\">        14</td><td style=\"text-align: right;\">  2015</td><td style=\"text-align: right;\">   41.9146</td><td style=\"text-align: right;\">   -87.6816</td><td>(41.914635603, -87.681630909)</td><td>Friday  </td><td>18:00:00</td><td>September</td><td>Shakespeare    </td></tr>\n",
       "<tr><td><i style='opacity: 0.6'>6</i></td><td style=\"text-align: right;\">10224744</td><td>025XX W CERMAK RD      </td><td>THEFT         </td><td>RETAIL THEFT           </td><td>GROCERY FOOD STORE            </td><td>yes     </td><td>False     </td><td style=\"text-align: right;\">  1034</td><td style=\"text-align: right;\">        10</td><td style=\"text-align: right;\">  2015</td><td style=\"text-align: right;\">   41.852 </td><td style=\"text-align: right;\">   -87.6892</td><td>(41.851988885, -87.689219118)</td><td>Saturday</td><td>13:00:00</td><td>September</td><td>Ogden          </td></tr>\n",
       "<tr><td><i style='opacity: 0.6'>7</i></td><td style=\"text-align: right;\">10224745</td><td>031XX W WASHINGTON BLVD</td><td>ROBBERY       </td><td>STRONGARM - NO WEAPON  </td><td>STREET                        </td><td>no      </td><td>True      </td><td style=\"text-align: right;\">  1222</td><td style=\"text-align: right;\">        12</td><td style=\"text-align: right;\">  2015</td><td style=\"text-align: right;\">   41.8828</td><td style=\"text-align: right;\">   -87.7043</td><td>(41.88281374, -87.704325717) </td><td>Saturday</td><td>11:30:00</td><td>September</td><td>Near West      </td></tr>\n",
       "<tr><td><i style='opacity: 0.6'>8</i></td><td style=\"text-align: right;\">10224746</td><td>071XX S PULASKI RD     </td><td>THEFT         </td><td>$500 AND UNDER         </td><td>PARKING LOT/GARAGE(NON.RESID.)</td><td>no      </td><td>False     </td><td style=\"text-align: right;\">   833</td><td style=\"text-align: right;\">         8</td><td style=\"text-align: right;\">  2015</td><td style=\"text-align: right;\">   41.7636</td><td style=\"text-align: right;\">   -87.7223</td><td>(41.763647552, -87.722344693)</td><td>Saturday</td><td>14:00:00</td><td>September</td><td>Chicago Lawn   </td></tr>\n",
       "<tr><td><i style='opacity: 0.6'>9</i></td><td style=\"text-align: right;\">10224749</td><td>052XX N MILWAUKEE AVE  </td><td>BATTERY       </td><td>SIMPLE                 </td><td>SMALL RETAIL STORE            </td><td>no      </td><td>False     </td><td style=\"text-align: right;\">  1623</td><td style=\"text-align: right;\">        16</td><td style=\"text-align: right;\">  2015</td><td style=\"text-align: right;\">   41.976 </td><td style=\"text-align: right;\">   -87.768 </td><td>(41.975968415, -87.768014257)</td><td>Saturday</td><td>11:00:00</td><td>September</td><td>Jefferson Park </td></tr>\n",
       "</tbody>\n",
       "</table>"
      ],
      "text/plain": [
       "  #        ID  Block                    Primary Type    Description              Location Description            Arrest    Domestic      Beat    District    Year    Latitude    Longitude  Location                       Day       Time      Month      District_Name\n",
       "  0  10224738  043XX S WOOD ST          BATTERY         DOMESTIC BATTERY SIMPLE  RESIDENCE                       no        True           924           9    2015     41.8151     -87.67    (41.815117282, -87.669999562)  Saturday  13:30:00  September  Deering\n",
       "  1  10224739  008XX N CENTRAL AVE      THEFT           POCKET-PICKING           CTA BUS                         no        False         1511          15    2015     41.8951     -87.7654  (41.895080471, -87.765400451)  Friday    11:30:00  September  Austin\n",
       "  2  10224740  035XX W BARRY AVE        NARCOTICS       POSS: HEROIN(BRN/TAN)    SIDEWALK                        yes       False         1412          14    2015     41.9374     -87.7166  (41.937405765, -87.716649687)  Saturday  12:45:00  September  Shakespeare\n",
       "  3  10224741  0000X N LARAMIE AVE      ASSAULT         SIMPLE                   APARTMENT                       no        True          1522          15    2015     41.8819     -87.7551  (41.881903443, -87.755121152)  Saturday  13:00:00  September  Austin\n",
       "  4  10224742  082XX S LOOMIS BLVD      BURGLARY        FORCIBLE ENTRY           RESIDENCE                       no        False          614           6    2015     41.7444     -87.6584  (41.744378879, -87.658430635)  Saturday  10:55:00  September  Gresham\n",
       "  5  10224743  021XX W CHURCHILL ST     BURGLARY        UNLAWFUL ENTRY           RESIDENCE-GARAGE                no        False         1434          14    2015     41.9146     -87.6816  (41.914635603, -87.681630909)  Friday    18:00:00  September  Shakespeare\n",
       "  6  10224744  025XX W CERMAK RD        THEFT           RETAIL THEFT             GROCERY FOOD STORE              yes       False         1034          10    2015     41.852      -87.6892  (41.851988885, -87.689219118)  Saturday  13:00:00  September  Ogden\n",
       "  7  10224745  031XX W WASHINGTON BLVD  ROBBERY         STRONGARM - NO WEAPON    STREET                          no        True          1222          12    2015     41.8828     -87.7043  (41.88281374, -87.704325717)   Saturday  11:30:00  September  Near West\n",
       "  8  10224746  071XX S PULASKI RD       THEFT           $500 AND UNDER           PARKING LOT/GARAGE(NON.RESID.)  no        False          833           8    2015     41.7636     -87.7223  (41.763647552, -87.722344693)  Saturday  14:00:00  September  Chicago Lawn\n",
       "  9  10224749  052XX N MILWAUKEE AVE    BATTERY         SIMPLE                   SMALL RETAIL STORE              no        False         1623          16    2015     41.976      -87.768   (41.975968415, -87.768014257)  Saturday  11:00:00  September  Jefferson Park"
      ]
     },
     "execution_count": 24,
     "metadata": {},
     "output_type": "execute_result"
    }
   ],
   "source": [
    "data_frame[\"Month\"] = data_frame.Month.map(months_map)\n",
    "data_frame.head()"
   ]
  },
  {
   "cell_type": "code",
   "execution_count": 25,
   "metadata": {},
   "outputs": [
    {
     "data": {
      "text/html": [
       "<table>\n",
       "<thead>\n",
       "<tr><th>#                            </th><th style=\"text-align: right;\">      ID</th><th>Block                  </th><th>Primary Type  </th><th>Description            </th><th>Location Description          </th><th>Arrest  </th><th>Domestic  </th><th style=\"text-align: right;\">  Beat</th><th style=\"text-align: right;\">  District</th><th style=\"text-align: right;\">  Year</th><th style=\"text-align: right;\">  Latitude</th><th style=\"text-align: right;\">  Longitude</th><th>Location                     </th><th>Day     </th><th>Time    </th><th>Month    </th><th>District_Name  </th></tr>\n",
       "</thead>\n",
       "<tbody>\n",
       "<tr><td><i style='opacity: 0.6'>0</i></td><td style=\"text-align: right;\">10224738</td><td>043XX S WOOD ST        </td><td>BATTERY       </td><td>DOMESTIC BATTERY SIMPLE</td><td>RESIDENCE                     </td><td>No      </td><td>True      </td><td style=\"text-align: right;\">   924</td><td style=\"text-align: right;\">         9</td><td style=\"text-align: right;\">  2015</td><td style=\"text-align: right;\">   41.8151</td><td style=\"text-align: right;\">   -87.67  </td><td>(41.815117282, -87.669999562)</td><td>Saturday</td><td>13:30:00</td><td>September</td><td>Deering        </td></tr>\n",
       "<tr><td><i style='opacity: 0.6'>1</i></td><td style=\"text-align: right;\">10224739</td><td>008XX N CENTRAL AVE    </td><td>THEFT         </td><td>POCKET-PICKING         </td><td>CTA BUS                       </td><td>No      </td><td>False     </td><td style=\"text-align: right;\">  1511</td><td style=\"text-align: right;\">        15</td><td style=\"text-align: right;\">  2015</td><td style=\"text-align: right;\">   41.8951</td><td style=\"text-align: right;\">   -87.7654</td><td>(41.895080471, -87.765400451)</td><td>Friday  </td><td>11:30:00</td><td>September</td><td>Austin         </td></tr>\n",
       "<tr><td><i style='opacity: 0.6'>2</i></td><td style=\"text-align: right;\">10224740</td><td>035XX W BARRY AVE      </td><td>NARCOTICS     </td><td>POSS: HEROIN(BRN/TAN)  </td><td>SIDEWALK                      </td><td>Yes     </td><td>False     </td><td style=\"text-align: right;\">  1412</td><td style=\"text-align: right;\">        14</td><td style=\"text-align: right;\">  2015</td><td style=\"text-align: right;\">   41.9374</td><td style=\"text-align: right;\">   -87.7166</td><td>(41.937405765, -87.716649687)</td><td>Saturday</td><td>12:45:00</td><td>September</td><td>Shakespeare    </td></tr>\n",
       "<tr><td><i style='opacity: 0.6'>3</i></td><td style=\"text-align: right;\">10224741</td><td>0000X N LARAMIE AVE    </td><td>ASSAULT       </td><td>SIMPLE                 </td><td>APARTMENT                     </td><td>No      </td><td>True      </td><td style=\"text-align: right;\">  1522</td><td style=\"text-align: right;\">        15</td><td style=\"text-align: right;\">  2015</td><td style=\"text-align: right;\">   41.8819</td><td style=\"text-align: right;\">   -87.7551</td><td>(41.881903443, -87.755121152)</td><td>Saturday</td><td>13:00:00</td><td>September</td><td>Austin         </td></tr>\n",
       "<tr><td><i style='opacity: 0.6'>4</i></td><td style=\"text-align: right;\">10224742</td><td>082XX S LOOMIS BLVD    </td><td>BURGLARY      </td><td>FORCIBLE ENTRY         </td><td>RESIDENCE                     </td><td>No      </td><td>False     </td><td style=\"text-align: right;\">   614</td><td style=\"text-align: right;\">         6</td><td style=\"text-align: right;\">  2015</td><td style=\"text-align: right;\">   41.7444</td><td style=\"text-align: right;\">   -87.6584</td><td>(41.744378879, -87.658430635)</td><td>Saturday</td><td>10:55:00</td><td>September</td><td>Gresham        </td></tr>\n",
       "<tr><td><i style='opacity: 0.6'>5</i></td><td style=\"text-align: right;\">10224743</td><td>021XX W CHURCHILL ST   </td><td>BURGLARY      </td><td>UNLAWFUL ENTRY         </td><td>RESIDENCE-GARAGE              </td><td>No      </td><td>False     </td><td style=\"text-align: right;\">  1434</td><td style=\"text-align: right;\">        14</td><td style=\"text-align: right;\">  2015</td><td style=\"text-align: right;\">   41.9146</td><td style=\"text-align: right;\">   -87.6816</td><td>(41.914635603, -87.681630909)</td><td>Friday  </td><td>18:00:00</td><td>September</td><td>Shakespeare    </td></tr>\n",
       "<tr><td><i style='opacity: 0.6'>6</i></td><td style=\"text-align: right;\">10224744</td><td>025XX W CERMAK RD      </td><td>THEFT         </td><td>RETAIL THEFT           </td><td>GROCERY FOOD STORE            </td><td>Yes     </td><td>False     </td><td style=\"text-align: right;\">  1034</td><td style=\"text-align: right;\">        10</td><td style=\"text-align: right;\">  2015</td><td style=\"text-align: right;\">   41.852 </td><td style=\"text-align: right;\">   -87.6892</td><td>(41.851988885, -87.689219118)</td><td>Saturday</td><td>13:00:00</td><td>September</td><td>Ogden          </td></tr>\n",
       "<tr><td><i style='opacity: 0.6'>7</i></td><td style=\"text-align: right;\">10224745</td><td>031XX W WASHINGTON BLVD</td><td>ROBBERY       </td><td>STRONGARM - NO WEAPON  </td><td>STREET                        </td><td>No      </td><td>True      </td><td style=\"text-align: right;\">  1222</td><td style=\"text-align: right;\">        12</td><td style=\"text-align: right;\">  2015</td><td style=\"text-align: right;\">   41.8828</td><td style=\"text-align: right;\">   -87.7043</td><td>(41.88281374, -87.704325717) </td><td>Saturday</td><td>11:30:00</td><td>September</td><td>Near West      </td></tr>\n",
       "<tr><td><i style='opacity: 0.6'>8</i></td><td style=\"text-align: right;\">10224746</td><td>071XX S PULASKI RD     </td><td>THEFT         </td><td>$500 AND UNDER         </td><td>PARKING LOT/GARAGE(NON.RESID.)</td><td>No      </td><td>False     </td><td style=\"text-align: right;\">   833</td><td style=\"text-align: right;\">         8</td><td style=\"text-align: right;\">  2015</td><td style=\"text-align: right;\">   41.7636</td><td style=\"text-align: right;\">   -87.7223</td><td>(41.763647552, -87.722344693)</td><td>Saturday</td><td>14:00:00</td><td>September</td><td>Chicago Lawn   </td></tr>\n",
       "<tr><td><i style='opacity: 0.6'>9</i></td><td style=\"text-align: right;\">10224749</td><td>052XX N MILWAUKEE AVE  </td><td>BATTERY       </td><td>SIMPLE                 </td><td>SMALL RETAIL STORE            </td><td>No      </td><td>False     </td><td style=\"text-align: right;\">  1623</td><td style=\"text-align: right;\">        16</td><td style=\"text-align: right;\">  2015</td><td style=\"text-align: right;\">   41.976 </td><td style=\"text-align: right;\">   -87.768 </td><td>(41.975968415, -87.768014257)</td><td>Saturday</td><td>11:00:00</td><td>September</td><td>Jefferson Park </td></tr>\n",
       "</tbody>\n",
       "</table>"
      ],
      "text/plain": [
       "  #        ID  Block                    Primary Type    Description              Location Description            Arrest    Domestic      Beat    District    Year    Latitude    Longitude  Location                       Day       Time      Month      District_Name\n",
       "  0  10224738  043XX S WOOD ST          BATTERY         DOMESTIC BATTERY SIMPLE  RESIDENCE                       No        True           924           9    2015     41.8151     -87.67    (41.815117282, -87.669999562)  Saturday  13:30:00  September  Deering\n",
       "  1  10224739  008XX N CENTRAL AVE      THEFT           POCKET-PICKING           CTA BUS                         No        False         1511          15    2015     41.8951     -87.7654  (41.895080471, -87.765400451)  Friday    11:30:00  September  Austin\n",
       "  2  10224740  035XX W BARRY AVE        NARCOTICS       POSS: HEROIN(BRN/TAN)    SIDEWALK                        Yes       False         1412          14    2015     41.9374     -87.7166  (41.937405765, -87.716649687)  Saturday  12:45:00  September  Shakespeare\n",
       "  3  10224741  0000X N LARAMIE AVE      ASSAULT         SIMPLE                   APARTMENT                       No        True          1522          15    2015     41.8819     -87.7551  (41.881903443, -87.755121152)  Saturday  13:00:00  September  Austin\n",
       "  4  10224742  082XX S LOOMIS BLVD      BURGLARY        FORCIBLE ENTRY           RESIDENCE                       No        False          614           6    2015     41.7444     -87.6584  (41.744378879, -87.658430635)  Saturday  10:55:00  September  Gresham\n",
       "  5  10224743  021XX W CHURCHILL ST     BURGLARY        UNLAWFUL ENTRY           RESIDENCE-GARAGE                No        False         1434          14    2015     41.9146     -87.6816  (41.914635603, -87.681630909)  Friday    18:00:00  September  Shakespeare\n",
       "  6  10224744  025XX W CERMAK RD        THEFT           RETAIL THEFT             GROCERY FOOD STORE              Yes       False         1034          10    2015     41.852      -87.6892  (41.851988885, -87.689219118)  Saturday  13:00:00  September  Ogden\n",
       "  7  10224745  031XX W WASHINGTON BLVD  ROBBERY         STRONGARM - NO WEAPON    STREET                          No        True          1222          12    2015     41.8828     -87.7043  (41.88281374, -87.704325717)   Saturday  11:30:00  September  Near West\n",
       "  8  10224746  071XX S PULASKI RD       THEFT           $500 AND UNDER           PARKING LOT/GARAGE(NON.RESID.)  No        False          833           8    2015     41.7636     -87.7223  (41.763647552, -87.722344693)  Saturday  14:00:00  September  Chicago Lawn\n",
       "  9  10224749  052XX N MILWAUKEE AVE    BATTERY         SIMPLE                   SMALL RETAIL STORE              No        False         1623          16    2015     41.976      -87.768   (41.975968415, -87.768014257)  Saturday  11:00:00  September  Jefferson Park"
      ]
     },
     "execution_count": 25,
     "metadata": {},
     "output_type": "execute_result"
    }
   ],
   "source": [
    "data_frame[\"Arrest\"] = data_frame.Arrest.map({'yes': 'Yes', 'no': 'No'})\n",
    "data_frame.head()"
   ]
  },
  {
   "cell_type": "code",
   "execution_count": 27,
   "metadata": {},
   "outputs": [
    {
     "data": {
      "text/html": [
       "<table>\n",
       "<thead>\n",
       "<tr><th>#                            </th><th style=\"text-align: right;\">      ID</th><th>Block                  </th><th>Primary Type  </th><th>Description            </th><th>Location Description          </th><th>Arrest  </th><th>Domestic  </th><th style=\"text-align: right;\">  Beat</th><th style=\"text-align: right;\">  District</th><th style=\"text-align: right;\">  Year</th><th style=\"text-align: right;\">  Latitude</th><th style=\"text-align: right;\">  Longitude</th><th>Location                     </th><th>Day     </th><th>Time    </th><th>Month    </th><th>District_Name  </th></tr>\n",
       "</thead>\n",
       "<tbody>\n",
       "<tr><td><i style='opacity: 0.6'>0</i></td><td style=\"text-align: right;\">10224738</td><td>043XX S WOOD ST        </td><td>BATTERY       </td><td>DOMESTIC BATTERY SIMPLE</td><td>RESIDENCE                     </td><td>No      </td><td>Yes       </td><td style=\"text-align: right;\">   924</td><td style=\"text-align: right;\">         9</td><td style=\"text-align: right;\">  2015</td><td style=\"text-align: right;\">   41.8151</td><td style=\"text-align: right;\">   -87.67  </td><td>(41.815117282, -87.669999562)</td><td>Saturday</td><td>13:30:00</td><td>September</td><td>Deering        </td></tr>\n",
       "<tr><td><i style='opacity: 0.6'>1</i></td><td style=\"text-align: right;\">10224739</td><td>008XX N CENTRAL AVE    </td><td>THEFT         </td><td>POCKET-PICKING         </td><td>CTA BUS                       </td><td>No      </td><td>No        </td><td style=\"text-align: right;\">  1511</td><td style=\"text-align: right;\">        15</td><td style=\"text-align: right;\">  2015</td><td style=\"text-align: right;\">   41.8951</td><td style=\"text-align: right;\">   -87.7654</td><td>(41.895080471, -87.765400451)</td><td>Friday  </td><td>11:30:00</td><td>September</td><td>Austin         </td></tr>\n",
       "<tr><td><i style='opacity: 0.6'>2</i></td><td style=\"text-align: right;\">10224740</td><td>035XX W BARRY AVE      </td><td>NARCOTICS     </td><td>POSS: HEROIN(BRN/TAN)  </td><td>SIDEWALK                      </td><td>Yes     </td><td>No        </td><td style=\"text-align: right;\">  1412</td><td style=\"text-align: right;\">        14</td><td style=\"text-align: right;\">  2015</td><td style=\"text-align: right;\">   41.9374</td><td style=\"text-align: right;\">   -87.7166</td><td>(41.937405765, -87.716649687)</td><td>Saturday</td><td>12:45:00</td><td>September</td><td>Shakespeare    </td></tr>\n",
       "<tr><td><i style='opacity: 0.6'>3</i></td><td style=\"text-align: right;\">10224741</td><td>0000X N LARAMIE AVE    </td><td>ASSAULT       </td><td>SIMPLE                 </td><td>APARTMENT                     </td><td>No      </td><td>Yes       </td><td style=\"text-align: right;\">  1522</td><td style=\"text-align: right;\">        15</td><td style=\"text-align: right;\">  2015</td><td style=\"text-align: right;\">   41.8819</td><td style=\"text-align: right;\">   -87.7551</td><td>(41.881903443, -87.755121152)</td><td>Saturday</td><td>13:00:00</td><td>September</td><td>Austin         </td></tr>\n",
       "<tr><td><i style='opacity: 0.6'>4</i></td><td style=\"text-align: right;\">10224742</td><td>082XX S LOOMIS BLVD    </td><td>BURGLARY      </td><td>FORCIBLE ENTRY         </td><td>RESIDENCE                     </td><td>No      </td><td>No        </td><td style=\"text-align: right;\">   614</td><td style=\"text-align: right;\">         6</td><td style=\"text-align: right;\">  2015</td><td style=\"text-align: right;\">   41.7444</td><td style=\"text-align: right;\">   -87.6584</td><td>(41.744378879, -87.658430635)</td><td>Saturday</td><td>10:55:00</td><td>September</td><td>Gresham        </td></tr>\n",
       "<tr><td><i style='opacity: 0.6'>5</i></td><td style=\"text-align: right;\">10224743</td><td>021XX W CHURCHILL ST   </td><td>BURGLARY      </td><td>UNLAWFUL ENTRY         </td><td>RESIDENCE-GARAGE              </td><td>No      </td><td>No        </td><td style=\"text-align: right;\">  1434</td><td style=\"text-align: right;\">        14</td><td style=\"text-align: right;\">  2015</td><td style=\"text-align: right;\">   41.9146</td><td style=\"text-align: right;\">   -87.6816</td><td>(41.914635603, -87.681630909)</td><td>Friday  </td><td>18:00:00</td><td>September</td><td>Shakespeare    </td></tr>\n",
       "<tr><td><i style='opacity: 0.6'>6</i></td><td style=\"text-align: right;\">10224744</td><td>025XX W CERMAK RD      </td><td>THEFT         </td><td>RETAIL THEFT           </td><td>GROCERY FOOD STORE            </td><td>Yes     </td><td>No        </td><td style=\"text-align: right;\">  1034</td><td style=\"text-align: right;\">        10</td><td style=\"text-align: right;\">  2015</td><td style=\"text-align: right;\">   41.852 </td><td style=\"text-align: right;\">   -87.6892</td><td>(41.851988885, -87.689219118)</td><td>Saturday</td><td>13:00:00</td><td>September</td><td>Ogden          </td></tr>\n",
       "<tr><td><i style='opacity: 0.6'>7</i></td><td style=\"text-align: right;\">10224745</td><td>031XX W WASHINGTON BLVD</td><td>ROBBERY       </td><td>STRONGARM - NO WEAPON  </td><td>STREET                        </td><td>No      </td><td>Yes       </td><td style=\"text-align: right;\">  1222</td><td style=\"text-align: right;\">        12</td><td style=\"text-align: right;\">  2015</td><td style=\"text-align: right;\">   41.8828</td><td style=\"text-align: right;\">   -87.7043</td><td>(41.88281374, -87.704325717) </td><td>Saturday</td><td>11:30:00</td><td>September</td><td>Near West      </td></tr>\n",
       "<tr><td><i style='opacity: 0.6'>8</i></td><td style=\"text-align: right;\">10224746</td><td>071XX S PULASKI RD     </td><td>THEFT         </td><td>$500 AND UNDER         </td><td>PARKING LOT/GARAGE(NON.RESID.)</td><td>No      </td><td>No        </td><td style=\"text-align: right;\">   833</td><td style=\"text-align: right;\">         8</td><td style=\"text-align: right;\">  2015</td><td style=\"text-align: right;\">   41.7636</td><td style=\"text-align: right;\">   -87.7223</td><td>(41.763647552, -87.722344693)</td><td>Saturday</td><td>14:00:00</td><td>September</td><td>Chicago Lawn   </td></tr>\n",
       "<tr><td><i style='opacity: 0.6'>9</i></td><td style=\"text-align: right;\">10224749</td><td>052XX N MILWAUKEE AVE  </td><td>BATTERY       </td><td>SIMPLE                 </td><td>SMALL RETAIL STORE            </td><td>No      </td><td>No        </td><td style=\"text-align: right;\">  1623</td><td style=\"text-align: right;\">        16</td><td style=\"text-align: right;\">  2015</td><td style=\"text-align: right;\">   41.976 </td><td style=\"text-align: right;\">   -87.768 </td><td>(41.975968415, -87.768014257)</td><td>Saturday</td><td>11:00:00</td><td>September</td><td>Jefferson Park </td></tr>\n",
       "</tbody>\n",
       "</table>"
      ],
      "text/plain": [
       "  #        ID  Block                    Primary Type    Description              Location Description            Arrest    Domestic      Beat    District    Year    Latitude    Longitude  Location                       Day       Time      Month      District_Name\n",
       "  0  10224738  043XX S WOOD ST          BATTERY         DOMESTIC BATTERY SIMPLE  RESIDENCE                       No        Yes            924           9    2015     41.8151     -87.67    (41.815117282, -87.669999562)  Saturday  13:30:00  September  Deering\n",
       "  1  10224739  008XX N CENTRAL AVE      THEFT           POCKET-PICKING           CTA BUS                         No        No            1511          15    2015     41.8951     -87.7654  (41.895080471, -87.765400451)  Friday    11:30:00  September  Austin\n",
       "  2  10224740  035XX W BARRY AVE        NARCOTICS       POSS: HEROIN(BRN/TAN)    SIDEWALK                        Yes       No            1412          14    2015     41.9374     -87.7166  (41.937405765, -87.716649687)  Saturday  12:45:00  September  Shakespeare\n",
       "  3  10224741  0000X N LARAMIE AVE      ASSAULT         SIMPLE                   APARTMENT                       No        Yes           1522          15    2015     41.8819     -87.7551  (41.881903443, -87.755121152)  Saturday  13:00:00  September  Austin\n",
       "  4  10224742  082XX S LOOMIS BLVD      BURGLARY        FORCIBLE ENTRY           RESIDENCE                       No        No             614           6    2015     41.7444     -87.6584  (41.744378879, -87.658430635)  Saturday  10:55:00  September  Gresham\n",
       "  5  10224743  021XX W CHURCHILL ST     BURGLARY        UNLAWFUL ENTRY           RESIDENCE-GARAGE                No        No            1434          14    2015     41.9146     -87.6816  (41.914635603, -87.681630909)  Friday    18:00:00  September  Shakespeare\n",
       "  6  10224744  025XX W CERMAK RD        THEFT           RETAIL THEFT             GROCERY FOOD STORE              Yes       No            1034          10    2015     41.852      -87.6892  (41.851988885, -87.689219118)  Saturday  13:00:00  September  Ogden\n",
       "  7  10224745  031XX W WASHINGTON BLVD  ROBBERY         STRONGARM - NO WEAPON    STREET                          No        Yes           1222          12    2015     41.8828     -87.7043  (41.88281374, -87.704325717)   Saturday  11:30:00  September  Near West\n",
       "  8  10224746  071XX S PULASKI RD       THEFT           $500 AND UNDER           PARKING LOT/GARAGE(NON.RESID.)  No        No             833           8    2015     41.7636     -87.7223  (41.763647552, -87.722344693)  Saturday  14:00:00  September  Chicago Lawn\n",
       "  9  10224749  052XX N MILWAUKEE AVE    BATTERY         SIMPLE                   SMALL RETAIL STORE              No        No            1623          16    2015     41.976      -87.768   (41.975968415, -87.768014257)  Saturday  11:00:00  September  Jefferson Park"
      ]
     },
     "execution_count": 27,
     "metadata": {},
     "output_type": "execute_result"
    }
   ],
   "source": [
    "data_frame[\"Domestic\"] = data_frame.Domestic.map({True: 'Yes', False: 'No'})\n",
    "data_frame.head()"
   ]
  },
  {
   "cell_type": "code",
   "execution_count": 47,
   "metadata": {},
   "outputs": [],
   "source": [
    "data_frame.export_hdf5(\"dataset/cleaned_2010_map2.hdf5\")"
   ]
  },
  {
   "cell_type": "code",
   "execution_count": 46,
   "metadata": {},
   "outputs": [
    {
     "ename": "RuntimeError",
     "evalue": "end index should be larger or equal to start index",
     "output_type": "error",
     "traceback": [
      "\u001b[0;31m---------------------------------------------------------------------------\u001b[0m",
      "\u001b[0;31mRuntimeError\u001b[0m                              Traceback (most recent call last)",
      "\u001b[1;32m/workspaces/diva536/newapp/demo.ipynb Cell 10'\u001b[0m in \u001b[0;36m<cell line: 2>\u001b[0;34m()\u001b[0m\n\u001b[1;32m      <a href='vscode-notebook-cell://codespaces%2Bvamshi900-diva536-7r6wwgxv2p7p/workspaces/diva536/newapp/demo.ipynb#ch0000013vscode-remote?line=0'>1</a>\u001b[0m tdf \u001b[39m=\u001b[39m data_frame[data_frame\u001b[39m.\u001b[39mDistrict_Name \u001b[39m==\u001b[39m \u001b[39m'\u001b[39m\u001b[39mmissing Washington Park\u001b[39m\u001b[39m'\u001b[39m]\n\u001b[0;32m----> <a href='vscode-notebook-cell://codespaces%2Bvamshi900-diva536-7r6wwgxv2p7p/workspaces/diva536/newapp/demo.ipynb#ch0000013vscode-remote?line=1'>2</a>\u001b[0m tdf\u001b[39m.\u001b[39;49mhead(\u001b[39m10\u001b[39;49m)\n",
      "File \u001b[0;32m/workspaces/diva536/.venv/lib/python3.8/site-packages/vaex/dataframe.py:3950\u001b[0m, in \u001b[0;36mDataFrame.head\u001b[0;34m(self, n)\u001b[0m\n\u001b[1;32m   <a href='file:///workspaces/diva536/.venv/lib/python3.8/site-packages/vaex/dataframe.py?line=3947'>3948</a>\u001b[0m \u001b[39mdef\u001b[39;00m \u001b[39mhead\u001b[39m(\u001b[39mself\u001b[39m, n\u001b[39m=\u001b[39m\u001b[39m10\u001b[39m):\n\u001b[1;32m   <a href='file:///workspaces/diva536/.venv/lib/python3.8/site-packages/vaex/dataframe.py?line=3948'>3949</a>\u001b[0m     \u001b[39m\"\"\"Return a shallow copy a DataFrame with the first n rows.\"\"\"\u001b[39;00m\n\u001b[0;32m-> <a href='file:///workspaces/diva536/.venv/lib/python3.8/site-packages/vaex/dataframe.py?line=3949'>3950</a>\u001b[0m     \u001b[39mreturn\u001b[39;00m \u001b[39mself\u001b[39;49m[:\u001b[39mmin\u001b[39;49m(n, \u001b[39mlen\u001b[39;49m(\u001b[39mself\u001b[39;49m))]\n",
      "File \u001b[0;32m/workspaces/diva536/.venv/lib/python3.8/site-packages/vaex/dataframe.py:5381\u001b[0m, in \u001b[0;36mDataFrame.__getitem__\u001b[0;34m(self, item)\u001b[0m\n\u001b[1;32m   <a href='file:///workspaces/diva536/.venv/lib/python3.8/site-packages/vaex/dataframe.py?line=5378'>5379</a>\u001b[0m \u001b[39mself\u001b[39m\u001b[39m.\u001b[39m_fill_filter_mask()\n\u001b[1;32m   <a href='file:///workspaces/diva536/.venv/lib/python3.8/site-packages/vaex/dataframe.py?line=5379'>5380</a>\u001b[0m mask \u001b[39m=\u001b[39m \u001b[39mself\u001b[39m\u001b[39m.\u001b[39m_selection_masks[FILTER_SELECTION_NAME]\n\u001b[0;32m-> <a href='file:///workspaces/diva536/.venv/lib/python3.8/site-packages/vaex/dataframe.py?line=5380'>5381</a>\u001b[0m startf, stopf \u001b[39m=\u001b[39m mask\u001b[39m.\u001b[39;49mindices(start, stop\u001b[39m-\u001b[39;49m\u001b[39m1\u001b[39;49m) \u001b[39m# -1 since it is inclusive\u001b[39;00m\n\u001b[1;32m   <a href='file:///workspaces/diva536/.venv/lib/python3.8/site-packages/vaex/dataframe.py?line=5381'>5382</a>\u001b[0m \u001b[39massert\u001b[39;00m startf \u001b[39m!=\u001b[39m \u001b[39m-\u001b[39m\u001b[39m1\u001b[39m\n\u001b[1;32m   <a href='file:///workspaces/diva536/.venv/lib/python3.8/site-packages/vaex/dataframe.py?line=5382'>5383</a>\u001b[0m \u001b[39massert\u001b[39;00m stopf \u001b[39m!=\u001b[39m \u001b[39m-\u001b[39m\u001b[39m1\u001b[39m\n",
      "\u001b[0;31mRuntimeError\u001b[0m: end index should be larger or equal to start index"
     ]
    }
   ],
   "source": [
    "tdf = data_frame[data_frame.District_Name == 'missing Washington Park']\n",
    "tdf.head(10)"
   ]
  },
  {
   "cell_type": "code",
   "execution_count": 43,
   "metadata": {},
   "outputs": [
    {
     "name": "stdout",
     "output_type": "stream",
     "text": [
      "{'Near North': 'Near North', 'Deering': 'Deering', 'Morgan Park': 'Morgan Park', 'Wentworth': 'Wentworth', 'Englewood': 'Englewood', 'Shakespeare': 'Shakespeare', 'Central': 'Central', 'Rogers Park': 'Rogers Park', 'Jefferson Park': 'Jefferson Park', 'Calumet': 'Calumet', 'Grand Central': 'Grand Central', 'Town Hall': 'Town Hall', 'South Chicago': 'South Chicago', 'Chicago Lawn': 'Chicago Lawn', 'Austin': 'Austin', 'Grand Crossing': 'Grand Crossing', 'Near West': 'Near West', 'Ogden': 'Ogden', 'Albany Park': 'Albany Park', 'Harrison': 'Harrison', 'Gresham': 'Gresham', 'Washington Park': 'Washington Park', 'Lincoln': 'Lincoln', 'missing Washington Park': 'Washington Park'}\n"
     ]
    }
   ],
   "source": [
    "ls = data_frame[\"District_Name\"].unique()\n",
    "mp = {}\n",
    "for v in ls:\n",
    "    mp[v] = v\n",
    "mp[\"missing Washington Park\"] = \"Washington Park\"\n",
    "print(mp)"
   ]
  },
  {
   "cell_type": "code",
   "execution_count": 44,
   "metadata": {},
   "outputs": [
    {
     "data": {
      "text/html": [
       "<table>\n",
       "<thead>\n",
       "<tr><th>#                            </th><th style=\"text-align: right;\">      ID</th><th>Block                  </th><th>Primary Type  </th><th>Description            </th><th>Location Description          </th><th>Arrest  </th><th>Domestic  </th><th style=\"text-align: right;\">  Beat</th><th style=\"text-align: right;\">  District</th><th style=\"text-align: right;\">  Year</th><th style=\"text-align: right;\">  Latitude</th><th style=\"text-align: right;\">  Longitude</th><th>Location                     </th><th>Day     </th><th>Time    </th><th>Month    </th><th>District_Name  </th></tr>\n",
       "</thead>\n",
       "<tbody>\n",
       "<tr><td><i style='opacity: 0.6'>0</i></td><td style=\"text-align: right;\">10224738</td><td>043XX S WOOD ST        </td><td>BATTERY       </td><td>DOMESTIC BATTERY SIMPLE</td><td>RESIDENCE                     </td><td>No      </td><td>Yes       </td><td style=\"text-align: right;\">   924</td><td style=\"text-align: right;\">         9</td><td style=\"text-align: right;\">  2015</td><td style=\"text-align: right;\">   41.8151</td><td style=\"text-align: right;\">   -87.67  </td><td>(41.815117282, -87.669999562)</td><td>Saturday</td><td>13:30:00</td><td>September</td><td>Deering        </td></tr>\n",
       "<tr><td><i style='opacity: 0.6'>1</i></td><td style=\"text-align: right;\">10224739</td><td>008XX N CENTRAL AVE    </td><td>THEFT         </td><td>POCKET-PICKING         </td><td>CTA BUS                       </td><td>No      </td><td>No        </td><td style=\"text-align: right;\">  1511</td><td style=\"text-align: right;\">        15</td><td style=\"text-align: right;\">  2015</td><td style=\"text-align: right;\">   41.8951</td><td style=\"text-align: right;\">   -87.7654</td><td>(41.895080471, -87.765400451)</td><td>Friday  </td><td>11:30:00</td><td>September</td><td>Austin         </td></tr>\n",
       "<tr><td><i style='opacity: 0.6'>2</i></td><td style=\"text-align: right;\">10224740</td><td>035XX W BARRY AVE      </td><td>NARCOTICS     </td><td>POSS: HEROIN(BRN/TAN)  </td><td>SIDEWALK                      </td><td>Yes     </td><td>No        </td><td style=\"text-align: right;\">  1412</td><td style=\"text-align: right;\">        14</td><td style=\"text-align: right;\">  2015</td><td style=\"text-align: right;\">   41.9374</td><td style=\"text-align: right;\">   -87.7166</td><td>(41.937405765, -87.716649687)</td><td>Saturday</td><td>12:45:00</td><td>September</td><td>Shakespeare    </td></tr>\n",
       "<tr><td><i style='opacity: 0.6'>3</i></td><td style=\"text-align: right;\">10224741</td><td>0000X N LARAMIE AVE    </td><td>ASSAULT       </td><td>SIMPLE                 </td><td>APARTMENT                     </td><td>No      </td><td>Yes       </td><td style=\"text-align: right;\">  1522</td><td style=\"text-align: right;\">        15</td><td style=\"text-align: right;\">  2015</td><td style=\"text-align: right;\">   41.8819</td><td style=\"text-align: right;\">   -87.7551</td><td>(41.881903443, -87.755121152)</td><td>Saturday</td><td>13:00:00</td><td>September</td><td>Austin         </td></tr>\n",
       "<tr><td><i style='opacity: 0.6'>4</i></td><td style=\"text-align: right;\">10224742</td><td>082XX S LOOMIS BLVD    </td><td>BURGLARY      </td><td>FORCIBLE ENTRY         </td><td>RESIDENCE                     </td><td>No      </td><td>No        </td><td style=\"text-align: right;\">   614</td><td style=\"text-align: right;\">         6</td><td style=\"text-align: right;\">  2015</td><td style=\"text-align: right;\">   41.7444</td><td style=\"text-align: right;\">   -87.6584</td><td>(41.744378879, -87.658430635)</td><td>Saturday</td><td>10:55:00</td><td>September</td><td>Gresham        </td></tr>\n",
       "<tr><td><i style='opacity: 0.6'>5</i></td><td style=\"text-align: right;\">10224743</td><td>021XX W CHURCHILL ST   </td><td>BURGLARY      </td><td>UNLAWFUL ENTRY         </td><td>RESIDENCE-GARAGE              </td><td>No      </td><td>No        </td><td style=\"text-align: right;\">  1434</td><td style=\"text-align: right;\">        14</td><td style=\"text-align: right;\">  2015</td><td style=\"text-align: right;\">   41.9146</td><td style=\"text-align: right;\">   -87.6816</td><td>(41.914635603, -87.681630909)</td><td>Friday  </td><td>18:00:00</td><td>September</td><td>Shakespeare    </td></tr>\n",
       "<tr><td><i style='opacity: 0.6'>6</i></td><td style=\"text-align: right;\">10224744</td><td>025XX W CERMAK RD      </td><td>THEFT         </td><td>RETAIL THEFT           </td><td>GROCERY FOOD STORE            </td><td>Yes     </td><td>No        </td><td style=\"text-align: right;\">  1034</td><td style=\"text-align: right;\">        10</td><td style=\"text-align: right;\">  2015</td><td style=\"text-align: right;\">   41.852 </td><td style=\"text-align: right;\">   -87.6892</td><td>(41.851988885, -87.689219118)</td><td>Saturday</td><td>13:00:00</td><td>September</td><td>Ogden          </td></tr>\n",
       "<tr><td><i style='opacity: 0.6'>7</i></td><td style=\"text-align: right;\">10224745</td><td>031XX W WASHINGTON BLVD</td><td>ROBBERY       </td><td>STRONGARM - NO WEAPON  </td><td>STREET                        </td><td>No      </td><td>Yes       </td><td style=\"text-align: right;\">  1222</td><td style=\"text-align: right;\">        12</td><td style=\"text-align: right;\">  2015</td><td style=\"text-align: right;\">   41.8828</td><td style=\"text-align: right;\">   -87.7043</td><td>(41.88281374, -87.704325717) </td><td>Saturday</td><td>11:30:00</td><td>September</td><td>Near West      </td></tr>\n",
       "<tr><td><i style='opacity: 0.6'>8</i></td><td style=\"text-align: right;\">10224746</td><td>071XX S PULASKI RD     </td><td>THEFT         </td><td>$500 AND UNDER         </td><td>PARKING LOT/GARAGE(NON.RESID.)</td><td>No      </td><td>No        </td><td style=\"text-align: right;\">   833</td><td style=\"text-align: right;\">         8</td><td style=\"text-align: right;\">  2015</td><td style=\"text-align: right;\">   41.7636</td><td style=\"text-align: right;\">   -87.7223</td><td>(41.763647552, -87.722344693)</td><td>Saturday</td><td>14:00:00</td><td>September</td><td>Chicago Lawn   </td></tr>\n",
       "<tr><td><i style='opacity: 0.6'>9</i></td><td style=\"text-align: right;\">10224749</td><td>052XX N MILWAUKEE AVE  </td><td>BATTERY       </td><td>SIMPLE                 </td><td>SMALL RETAIL STORE            </td><td>No      </td><td>No        </td><td style=\"text-align: right;\">  1623</td><td style=\"text-align: right;\">        16</td><td style=\"text-align: right;\">  2015</td><td style=\"text-align: right;\">   41.976 </td><td style=\"text-align: right;\">   -87.768 </td><td>(41.975968415, -87.768014257)</td><td>Saturday</td><td>11:00:00</td><td>September</td><td>Jefferson Park </td></tr>\n",
       "</tbody>\n",
       "</table>"
      ],
      "text/plain": [
       "  #        ID  Block                    Primary Type    Description              Location Description            Arrest    Domestic      Beat    District    Year    Latitude    Longitude  Location                       Day       Time      Month      District_Name\n",
       "  0  10224738  043XX S WOOD ST          BATTERY         DOMESTIC BATTERY SIMPLE  RESIDENCE                       No        Yes            924           9    2015     41.8151     -87.67    (41.815117282, -87.669999562)  Saturday  13:30:00  September  Deering\n",
       "  1  10224739  008XX N CENTRAL AVE      THEFT           POCKET-PICKING           CTA BUS                         No        No            1511          15    2015     41.8951     -87.7654  (41.895080471, -87.765400451)  Friday    11:30:00  September  Austin\n",
       "  2  10224740  035XX W BARRY AVE        NARCOTICS       POSS: HEROIN(BRN/TAN)    SIDEWALK                        Yes       No            1412          14    2015     41.9374     -87.7166  (41.937405765, -87.716649687)  Saturday  12:45:00  September  Shakespeare\n",
       "  3  10224741  0000X N LARAMIE AVE      ASSAULT         SIMPLE                   APARTMENT                       No        Yes           1522          15    2015     41.8819     -87.7551  (41.881903443, -87.755121152)  Saturday  13:00:00  September  Austin\n",
       "  4  10224742  082XX S LOOMIS BLVD      BURGLARY        FORCIBLE ENTRY           RESIDENCE                       No        No             614           6    2015     41.7444     -87.6584  (41.744378879, -87.658430635)  Saturday  10:55:00  September  Gresham\n",
       "  5  10224743  021XX W CHURCHILL ST     BURGLARY        UNLAWFUL ENTRY           RESIDENCE-GARAGE                No        No            1434          14    2015     41.9146     -87.6816  (41.914635603, -87.681630909)  Friday    18:00:00  September  Shakespeare\n",
       "  6  10224744  025XX W CERMAK RD        THEFT           RETAIL THEFT             GROCERY FOOD STORE              Yes       No            1034          10    2015     41.852      -87.6892  (41.851988885, -87.689219118)  Saturday  13:00:00  September  Ogden\n",
       "  7  10224745  031XX W WASHINGTON BLVD  ROBBERY         STRONGARM - NO WEAPON    STREET                          No        Yes           1222          12    2015     41.8828     -87.7043  (41.88281374, -87.704325717)   Saturday  11:30:00  September  Near West\n",
       "  8  10224746  071XX S PULASKI RD       THEFT           $500 AND UNDER           PARKING LOT/GARAGE(NON.RESID.)  No        No             833           8    2015     41.7636     -87.7223  (41.763647552, -87.722344693)  Saturday  14:00:00  September  Chicago Lawn\n",
       "  9  10224749  052XX N MILWAUKEE AVE    BATTERY         SIMPLE                   SMALL RETAIL STORE              No        No            1623          16    2015     41.976      -87.768   (41.975968415, -87.768014257)  Saturday  11:00:00  September  Jefferson Park"
      ]
     },
     "execution_count": 44,
     "metadata": {},
     "output_type": "execute_result"
    }
   ],
   "source": [
    "data_frame[\"District_Name\"] = data_frame.District_Name.map(mp)\n",
    "data_frame.head()"
   ]
  },
  {
   "cell_type": "code",
   "execution_count": 27,
   "metadata": {},
   "outputs": [
    {
     "name": "stdout",
     "output_type": "stream",
     "text": [
      "25.0\n"
     ]
    }
   ],
   "source": []
  },
  {
   "cell_type": "code",
   "execution_count": 41,
   "metadata": {},
   "outputs": [
    {
     "data": {
      "text/html": [
       "<div>\n",
       "<style scoped>\n",
       "    .dataframe tbody tr th:only-of-type {\n",
       "        vertical-align: middle;\n",
       "    }\n",
       "\n",
       "    .dataframe tbody tr th {\n",
       "        vertical-align: top;\n",
       "    }\n",
       "\n",
       "    .dataframe thead th {\n",
       "        text-align: right;\n",
       "    }\n",
       "</style>\n",
       "<table border=\"1\" class=\"dataframe\">\n",
       "  <thead>\n",
       "    <tr style=\"text-align: right;\">\n",
       "      <th></th>\n",
       "      <th>District</th>\n",
       "      <th>Primary Type</th>\n",
       "      <th>total_case</th>\n",
       "    </tr>\n",
       "  </thead>\n",
       "  <tbody>\n",
       "    <tr>\n",
       "      <th>0</th>\n",
       "      <td>25.0</td>\n",
       "      <td>THEFT</td>\n",
       "      <td>476</td>\n",
       "    </tr>\n",
       "    <tr>\n",
       "      <th>1</th>\n",
       "      <td>25.0</td>\n",
       "      <td>BATTERY</td>\n",
       "      <td>457</td>\n",
       "    </tr>\n",
       "    <tr>\n",
       "      <th>2</th>\n",
       "      <td>25.0</td>\n",
       "      <td>CRIMINAL DAMAGE</td>\n",
       "      <td>282</td>\n",
       "    </tr>\n",
       "    <tr>\n",
       "      <th>3</th>\n",
       "      <td>25.0</td>\n",
       "      <td>OTHER OFFENSE</td>\n",
       "      <td>190</td>\n",
       "    </tr>\n",
       "    <tr>\n",
       "      <th>4</th>\n",
       "      <td>25.0</td>\n",
       "      <td>NARCOTICS</td>\n",
       "      <td>188</td>\n",
       "    </tr>\n",
       "    <tr>\n",
       "      <th>26</th>\n",
       "      <td>24.0</td>\n",
       "      <td>THEFT</td>\n",
       "      <td>344</td>\n",
       "    </tr>\n",
       "    <tr>\n",
       "      <th>27</th>\n",
       "      <td>24.0</td>\n",
       "      <td>BATTERY</td>\n",
       "      <td>263</td>\n",
       "    </tr>\n",
       "    <tr>\n",
       "      <th>28</th>\n",
       "      <td>24.0</td>\n",
       "      <td>CRIMINAL DAMAGE</td>\n",
       "      <td>141</td>\n",
       "    </tr>\n",
       "    <tr>\n",
       "      <th>29</th>\n",
       "      <td>24.0</td>\n",
       "      <td>OTHER OFFENSE</td>\n",
       "      <td>99</td>\n",
       "    </tr>\n",
       "    <tr>\n",
       "      <th>30</th>\n",
       "      <td>24.0</td>\n",
       "      <td>DECEPTIVE PRACTICE</td>\n",
       "      <td>91</td>\n",
       "    </tr>\n",
       "  </tbody>\n",
       "</table>\n",
       "</div>"
      ],
      "text/plain": [
       "    District        Primary Type  total_case\n",
       "0       25.0               THEFT         476\n",
       "1       25.0             BATTERY         457\n",
       "2       25.0     CRIMINAL DAMAGE         282\n",
       "3       25.0       OTHER OFFENSE         190\n",
       "4       25.0           NARCOTICS         188\n",
       "26      24.0               THEFT         344\n",
       "27      24.0             BATTERY         263\n",
       "28      24.0     CRIMINAL DAMAGE         141\n",
       "29      24.0       OTHER OFFENSE          99\n",
       "30      24.0  DECEPTIVE PRACTICE          91"
      ]
     },
     "execution_count": 41,
     "metadata": {},
     "output_type": "execute_result"
    }
   ],
   "source": [
    "temp_data_frame = data_frame[[\"Primary Type\", \"District\"]]\n",
    "temp_data_frame = temp_data_frame.groupby([temp_data_frame[\"District\"], temp_data_frame[\"Primary Type\"]],\n",
    "                                agg={'total_case': vx.agg.count('Primary Type')}, sort=True)\n",
    "temp_data_frame = temp_data_frame.sort(\n",
    "            [\"District\", \"total_case\"], ascending=False)\n",
    "temp_data_frame = temp_data_frame.to_pandas_df()\n",
    "temp_data_frame = temp_data_frame.groupby([\"District\"]).head(5)\n",
    "temp_data_frame.head(10)\n"
   ]
  },
  {
   "cell_type": "code",
   "execution_count": 32,
   "metadata": {},
   "outputs": [
    {
     "ename": "AttributeError",
     "evalue": "'GroupBy' object has no attribute 'count'",
     "output_type": "error",
     "traceback": [
      "\u001b[0;31m---------------------------------------------------------------------------\u001b[0m",
      "\u001b[0;31mAttributeError\u001b[0m                            Traceback (most recent call last)",
      "\u001b[1;32m/workspaces/diva536/newapp/demo.ipynb Cell 6'\u001b[0m in \u001b[0;36m<cell line: 11>\u001b[0;34m()\u001b[0m\n\u001b[1;32m      <a href='vscode-notebook-cell://codespaces%2Bvamshi900-diva536-7r6wwgxv2p7p/workspaces/diva536/newapp/demo.ipynb#ch0000003vscode-remote?line=7'>8</a>\u001b[0m         top_5_crimes \u001b[39m=\u001b[39m top_5_crimes\u001b[39m.\u001b[39mhead(\u001b[39m5\u001b[39m)\n\u001b[1;32m      <a href='vscode-notebook-cell://codespaces%2Bvamshi900-diva536-7r6wwgxv2p7p/workspaces/diva536/newapp/demo.ipynb#ch0000003vscode-remote?line=8'>9</a>\u001b[0m         \u001b[39mreturn\u001b[39;00m top_5_crimes\n\u001b[0;32m---> <a href='vscode-notebook-cell://codespaces%2Bvamshi900-diva536-7r6wwgxv2p7p/workspaces/diva536/newapp/demo.ipynb#ch0000003vscode-remote?line=10'>11</a>\u001b[0m \u001b[39mprint\u001b[39m(get_top_5_crimes())\n",
      "\u001b[1;32m/workspaces/diva536/newapp/demo.ipynb Cell 6'\u001b[0m in \u001b[0;36mget_top_5_crimes\u001b[0;34m()\u001b[0m\n\u001b[1;32m      <a href='vscode-notebook-cell://codespaces%2Bvamshi900-diva536-7r6wwgxv2p7p/workspaces/diva536/newapp/demo.ipynb#ch0000003vscode-remote?line=2'>3</a>\u001b[0m df \u001b[39m=\u001b[39m data_frame\u001b[39m.\u001b[39mcopy()\n\u001b[1;32m      <a href='vscode-notebook-cell://codespaces%2Bvamshi900-diva536-7r6wwgxv2p7p/workspaces/diva536/newapp/demo.ipynb#ch0000003vscode-remote?line=3'>4</a>\u001b[0m \u001b[39m# get the top 5 crimes\u001b[39;00m\n\u001b[0;32m----> <a href='vscode-notebook-cell://codespaces%2Bvamshi900-diva536-7r6wwgxv2p7p/workspaces/diva536/newapp/demo.ipynb#ch0000003vscode-remote?line=4'>5</a>\u001b[0m top_5_crimes \u001b[39m=\u001b[39m df\u001b[39m.\u001b[39;49mgroupby([\u001b[39m\"\u001b[39;49m\u001b[39mDistrict\u001b[39;49m\u001b[39m\"\u001b[39;49m, \u001b[39m\"\u001b[39;49m\u001b[39mPrimary Type\u001b[39;49m\u001b[39m\"\u001b[39;49m])\u001b[39m.\u001b[39;49mcount()\n\u001b[1;32m      <a href='vscode-notebook-cell://codespaces%2Bvamshi900-diva536-7r6wwgxv2p7p/workspaces/diva536/newapp/demo.ipynb#ch0000003vscode-remote?line=5'>6</a>\u001b[0m top_5_crimes \u001b[39m=\u001b[39m top_5_crimes\u001b[39m.\u001b[39msort_values(\n\u001b[1;32m      <a href='vscode-notebook-cell://codespaces%2Bvamshi900-diva536-7r6wwgxv2p7p/workspaces/diva536/newapp/demo.ipynb#ch0000003vscode-remote?line=6'>7</a>\u001b[0m     by\u001b[39m=\u001b[39m\u001b[39m\"\u001b[39m\u001b[39mCount\u001b[39m\u001b[39m\"\u001b[39m, ascending\u001b[39m=\u001b[39m\u001b[39mFalse\u001b[39;00m)\n\u001b[1;32m      <a href='vscode-notebook-cell://codespaces%2Bvamshi900-diva536-7r6wwgxv2p7p/workspaces/diva536/newapp/demo.ipynb#ch0000003vscode-remote?line=7'>8</a>\u001b[0m top_5_crimes \u001b[39m=\u001b[39m top_5_crimes\u001b[39m.\u001b[39mhead(\u001b[39m5\u001b[39m)\n",
      "\u001b[0;31mAttributeError\u001b[0m: 'GroupBy' object has no attribute 'count'"
     ]
    }
   ],
   "source": [
    "def get_top_5_crimes():\n",
    "        # get the data frame\n",
    "        df = data_frame.copy()\n",
    "        # get the top 5 crimes\n",
    "        top_5_crimes = df.groupby([\"District\", \"Primary Type\"]).count()\n",
    "        top_5_crimes = top_5_crimes.sort_values(\n",
    "            by=\"Count\", ascending=False)\n",
    "        top_5_crimes = top_5_crimes.head(5)\n",
    "        return top_5_crimes\n",
    "\n",
    "print(get_top_5_crimes())"
   ]
  },
  {
   "cell_type": "code",
   "execution_count": null,
   "metadata": {},
   "outputs": [],
   "source": []
  }
 ],
 "metadata": {
  "interpreter": {
   "hash": "7ec997fb6b1109af60e1a3991cfd945338bcfade1ed2f826316a6f7c6e4dce6e"
  },
  "kernelspec": {
   "display_name": "Python 3.8.12 ('.venv': venv)",
   "language": "python",
   "name": "python3"
  },
  "language_info": {
   "codemirror_mode": {
    "name": "ipython",
    "version": 3
   },
   "file_extension": ".py",
   "mimetype": "text/x-python",
   "name": "python",
   "nbconvert_exporter": "python",
   "pygments_lexer": "ipython3",
   "version": "3.8.12"
  },
  "orig_nbformat": 4
 },
 "nbformat": 4,
 "nbformat_minor": 2
}
