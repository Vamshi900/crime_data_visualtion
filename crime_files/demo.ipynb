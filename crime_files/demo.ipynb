{
 "cells": [
  {
   "cell_type": "code",
   "execution_count": 1,
   "metadata": {},
   "outputs": [],
   "source": [
    "import vaex as vx"
   ]
  },
  {
   "cell_type": "code",
   "execution_count": 4,
   "metadata": {},
   "outputs": [],
   "source": [
    "\n",
    "data_frame = vx.open(\"./dataset/crime_hdf5/*.hdf5\")"
   ]
  },
  {
   "cell_type": "code",
   "execution_count": 5,
   "metadata": {},
   "outputs": [
    {
     "data": {
      "text/html": [
       "<div>\n",
       "<style scoped>\n",
       "    .dataframe tbody tr th:only-of-type {\n",
       "        vertical-align: middle;\n",
       "    }\n",
       "\n",
       "    .dataframe tbody tr th {\n",
       "        vertical-align: top;\n",
       "    }\n",
       "\n",
       "    .dataframe thead th {\n",
       "        text-align: right;\n",
       "    }\n",
       "</style>\n",
       "<table border=\"1\" class=\"dataframe\">\n",
       "  <thead>\n",
       "    <tr style=\"text-align: right;\">\n",
       "      <th></th>\n",
       "      <th>Date</th>\n",
       "      <th>ID</th>\n",
       "      <th>Case Number</th>\n",
       "      <th>Date.1</th>\n",
       "      <th>Block</th>\n",
       "      <th>IUCR</th>\n",
       "      <th>Primary Type</th>\n",
       "      <th>Description</th>\n",
       "      <th>Location Description</th>\n",
       "      <th>Arrest</th>\n",
       "      <th>...</th>\n",
       "      <th>Y Coordinate</th>\n",
       "      <th>Year</th>\n",
       "      <th>Updated On</th>\n",
       "      <th>Latitude</th>\n",
       "      <th>Longitude</th>\n",
       "      <th>Location</th>\n",
       "      <th>Datetime</th>\n",
       "      <th>Day</th>\n",
       "      <th>Time</th>\n",
       "      <th>Month</th>\n",
       "    </tr>\n",
       "  </thead>\n",
       "  <tbody>\n",
       "    <tr>\n",
       "      <th>data_type</th>\n",
       "      <td>string</td>\n",
       "      <td>int64</td>\n",
       "      <td>string</td>\n",
       "      <td>string</td>\n",
       "      <td>string</td>\n",
       "      <td>string</td>\n",
       "      <td>string</td>\n",
       "      <td>string</td>\n",
       "      <td>string</td>\n",
       "      <td>bool</td>\n",
       "      <td>...</td>\n",
       "      <td>float64</td>\n",
       "      <td>int64</td>\n",
       "      <td>string</td>\n",
       "      <td>float64</td>\n",
       "      <td>float64</td>\n",
       "      <td>string</td>\n",
       "      <td>string</td>\n",
       "      <td>string</td>\n",
       "      <td>string</td>\n",
       "      <td>int64</td>\n",
       "    </tr>\n",
       "    <tr>\n",
       "      <th>count</th>\n",
       "      <td>6797353</td>\n",
       "      <td>6797353</td>\n",
       "      <td>6797353</td>\n",
       "      <td>6797353</td>\n",
       "      <td>6797353</td>\n",
       "      <td>6797353</td>\n",
       "      <td>6797353</td>\n",
       "      <td>6797353</td>\n",
       "      <td>6797353</td>\n",
       "      <td>6797353</td>\n",
       "      <td>...</td>\n",
       "      <td>6797353</td>\n",
       "      <td>6797353</td>\n",
       "      <td>6797353</td>\n",
       "      <td>6797353</td>\n",
       "      <td>6797353</td>\n",
       "      <td>6797353</td>\n",
       "      <td>6797353</td>\n",
       "      <td>6797353</td>\n",
       "      <td>6797353</td>\n",
       "      <td>6797353</td>\n",
       "    </tr>\n",
       "    <tr>\n",
       "      <th>NA</th>\n",
       "      <td>0</td>\n",
       "      <td>0</td>\n",
       "      <td>0</td>\n",
       "      <td>0</td>\n",
       "      <td>0</td>\n",
       "      <td>0</td>\n",
       "      <td>0</td>\n",
       "      <td>0</td>\n",
       "      <td>0</td>\n",
       "      <td>0</td>\n",
       "      <td>...</td>\n",
       "      <td>0</td>\n",
       "      <td>0</td>\n",
       "      <td>0</td>\n",
       "      <td>0</td>\n",
       "      <td>0</td>\n",
       "      <td>0</td>\n",
       "      <td>0</td>\n",
       "      <td>0</td>\n",
       "      <td>0</td>\n",
       "      <td>0</td>\n",
       "    </tr>\n",
       "    <tr>\n",
       "      <th>mean</th>\n",
       "      <td>--</td>\n",
       "      <td>7238846.809261488</td>\n",
       "      <td>--</td>\n",
       "      <td>--</td>\n",
       "      <td>--</td>\n",
       "      <td>--</td>\n",
       "      <td>--</td>\n",
       "      <td>--</td>\n",
       "      <td>--</td>\n",
       "      <td>0.2647520292090171</td>\n",
       "      <td>...</td>\n",
       "      <td>1885606.5473720431</td>\n",
       "      <td>2010.1834534707848</td>\n",
       "      <td>--</td>\n",
       "      <td>41.841700402455054</td>\n",
       "      <td>-87.67160925517986</td>\n",
       "      <td>--</td>\n",
       "      <td>--</td>\n",
       "      <td>--</td>\n",
       "      <td>--</td>\n",
       "      <td>6.627289917119208</td>\n",
       "    </tr>\n",
       "    <tr>\n",
       "      <th>std</th>\n",
       "      <td>--</td>\n",
       "      <td>3131891.424481</td>\n",
       "      <td>--</td>\n",
       "      <td>--</td>\n",
       "      <td>--</td>\n",
       "      <td>--</td>\n",
       "      <td>--</td>\n",
       "      <td>--</td>\n",
       "      <td>--</td>\n",
       "      <td>0.441201</td>\n",
       "      <td>...</td>\n",
       "      <td>32318.871102</td>\n",
       "      <td>5.555844</td>\n",
       "      <td>--</td>\n",
       "      <td>0.088918</td>\n",
       "      <td>0.061203</td>\n",
       "      <td>--</td>\n",
       "      <td>--</td>\n",
       "      <td>--</td>\n",
       "      <td>--</td>\n",
       "      <td>3.326418</td>\n",
       "    </tr>\n",
       "    <tr>\n",
       "      <th>min</th>\n",
       "      <td>--</td>\n",
       "      <td>634</td>\n",
       "      <td>--</td>\n",
       "      <td>--</td>\n",
       "      <td>--</td>\n",
       "      <td>--</td>\n",
       "      <td>--</td>\n",
       "      <td>--</td>\n",
       "      <td>--</td>\n",
       "      <td>False</td>\n",
       "      <td>...</td>\n",
       "      <td>0.0</td>\n",
       "      <td>2001</td>\n",
       "      <td>--</td>\n",
       "      <td>36.619446</td>\n",
       "      <td>-91.686566</td>\n",
       "      <td>--</td>\n",
       "      <td>--</td>\n",
       "      <td>--</td>\n",
       "      <td>--</td>\n",
       "      <td>1</td>\n",
       "    </tr>\n",
       "    <tr>\n",
       "      <th>max</th>\n",
       "      <td>--</td>\n",
       "      <td>12616162</td>\n",
       "      <td>--</td>\n",
       "      <td>--</td>\n",
       "      <td>--</td>\n",
       "      <td>--</td>\n",
       "      <td>--</td>\n",
       "      <td>--</td>\n",
       "      <td>--</td>\n",
       "      <td>True</td>\n",
       "      <td>...</td>\n",
       "      <td>1951573.0</td>\n",
       "      <td>2022</td>\n",
       "      <td>--</td>\n",
       "      <td>42.02271</td>\n",
       "      <td>-87.524529</td>\n",
       "      <td>--</td>\n",
       "      <td>--</td>\n",
       "      <td>--</td>\n",
       "      <td>--</td>\n",
       "      <td>12</td>\n",
       "    </tr>\n",
       "  </tbody>\n",
       "</table>\n",
       "<p>7 rows × 27 columns</p>\n",
       "</div>"
      ],
      "text/plain": [
       "              Date                 ID Case Number   Date.1    Block     IUCR  \\\n",
       "data_type   string              int64      string   string   string   string   \n",
       "count      6797353            6797353     6797353  6797353  6797353  6797353   \n",
       "NA               0                  0           0        0        0        0   \n",
       "mean            --  7238846.809261488          --       --       --       --   \n",
       "std             --     3131891.424481          --       --       --       --   \n",
       "min             --                634          --       --       --       --   \n",
       "max             --           12616162          --       --       --       --   \n",
       "\n",
       "          Primary Type Description Location Description              Arrest  \\\n",
       "data_type       string      string               string                bool   \n",
       "count          6797353     6797353              6797353             6797353   \n",
       "NA                   0           0                    0                   0   \n",
       "mean                --          --                   --  0.2647520292090171   \n",
       "std                 --          --                   --            0.441201   \n",
       "min                 --          --                   --               False   \n",
       "max                 --          --                   --                True   \n",
       "\n",
       "           ...        Y Coordinate                Year Updated On  \\\n",
       "data_type  ...             float64               int64     string   \n",
       "count      ...             6797353             6797353    6797353   \n",
       "NA         ...                   0                   0          0   \n",
       "mean       ...  1885606.5473720431  2010.1834534707848         --   \n",
       "std        ...        32318.871102            5.555844         --   \n",
       "min        ...                 0.0                2001         --   \n",
       "max        ...           1951573.0                2022         --   \n",
       "\n",
       "                     Latitude           Longitude Location Datetime      Day  \\\n",
       "data_type             float64             float64   string   string   string   \n",
       "count                 6797353             6797353  6797353  6797353  6797353   \n",
       "NA                          0                   0        0        0        0   \n",
       "mean       41.841700402455054  -87.67160925517986       --       --       --   \n",
       "std                  0.088918            0.061203       --       --       --   \n",
       "min                 36.619446          -91.686566       --       --       --   \n",
       "max                  42.02271          -87.524529       --       --       --   \n",
       "\n",
       "              Time              Month  \n",
       "data_type   string              int64  \n",
       "count      6797353            6797353  \n",
       "NA               0                  0  \n",
       "mean            --  6.627289917119208  \n",
       "std             --           3.326418  \n",
       "min             --                  1  \n",
       "max             --                 12  \n",
       "\n",
       "[7 rows x 27 columns]"
      ]
     },
     "execution_count": 5,
     "metadata": {},
     "output_type": "execute_result"
    }
   ],
   "source": [
    "data_frame.describe()"
   ]
  },
  {
   "cell_type": "code",
   "execution_count": 10,
   "metadata": {},
   "outputs": [
    {
     "ename": "KeyError",
     "evalue": "\"Column or variable 'Date.1' does not exist. Did you mean: 'Date'\"",
     "output_type": "error",
     "traceback": [
      "\u001b[0;31m---------------------------------------------------------------------------\u001b[0m",
      "\u001b[0;31mKeyError\u001b[0m                                  Traceback (most recent call last)",
      "\u001b[1;32m/workspaces/diva536/crime_files/demo.ipynb Cell 4'\u001b[0m in \u001b[0;36m<cell line: 2>\u001b[0;34m()\u001b[0m\n\u001b[1;32m      <a href='vscode-notebook-cell://codespaces%2Bvamshi900-diva536-4g566xrjcqgq6/workspaces/diva536/crime_files/demo.ipynb#ch0000016vscode-remote?line=0'>1</a>\u001b[0m to_drop\u001b[39m=\u001b[39m[\u001b[39m'\u001b[39m\u001b[39mDate.1\u001b[39m\u001b[39m'\u001b[39m,\u001b[39m'\u001b[39m\u001b[39mIUCR\u001b[39m\u001b[39m'\u001b[39m,\u001b[39m'\u001b[39m\u001b[39mX Coordinate\u001b[39m\u001b[39m'\u001b[39m,\u001b[39m'\u001b[39m\u001b[39mY Coordinate\u001b[39m\u001b[39m'\u001b[39m,\u001b[39m'\u001b[39m\u001b[39mUpdated On\u001b[39m\u001b[39m'\u001b[39m,\u001b[39m'\u001b[39m\u001b[39mWard\u001b[39m\u001b[39m'\u001b[39m,\u001b[39m'\u001b[39m\u001b[39mCase Number\u001b[39m\u001b[39m'\u001b[39m,\u001b[39m'\u001b[39m\u001b[39mCommunity Area\u001b[39m\u001b[39m'\u001b[39m ]\n\u001b[0;32m----> <a href='vscode-notebook-cell://codespaces%2Bvamshi900-diva536-4g566xrjcqgq6/workspaces/diva536/crime_files/demo.ipynb#ch0000016vscode-remote?line=1'>2</a>\u001b[0m data_frame\u001b[39m.\u001b[39;49mdrop(to_drop, inplace\u001b[39m=\u001b[39;49m\u001b[39mTrue\u001b[39;49;00m)\n",
      "File \u001b[0;32m/workspaces/diva536/.venv/lib/python3.8/site-packages/vaex/dataframe.py:5445\u001b[0m, in \u001b[0;36mDataFrame.drop\u001b[0;34m(self, columns, inplace, check)\u001b[0m\n\u001b[1;32m   <a href='file:///workspaces/diva536/.venv/lib/python3.8/site-packages/vaex/dataframe.py?line=5442'>5443</a>\u001b[0m         df\u001b[39m.\u001b[39m_hide_column(column)\n\u001b[1;32m   <a href='file:///workspaces/diva536/.venv/lib/python3.8/site-packages/vaex/dataframe.py?line=5443'>5444</a>\u001b[0m     \u001b[39melse\u001b[39;00m:\n\u001b[0;32m-> <a href='file:///workspaces/diva536/.venv/lib/python3.8/site-packages/vaex/dataframe.py?line=5444'>5445</a>\u001b[0m         df\u001b[39m.\u001b[39;49m_real_drop(column)\n\u001b[1;32m   <a href='file:///workspaces/diva536/.venv/lib/python3.8/site-packages/vaex/dataframe.py?line=5445'>5446</a>\u001b[0m \u001b[39mreturn\u001b[39;00m df\n",
      "File \u001b[0;32m/workspaces/diva536/.venv/lib/python3.8/site-packages/vaex/dataframe.py:5420\u001b[0m, in \u001b[0;36mDataFrame._real_drop\u001b[0;34m(self, item)\u001b[0m\n\u001b[1;32m   <a href='file:///workspaces/diva536/.venv/lib/python3.8/site-packages/vaex/dataframe.py?line=5417'>5418</a>\u001b[0m     \u001b[39mif\u001b[39;00m matches:\n\u001b[1;32m   <a href='file:///workspaces/diva536/.venv/lib/python3.8/site-packages/vaex/dataframe.py?line=5418'>5419</a>\u001b[0m         msg \u001b[39m+\u001b[39m\u001b[39m=\u001b[39m \u001b[39m'\u001b[39m\u001b[39m Did you mean: \u001b[39m\u001b[39m'\u001b[39m \u001b[39m+\u001b[39m \u001b[39m\"\u001b[39m\u001b[39m or \u001b[39m\u001b[39m\"\u001b[39m\u001b[39m.\u001b[39mjoin(\u001b[39mmap\u001b[39m(\u001b[39mrepr\u001b[39m, matches))\n\u001b[0;32m-> <a href='file:///workspaces/diva536/.venv/lib/python3.8/site-packages/vaex/dataframe.py?line=5419'>5420</a>\u001b[0m     \u001b[39mraise\u001b[39;00m \u001b[39mKeyError\u001b[39;00m(msg)\n\u001b[1;32m   <a href='file:///workspaces/diva536/.venv/lib/python3.8/site-packages/vaex/dataframe.py?line=5420'>5421</a>\u001b[0m \u001b[39mself\u001b[39m\u001b[39m.\u001b[39msignal_column_changed\u001b[39m.\u001b[39memit(\u001b[39mself\u001b[39m, name, \u001b[39m\"\u001b[39m\u001b[39mdelete\u001b[39m\u001b[39m\"\u001b[39m)\n\u001b[1;32m   <a href='file:///workspaces/diva536/.venv/lib/python3.8/site-packages/vaex/dataframe.py?line=5421'>5422</a>\u001b[0m \u001b[39mif\u001b[39;00m \u001b[39mhasattr\u001b[39m(\u001b[39mself\u001b[39m, name):\n",
      "\u001b[0;31mKeyError\u001b[0m: \"Column or variable 'Date.1' does not exist. Did you mean: 'Date'\""
     ]
    }
   ],
   "source": [
    "to_drop=['Date.1','IUCR','X Coordinate','Y Coordinate','Updated On','Ward','Case Number','Community Area' ]\n",
    "data_frame.drop(to_drop, inplace=True)"
   ]
  },
  {
   "cell_type": "code",
   "execution_count": 14,
   "metadata": {},
   "outputs": [
    {
     "data": {
      "text/html": [
       "<table>\n",
       "<thead>\n",
       "<tr><th>#                                    </th><th>Date               </th><th>ID      </th><th>Block                </th><th>Primary Type     </th><th>Description               </th><th>Location Description    </th><th>Arrest  </th><th>Domestic  </th><th>Beat  </th><th>District  </th><th>Community Area  </th><th>Year  </th><th>Latitude    </th><th>Longitude    </th><th>Datetime           </th><th>Day     </th><th>Time    </th><th>Month  </th></tr>\n",
       "</thead>\n",
       "<tbody>\n",
       "<tr><td><i style='opacity: 0.6'>0</i>        </td><td>2015-09-05 13:30:00</td><td>10224738</td><td>043XX S WOOD ST      </td><td>BATTERY          </td><td>DOMESTIC BATTERY SIMPLE   </td><td>RESIDENCE               </td><td>False   </td><td>True      </td><td>924   </td><td>9.0       </td><td>61.0            </td><td>2015  </td><td>41.815117282</td><td>-87.669999562</td><td>2015-09-05 13:30:00</td><td>Saturday</td><td>13:30:00</td><td>9      </td></tr>\n",
       "<tr><td><i style='opacity: 0.6'>1</i>        </td><td>2015-09-04 11:30:00</td><td>10224739</td><td>008XX N CENTRAL AVE  </td><td>THEFT            </td><td>POCKET-PICKING            </td><td>CTA BUS                 </td><td>False   </td><td>False     </td><td>1511  </td><td>15.0      </td><td>25.0            </td><td>2015  </td><td>41.895080471</td><td>-87.765400451</td><td>2015-09-04 11:30:00</td><td>Friday  </td><td>11:30:00</td><td>9      </td></tr>\n",
       "<tr><td><i style='opacity: 0.6'>2</i>        </td><td>2015-09-05 12:45:00</td><td>10224740</td><td>035XX W BARRY AVE    </td><td>NARCOTICS        </td><td>POSS: HEROIN(BRN/TAN)     </td><td>SIDEWALK                </td><td>True    </td><td>False     </td><td>1412  </td><td>14.0      </td><td>21.0            </td><td>2015  </td><td>41.937405765</td><td>-87.716649687</td><td>2015-09-05 12:45:00</td><td>Saturday</td><td>12:45:00</td><td>9      </td></tr>\n",
       "<tr><td><i style='opacity: 0.6'>3</i>        </td><td>2015-09-05 13:00:00</td><td>10224741</td><td>0000X N LARAMIE AVE  </td><td>ASSAULT          </td><td>SIMPLE                    </td><td>APARTMENT               </td><td>False   </td><td>True      </td><td>1522  </td><td>15.0      </td><td>25.0            </td><td>2015  </td><td>41.881903443</td><td>-87.755121152</td><td>2015-09-05 13:00:00</td><td>Saturday</td><td>13:00:00</td><td>9      </td></tr>\n",
       "<tr><td><i style='opacity: 0.6'>4</i>        </td><td>2015-09-05 10:55:00</td><td>10224742</td><td>082XX S LOOMIS BLVD  </td><td>BURGLARY         </td><td>FORCIBLE ENTRY            </td><td>RESIDENCE               </td><td>False   </td><td>False     </td><td>614   </td><td>6.0       </td><td>71.0            </td><td>2015  </td><td>41.744378879</td><td>-87.658430635</td><td>2015-09-05 10:55:00</td><td>Saturday</td><td>10:55:00</td><td>9      </td></tr>\n",
       "<tr><td>...                                  </td><td>...                </td><td>...     </td><td>...                  </td><td>...              </td><td>...                       </td><td>...                     </td><td>...     </td><td>...       </td><td>...   </td><td>...       </td><td>...             </td><td>...   </td><td>...         </td><td>...          </td><td>...                </td><td>...     </td><td>...     </td><td>...    </td></tr>\n",
       "<tr><td><i style='opacity: 0.6'>6,797,348</i></td><td>2022-02-07 15:00:00</td><td>12611986</td><td>007XX W 50TH PL      </td><td>OTHER OFFENSE    </td><td>HARASSMENT BY TELEPHONE   </td><td>APARTMENT               </td><td>False   </td><td>False     </td><td>935   </td><td>9.0       </td><td>61.0            </td><td>2022  </td><td>41.802520836</td><td>-87.643865412</td><td>2022-02-07 15:00:00</td><td>Monday  </td><td>15:00:00</td><td>2      </td></tr>\n",
       "<tr><td><i style='opacity: 0.6'>6,797,349</i></td><td>2022-02-07 13:00:00</td><td>12614268</td><td>014XX N OGDEN AVE    </td><td>ASSAULT          </td><td>SIMPLE                    </td><td>SCHOOL - PRIVATE GROUNDS</td><td>False   </td><td>False     </td><td>1822  </td><td>18.0      </td><td>8.0             </td><td>2022  </td><td>41.907722138</td><td>-87.645739645</td><td>2022-02-07 13:00:00</td><td>Monday  </td><td>13:00:00</td><td>2      </td></tr>\n",
       "<tr><td><i style='opacity: 0.6'>6,797,350</i></td><td>2022-02-07 18:00:00</td><td>12612478</td><td>106XX S LA SALLE ST  </td><td>THEFT            </td><td>$500 AND UNDER            </td><td>RESIDENCE               </td><td>False   </td><td>False     </td><td>512   </td><td>5.0       </td><td>49.0            </td><td>2022  </td><td>41.700472417</td><td>-87.626907339</td><td>2022-02-07 18:00:00</td><td>Monday  </td><td>18:00:00</td><td>2      </td></tr>\n",
       "<tr><td><i style='opacity: 0.6'>6,797,351</i></td><td>2022-02-07 18:18:00</td><td>12612008</td><td>032XX W EVERGREEN AVE</td><td>WEAPONS VIOLATION</td><td>RECKLESS FIREARM DISCHARGE</td><td>STREET                  </td><td>False   </td><td>False     </td><td>1422  </td><td>14.0      </td><td>23.0            </td><td>2022  </td><td>41.905554539</td><td>-87.70821325 </td><td>2022-02-07 18:18:00</td><td>Monday  </td><td>18:18:00</td><td>2      </td></tr>\n",
       "<tr><td><i style='opacity: 0.6'>6,797,352</i></td><td>2022-02-07 12:24:00</td><td>12611620</td><td>071XX S WESTERN AVE  </td><td>THEFT            </td><td>RETAIL THEFT              </td><td>DRUG STORE              </td><td>False   </td><td>False     </td><td>832   </td><td>8.0       </td><td>66.0            </td><td>2022  </td><td>41.764151886</td><td>-87.683229302</td><td>2022-02-07 12:24:00</td><td>Monday  </td><td>12:24:00</td><td>2      </td></tr>\n",
       "</tbody>\n",
       "</table>"
      ],
      "text/plain": [
       "#          Date                 ID        Block                  Primary Type       Description                 Location Description      Arrest    Domestic    Beat    District    Community Area    Year    Latitude      Longitude      Datetime             Day       Time      Month\n",
       "0          2015-09-05 13:30:00  10224738  043XX S WOOD ST        BATTERY            DOMESTIC BATTERY SIMPLE     RESIDENCE                 False     True        924     9.0         61.0              2015    41.815117282  -87.669999562  2015-09-05 13:30:00  Saturday  13:30:00  9\n",
       "1          2015-09-04 11:30:00  10224739  008XX N CENTRAL AVE    THEFT              POCKET-PICKING              CTA BUS                   False     False       1511    15.0        25.0              2015    41.895080471  -87.765400451  2015-09-04 11:30:00  Friday    11:30:00  9\n",
       "2          2015-09-05 12:45:00  10224740  035XX W BARRY AVE      NARCOTICS          POSS: HEROIN(BRN/TAN)       SIDEWALK                  True      False       1412    14.0        21.0              2015    41.937405765  -87.716649687  2015-09-05 12:45:00  Saturday  12:45:00  9\n",
       "3          2015-09-05 13:00:00  10224741  0000X N LARAMIE AVE    ASSAULT            SIMPLE                      APARTMENT                 False     True        1522    15.0        25.0              2015    41.881903443  -87.755121152  2015-09-05 13:00:00  Saturday  13:00:00  9\n",
       "4          2015-09-05 10:55:00  10224742  082XX S LOOMIS BLVD    BURGLARY           FORCIBLE ENTRY              RESIDENCE                 False     False       614     6.0         71.0              2015    41.744378879  -87.658430635  2015-09-05 10:55:00  Saturday  10:55:00  9\n",
       "...        ...                  ...       ...                    ...                ...                         ...                       ...       ...         ...     ...         ...               ...     ...           ...            ...                  ...       ...       ...\n",
       "6,797,348  2022-02-07 15:00:00  12611986  007XX W 50TH PL        OTHER OFFENSE      HARASSMENT BY TELEPHONE     APARTMENT                 False     False       935     9.0         61.0              2022    41.802520836  -87.643865412  2022-02-07 15:00:00  Monday    15:00:00  2\n",
       "6,797,349  2022-02-07 13:00:00  12614268  014XX N OGDEN AVE      ASSAULT            SIMPLE                      SCHOOL - PRIVATE GROUNDS  False     False       1822    18.0        8.0               2022    41.907722138  -87.645739645  2022-02-07 13:00:00  Monday    13:00:00  2\n",
       "6,797,350  2022-02-07 18:00:00  12612478  106XX S LA SALLE ST    THEFT              $500 AND UNDER              RESIDENCE                 False     False       512     5.0         49.0              2022    41.700472417  -87.626907339  2022-02-07 18:00:00  Monday    18:00:00  2\n",
       "6,797,351  2022-02-07 18:18:00  12612008  032XX W EVERGREEN AVE  WEAPONS VIOLATION  RECKLESS FIREARM DISCHARGE  STREET                    False     False       1422    14.0        23.0              2022    41.905554539  -87.70821325   2022-02-07 18:18:00  Monday    18:18:00  2\n",
       "6,797,352  2022-02-07 12:24:00  12611620  071XX S WESTERN AVE    THEFT              RETAIL THEFT                DRUG STORE                False     False       832     8.0         66.0              2022    41.764151886  -87.683229302  2022-02-07 12:24:00  Monday    12:24:00  2"
      ]
     },
     "execution_count": 14,
     "metadata": {},
     "output_type": "execute_result"
    }
   ],
   "source": [
    "# drop Location column\n",
    "data_frame.drop('FBI Code', inplace=True)"
   ]
  },
  {
   "cell_type": "code",
   "execution_count": 15,
   "metadata": {},
   "outputs": [
    {
     "data": {
      "text/html": [
       "<table>\n",
       "<thead>\n",
       "<tr><th>#                            </th><th>Date               </th><th style=\"text-align: right;\">      ID</th><th>Block                  </th><th>Primary Type  </th><th>Description            </th><th>Location Description          </th><th>Arrest  </th><th>Domestic  </th><th style=\"text-align: right;\">  Beat</th><th style=\"text-align: right;\">  District</th><th style=\"text-align: right;\">  Community Area</th><th style=\"text-align: right;\">  Year</th><th style=\"text-align: right;\">  Latitude</th><th style=\"text-align: right;\">  Longitude</th><th>Datetime           </th><th>Day     </th><th>Time    </th><th style=\"text-align: right;\">  Month</th></tr>\n",
       "</thead>\n",
       "<tbody>\n",
       "<tr><td><i style='opacity: 0.6'>0</i></td><td>2015-09-05 13:30:00</td><td style=\"text-align: right;\">10224738</td><td>043XX S WOOD ST        </td><td>BATTERY       </td><td>DOMESTIC BATTERY SIMPLE</td><td>RESIDENCE                     </td><td>False   </td><td>True      </td><td style=\"text-align: right;\">   924</td><td style=\"text-align: right;\">         9</td><td style=\"text-align: right;\">              61</td><td style=\"text-align: right;\">  2015</td><td style=\"text-align: right;\">   41.8151</td><td style=\"text-align: right;\">   -87.67  </td><td>2015-09-05 13:30:00</td><td>Saturday</td><td>13:30:00</td><td style=\"text-align: right;\">      9</td></tr>\n",
       "<tr><td><i style='opacity: 0.6'>1</i></td><td>2015-09-04 11:30:00</td><td style=\"text-align: right;\">10224739</td><td>008XX N CENTRAL AVE    </td><td>THEFT         </td><td>POCKET-PICKING         </td><td>CTA BUS                       </td><td>False   </td><td>False     </td><td style=\"text-align: right;\">  1511</td><td style=\"text-align: right;\">        15</td><td style=\"text-align: right;\">              25</td><td style=\"text-align: right;\">  2015</td><td style=\"text-align: right;\">   41.8951</td><td style=\"text-align: right;\">   -87.7654</td><td>2015-09-04 11:30:00</td><td>Friday  </td><td>11:30:00</td><td style=\"text-align: right;\">      9</td></tr>\n",
       "<tr><td><i style='opacity: 0.6'>2</i></td><td>2015-09-05 12:45:00</td><td style=\"text-align: right;\">10224740</td><td>035XX W BARRY AVE      </td><td>NARCOTICS     </td><td>POSS: HEROIN(BRN/TAN)  </td><td>SIDEWALK                      </td><td>True    </td><td>False     </td><td style=\"text-align: right;\">  1412</td><td style=\"text-align: right;\">        14</td><td style=\"text-align: right;\">              21</td><td style=\"text-align: right;\">  2015</td><td style=\"text-align: right;\">   41.9374</td><td style=\"text-align: right;\">   -87.7166</td><td>2015-09-05 12:45:00</td><td>Saturday</td><td>12:45:00</td><td style=\"text-align: right;\">      9</td></tr>\n",
       "<tr><td><i style='opacity: 0.6'>3</i></td><td>2015-09-05 13:00:00</td><td style=\"text-align: right;\">10224741</td><td>0000X N LARAMIE AVE    </td><td>ASSAULT       </td><td>SIMPLE                 </td><td>APARTMENT                     </td><td>False   </td><td>True      </td><td style=\"text-align: right;\">  1522</td><td style=\"text-align: right;\">        15</td><td style=\"text-align: right;\">              25</td><td style=\"text-align: right;\">  2015</td><td style=\"text-align: right;\">   41.8819</td><td style=\"text-align: right;\">   -87.7551</td><td>2015-09-05 13:00:00</td><td>Saturday</td><td>13:00:00</td><td style=\"text-align: right;\">      9</td></tr>\n",
       "<tr><td><i style='opacity: 0.6'>4</i></td><td>2015-09-05 10:55:00</td><td style=\"text-align: right;\">10224742</td><td>082XX S LOOMIS BLVD    </td><td>BURGLARY      </td><td>FORCIBLE ENTRY         </td><td>RESIDENCE                     </td><td>False   </td><td>False     </td><td style=\"text-align: right;\">   614</td><td style=\"text-align: right;\">         6</td><td style=\"text-align: right;\">              71</td><td style=\"text-align: right;\">  2015</td><td style=\"text-align: right;\">   41.7444</td><td style=\"text-align: right;\">   -87.6584</td><td>2015-09-05 10:55:00</td><td>Saturday</td><td>10:55:00</td><td style=\"text-align: right;\">      9</td></tr>\n",
       "<tr><td><i style='opacity: 0.6'>5</i></td><td>2015-09-04 18:00:00</td><td style=\"text-align: right;\">10224743</td><td>021XX W CHURCHILL ST   </td><td>BURGLARY      </td><td>UNLAWFUL ENTRY         </td><td>RESIDENCE-GARAGE              </td><td>False   </td><td>False     </td><td style=\"text-align: right;\">  1434</td><td style=\"text-align: right;\">        14</td><td style=\"text-align: right;\">              24</td><td style=\"text-align: right;\">  2015</td><td style=\"text-align: right;\">   41.9146</td><td style=\"text-align: right;\">   -87.6816</td><td>2015-09-04 18:00:00</td><td>Friday  </td><td>18:00:00</td><td style=\"text-align: right;\">      9</td></tr>\n",
       "<tr><td><i style='opacity: 0.6'>6</i></td><td>2015-09-05 13:00:00</td><td style=\"text-align: right;\">10224744</td><td>025XX W CERMAK RD      </td><td>THEFT         </td><td>RETAIL THEFT           </td><td>GROCERY FOOD STORE            </td><td>True    </td><td>False     </td><td style=\"text-align: right;\">  1034</td><td style=\"text-align: right;\">        10</td><td style=\"text-align: right;\">              31</td><td style=\"text-align: right;\">  2015</td><td style=\"text-align: right;\">   41.852 </td><td style=\"text-align: right;\">   -87.6892</td><td>2015-09-05 13:00:00</td><td>Saturday</td><td>13:00:00</td><td style=\"text-align: right;\">      9</td></tr>\n",
       "<tr><td><i style='opacity: 0.6'>7</i></td><td>2015-09-05 11:30:00</td><td style=\"text-align: right;\">10224745</td><td>031XX W WASHINGTON BLVD</td><td>ROBBERY       </td><td>STRONGARM - NO WEAPON  </td><td>STREET                        </td><td>False   </td><td>True      </td><td style=\"text-align: right;\">  1222</td><td style=\"text-align: right;\">        12</td><td style=\"text-align: right;\">              27</td><td style=\"text-align: right;\">  2015</td><td style=\"text-align: right;\">   41.8828</td><td style=\"text-align: right;\">   -87.7043</td><td>2015-09-05 11:30:00</td><td>Saturday</td><td>11:30:00</td><td style=\"text-align: right;\">      9</td></tr>\n",
       "<tr><td><i style='opacity: 0.6'>8</i></td><td>2015-09-05 14:00:00</td><td style=\"text-align: right;\">10224746</td><td>071XX S PULASKI RD     </td><td>THEFT         </td><td>$500 AND UNDER         </td><td>PARKING LOT/GARAGE(NON.RESID.)</td><td>False   </td><td>False     </td><td style=\"text-align: right;\">   833</td><td style=\"text-align: right;\">         8</td><td style=\"text-align: right;\">              65</td><td style=\"text-align: right;\">  2015</td><td style=\"text-align: right;\">   41.7636</td><td style=\"text-align: right;\">   -87.7223</td><td>2015-09-05 14:00:00</td><td>Saturday</td><td>14:00:00</td><td style=\"text-align: right;\">      9</td></tr>\n",
       "<tr><td><i style='opacity: 0.6'>9</i></td><td>2015-09-05 11:00:00</td><td style=\"text-align: right;\">10224749</td><td>052XX N MILWAUKEE AVE  </td><td>BATTERY       </td><td>SIMPLE                 </td><td>SMALL RETAIL STORE            </td><td>False   </td><td>False     </td><td style=\"text-align: right;\">  1623</td><td style=\"text-align: right;\">        16</td><td style=\"text-align: right;\">              11</td><td style=\"text-align: right;\">  2015</td><td style=\"text-align: right;\">   41.976 </td><td style=\"text-align: right;\">   -87.768 </td><td>2015-09-05 11:00:00</td><td>Saturday</td><td>11:00:00</td><td style=\"text-align: right;\">      9</td></tr>\n",
       "</tbody>\n",
       "</table>"
      ],
      "text/plain": [
       "  #  Date                       ID  Block                    Primary Type    Description              Location Description            Arrest    Domestic      Beat    District    Community Area    Year    Latitude    Longitude  Datetime             Day       Time        Month\n",
       "  0  2015-09-05 13:30:00  10224738  043XX S WOOD ST          BATTERY         DOMESTIC BATTERY SIMPLE  RESIDENCE                       False     True           924           9                61    2015     41.8151     -87.67    2015-09-05 13:30:00  Saturday  13:30:00        9\n",
       "  1  2015-09-04 11:30:00  10224739  008XX N CENTRAL AVE      THEFT           POCKET-PICKING           CTA BUS                         False     False         1511          15                25    2015     41.8951     -87.7654  2015-09-04 11:30:00  Friday    11:30:00        9\n",
       "  2  2015-09-05 12:45:00  10224740  035XX W BARRY AVE        NARCOTICS       POSS: HEROIN(BRN/TAN)    SIDEWALK                        True      False         1412          14                21    2015     41.9374     -87.7166  2015-09-05 12:45:00  Saturday  12:45:00        9\n",
       "  3  2015-09-05 13:00:00  10224741  0000X N LARAMIE AVE      ASSAULT         SIMPLE                   APARTMENT                       False     True          1522          15                25    2015     41.8819     -87.7551  2015-09-05 13:00:00  Saturday  13:00:00        9\n",
       "  4  2015-09-05 10:55:00  10224742  082XX S LOOMIS BLVD      BURGLARY        FORCIBLE ENTRY           RESIDENCE                       False     False          614           6                71    2015     41.7444     -87.6584  2015-09-05 10:55:00  Saturday  10:55:00        9\n",
       "  5  2015-09-04 18:00:00  10224743  021XX W CHURCHILL ST     BURGLARY        UNLAWFUL ENTRY           RESIDENCE-GARAGE                False     False         1434          14                24    2015     41.9146     -87.6816  2015-09-04 18:00:00  Friday    18:00:00        9\n",
       "  6  2015-09-05 13:00:00  10224744  025XX W CERMAK RD        THEFT           RETAIL THEFT             GROCERY FOOD STORE              True      False         1034          10                31    2015     41.852      -87.6892  2015-09-05 13:00:00  Saturday  13:00:00        9\n",
       "  7  2015-09-05 11:30:00  10224745  031XX W WASHINGTON BLVD  ROBBERY         STRONGARM - NO WEAPON    STREET                          False     True          1222          12                27    2015     41.8828     -87.7043  2015-09-05 11:30:00  Saturday  11:30:00        9\n",
       "  8  2015-09-05 14:00:00  10224746  071XX S PULASKI RD       THEFT           $500 AND UNDER           PARKING LOT/GARAGE(NON.RESID.)  False     False          833           8                65    2015     41.7636     -87.7223  2015-09-05 14:00:00  Saturday  14:00:00        9\n",
       "  9  2015-09-05 11:00:00  10224749  052XX N MILWAUKEE AVE    BATTERY         SIMPLE                   SMALL RETAIL STORE              False     False         1623          16                11    2015     41.976      -87.768   2015-09-05 11:00:00  Saturday  11:00:00        9"
      ]
     },
     "execution_count": 15,
     "metadata": {},
     "output_type": "execute_result"
    }
   ],
   "source": [
    "\n",
    "data_frame.head()"
   ]
  },
  {
   "cell_type": "code",
   "execution_count": 16,
   "metadata": {},
   "outputs": [
    {
     "data": {
      "text/plain": [
       "[12, 3, 6, 9, 1, 5, 7, 4, 8, 10, 2, 11]"
      ]
     },
     "execution_count": 16,
     "metadata": {},
     "output_type": "execute_result"
    }
   ],
   "source": [
    "data_frame[\"Month\"].unique()"
   ]
  },
  {
   "cell_type": "code",
   "execution_count": 17,
   "metadata": {},
   "outputs": [],
   "source": [
    "months_map = {1: \"January\", 2: \"February\", 3: \"March\", 4: \"April\", 5: \"May\", 6: \"June\",\n",
    "                      7: \"July\", 8: \"August\", 9: \"September\", 10: \"October\", 11: \"November\", 12: \"December\"}"
   ]
  },
  {
   "cell_type": "code",
   "execution_count": 18,
   "metadata": {},
   "outputs": [
    {
     "data": {
      "text/html": [
       "<table>\n",
       "<thead>\n",
       "<tr><th>#                            </th><th>Date               </th><th style=\"text-align: right;\">      ID</th><th>Block                  </th><th>Primary Type  </th><th>Description            </th><th>Location Description          </th><th>Arrest  </th><th>Domestic  </th><th style=\"text-align: right;\">  Beat</th><th style=\"text-align: right;\">  District</th><th style=\"text-align: right;\">  Community Area</th><th style=\"text-align: right;\">  Year</th><th style=\"text-align: right;\">  Latitude</th><th style=\"text-align: right;\">  Longitude</th><th>Datetime           </th><th>Day     </th><th>Time    </th><th>Month    </th></tr>\n",
       "</thead>\n",
       "<tbody>\n",
       "<tr><td><i style='opacity: 0.6'>0</i></td><td>2015-09-05 13:30:00</td><td style=\"text-align: right;\">10224738</td><td>043XX S WOOD ST        </td><td>BATTERY       </td><td>DOMESTIC BATTERY SIMPLE</td><td>RESIDENCE                     </td><td>False   </td><td>True      </td><td style=\"text-align: right;\">   924</td><td style=\"text-align: right;\">         9</td><td style=\"text-align: right;\">              61</td><td style=\"text-align: right;\">  2015</td><td style=\"text-align: right;\">   41.8151</td><td style=\"text-align: right;\">   -87.67  </td><td>2015-09-05 13:30:00</td><td>Saturday</td><td>13:30:00</td><td>September</td></tr>\n",
       "<tr><td><i style='opacity: 0.6'>1</i></td><td>2015-09-04 11:30:00</td><td style=\"text-align: right;\">10224739</td><td>008XX N CENTRAL AVE    </td><td>THEFT         </td><td>POCKET-PICKING         </td><td>CTA BUS                       </td><td>False   </td><td>False     </td><td style=\"text-align: right;\">  1511</td><td style=\"text-align: right;\">        15</td><td style=\"text-align: right;\">              25</td><td style=\"text-align: right;\">  2015</td><td style=\"text-align: right;\">   41.8951</td><td style=\"text-align: right;\">   -87.7654</td><td>2015-09-04 11:30:00</td><td>Friday  </td><td>11:30:00</td><td>September</td></tr>\n",
       "<tr><td><i style='opacity: 0.6'>2</i></td><td>2015-09-05 12:45:00</td><td style=\"text-align: right;\">10224740</td><td>035XX W BARRY AVE      </td><td>NARCOTICS     </td><td>POSS: HEROIN(BRN/TAN)  </td><td>SIDEWALK                      </td><td>True    </td><td>False     </td><td style=\"text-align: right;\">  1412</td><td style=\"text-align: right;\">        14</td><td style=\"text-align: right;\">              21</td><td style=\"text-align: right;\">  2015</td><td style=\"text-align: right;\">   41.9374</td><td style=\"text-align: right;\">   -87.7166</td><td>2015-09-05 12:45:00</td><td>Saturday</td><td>12:45:00</td><td>September</td></tr>\n",
       "<tr><td><i style='opacity: 0.6'>3</i></td><td>2015-09-05 13:00:00</td><td style=\"text-align: right;\">10224741</td><td>0000X N LARAMIE AVE    </td><td>ASSAULT       </td><td>SIMPLE                 </td><td>APARTMENT                     </td><td>False   </td><td>True      </td><td style=\"text-align: right;\">  1522</td><td style=\"text-align: right;\">        15</td><td style=\"text-align: right;\">              25</td><td style=\"text-align: right;\">  2015</td><td style=\"text-align: right;\">   41.8819</td><td style=\"text-align: right;\">   -87.7551</td><td>2015-09-05 13:00:00</td><td>Saturday</td><td>13:00:00</td><td>September</td></tr>\n",
       "<tr><td><i style='opacity: 0.6'>4</i></td><td>2015-09-05 10:55:00</td><td style=\"text-align: right;\">10224742</td><td>082XX S LOOMIS BLVD    </td><td>BURGLARY      </td><td>FORCIBLE ENTRY         </td><td>RESIDENCE                     </td><td>False   </td><td>False     </td><td style=\"text-align: right;\">   614</td><td style=\"text-align: right;\">         6</td><td style=\"text-align: right;\">              71</td><td style=\"text-align: right;\">  2015</td><td style=\"text-align: right;\">   41.7444</td><td style=\"text-align: right;\">   -87.6584</td><td>2015-09-05 10:55:00</td><td>Saturday</td><td>10:55:00</td><td>September</td></tr>\n",
       "<tr><td><i style='opacity: 0.6'>5</i></td><td>2015-09-04 18:00:00</td><td style=\"text-align: right;\">10224743</td><td>021XX W CHURCHILL ST   </td><td>BURGLARY      </td><td>UNLAWFUL ENTRY         </td><td>RESIDENCE-GARAGE              </td><td>False   </td><td>False     </td><td style=\"text-align: right;\">  1434</td><td style=\"text-align: right;\">        14</td><td style=\"text-align: right;\">              24</td><td style=\"text-align: right;\">  2015</td><td style=\"text-align: right;\">   41.9146</td><td style=\"text-align: right;\">   -87.6816</td><td>2015-09-04 18:00:00</td><td>Friday  </td><td>18:00:00</td><td>September</td></tr>\n",
       "<tr><td><i style='opacity: 0.6'>6</i></td><td>2015-09-05 13:00:00</td><td style=\"text-align: right;\">10224744</td><td>025XX W CERMAK RD      </td><td>THEFT         </td><td>RETAIL THEFT           </td><td>GROCERY FOOD STORE            </td><td>True    </td><td>False     </td><td style=\"text-align: right;\">  1034</td><td style=\"text-align: right;\">        10</td><td style=\"text-align: right;\">              31</td><td style=\"text-align: right;\">  2015</td><td style=\"text-align: right;\">   41.852 </td><td style=\"text-align: right;\">   -87.6892</td><td>2015-09-05 13:00:00</td><td>Saturday</td><td>13:00:00</td><td>September</td></tr>\n",
       "<tr><td><i style='opacity: 0.6'>7</i></td><td>2015-09-05 11:30:00</td><td style=\"text-align: right;\">10224745</td><td>031XX W WASHINGTON BLVD</td><td>ROBBERY       </td><td>STRONGARM - NO WEAPON  </td><td>STREET                        </td><td>False   </td><td>True      </td><td style=\"text-align: right;\">  1222</td><td style=\"text-align: right;\">        12</td><td style=\"text-align: right;\">              27</td><td style=\"text-align: right;\">  2015</td><td style=\"text-align: right;\">   41.8828</td><td style=\"text-align: right;\">   -87.7043</td><td>2015-09-05 11:30:00</td><td>Saturday</td><td>11:30:00</td><td>September</td></tr>\n",
       "<tr><td><i style='opacity: 0.6'>8</i></td><td>2015-09-05 14:00:00</td><td style=\"text-align: right;\">10224746</td><td>071XX S PULASKI RD     </td><td>THEFT         </td><td>$500 AND UNDER         </td><td>PARKING LOT/GARAGE(NON.RESID.)</td><td>False   </td><td>False     </td><td style=\"text-align: right;\">   833</td><td style=\"text-align: right;\">         8</td><td style=\"text-align: right;\">              65</td><td style=\"text-align: right;\">  2015</td><td style=\"text-align: right;\">   41.7636</td><td style=\"text-align: right;\">   -87.7223</td><td>2015-09-05 14:00:00</td><td>Saturday</td><td>14:00:00</td><td>September</td></tr>\n",
       "<tr><td><i style='opacity: 0.6'>9</i></td><td>2015-09-05 11:00:00</td><td style=\"text-align: right;\">10224749</td><td>052XX N MILWAUKEE AVE  </td><td>BATTERY       </td><td>SIMPLE                 </td><td>SMALL RETAIL STORE            </td><td>False   </td><td>False     </td><td style=\"text-align: right;\">  1623</td><td style=\"text-align: right;\">        16</td><td style=\"text-align: right;\">              11</td><td style=\"text-align: right;\">  2015</td><td style=\"text-align: right;\">   41.976 </td><td style=\"text-align: right;\">   -87.768 </td><td>2015-09-05 11:00:00</td><td>Saturday</td><td>11:00:00</td><td>September</td></tr>\n",
       "</tbody>\n",
       "</table>"
      ],
      "text/plain": [
       "  #  Date                       ID  Block                    Primary Type    Description              Location Description            Arrest    Domestic      Beat    District    Community Area    Year    Latitude    Longitude  Datetime             Day       Time      Month\n",
       "  0  2015-09-05 13:30:00  10224738  043XX S WOOD ST          BATTERY         DOMESTIC BATTERY SIMPLE  RESIDENCE                       False     True           924           9                61    2015     41.8151     -87.67    2015-09-05 13:30:00  Saturday  13:30:00  September\n",
       "  1  2015-09-04 11:30:00  10224739  008XX N CENTRAL AVE      THEFT           POCKET-PICKING           CTA BUS                         False     False         1511          15                25    2015     41.8951     -87.7654  2015-09-04 11:30:00  Friday    11:30:00  September\n",
       "  2  2015-09-05 12:45:00  10224740  035XX W BARRY AVE        NARCOTICS       POSS: HEROIN(BRN/TAN)    SIDEWALK                        True      False         1412          14                21    2015     41.9374     -87.7166  2015-09-05 12:45:00  Saturday  12:45:00  September\n",
       "  3  2015-09-05 13:00:00  10224741  0000X N LARAMIE AVE      ASSAULT         SIMPLE                   APARTMENT                       False     True          1522          15                25    2015     41.8819     -87.7551  2015-09-05 13:00:00  Saturday  13:00:00  September\n",
       "  4  2015-09-05 10:55:00  10224742  082XX S LOOMIS BLVD      BURGLARY        FORCIBLE ENTRY           RESIDENCE                       False     False          614           6                71    2015     41.7444     -87.6584  2015-09-05 10:55:00  Saturday  10:55:00  September\n",
       "  5  2015-09-04 18:00:00  10224743  021XX W CHURCHILL ST     BURGLARY        UNLAWFUL ENTRY           RESIDENCE-GARAGE                False     False         1434          14                24    2015     41.9146     -87.6816  2015-09-04 18:00:00  Friday    18:00:00  September\n",
       "  6  2015-09-05 13:00:00  10224744  025XX W CERMAK RD        THEFT           RETAIL THEFT             GROCERY FOOD STORE              True      False         1034          10                31    2015     41.852      -87.6892  2015-09-05 13:00:00  Saturday  13:00:00  September\n",
       "  7  2015-09-05 11:30:00  10224745  031XX W WASHINGTON BLVD  ROBBERY         STRONGARM - NO WEAPON    STREET                          False     True          1222          12                27    2015     41.8828     -87.7043  2015-09-05 11:30:00  Saturday  11:30:00  September\n",
       "  8  2015-09-05 14:00:00  10224746  071XX S PULASKI RD       THEFT           $500 AND UNDER           PARKING LOT/GARAGE(NON.RESID.)  False     False          833           8                65    2015     41.7636     -87.7223  2015-09-05 14:00:00  Saturday  14:00:00  September\n",
       "  9  2015-09-05 11:00:00  10224749  052XX N MILWAUKEE AVE    BATTERY         SIMPLE                   SMALL RETAIL STORE              False     False         1623          16                11    2015     41.976      -87.768   2015-09-05 11:00:00  Saturday  11:00:00  September"
      ]
     },
     "execution_count": 18,
     "metadata": {},
     "output_type": "execute_result"
    }
   ],
   "source": [
    "data_frame[\"Month\"] = data_frame.Month.map(months_map)\n",
    "data_frame.head()"
   ]
  },
  {
   "cell_type": "code",
   "execution_count": 19,
   "metadata": {},
   "outputs": [
    {
     "data": {
      "text/plain": [
       "['NON - CRIMINAL',\n",
       " 'LIQUOR LAW VIOLATION',\n",
       " 'OTHER OFFENSE',\n",
       " 'NON-CRIMINAL (SUBJECT SPECIFIED)',\n",
       " 'ARSON',\n",
       " 'OTHER NARCOTIC VIOLATION',\n",
       " 'THEFT',\n",
       " 'CRIMINAL DAMAGE',\n",
       " 'WEAPONS VIOLATION',\n",
       " 'HOMICIDE',\n",
       " 'OFFENSE INVOLVING CHILDREN',\n",
       " 'PROSTITUTION',\n",
       " 'NON-CRIMINAL',\n",
       " 'BURGLARY',\n",
       " 'INTIMIDATION',\n",
       " 'ASSAULT',\n",
       " 'CRIMINAL TRESPASS',\n",
       " 'SEX OFFENSE',\n",
       " 'KIDNAPPING',\n",
       " 'OBSCENITY',\n",
       " 'GAMBLING',\n",
       " 'RITUALISM',\n",
       " 'STALKING',\n",
       " 'MOTOR VEHICLE THEFT',\n",
       " 'CRIM SEXUAL ASSAULT',\n",
       " 'CRIMINAL SEXUAL ASSAULT',\n",
       " 'DECEPTIVE PRACTICE',\n",
       " 'PUBLIC PEACE VIOLATION',\n",
       " 'PUBLIC INDECENCY',\n",
       " 'NARCOTICS',\n",
       " 'INTERFERENCE WITH PUBLIC OFFICER',\n",
       " 'CONCEALED CARRY LICENSE VIOLATION',\n",
       " 'HUMAN TRAFFICKING',\n",
       " 'BATTERY',\n",
       " 'ROBBERY']"
      ]
     },
     "execution_count": 19,
     "metadata": {},
     "output_type": "execute_result"
    }
   ],
   "source": [
    "data_frame['Primary Type'].str.replace(pat='CRIM SEXUAL ASSAULT', repl='CRIMINAL SEXUAL ASSAULT')\n",
    "data_frame['Primary Type'].unique()"
   ]
  },
  {
   "cell_type": "code",
   "execution_count": 20,
   "metadata": {},
   "outputs": [
    {
     "data": {
      "text/html": [
       "<table>\n",
       "<thead>\n",
       "<tr><th>#                            </th><th>Date               </th><th style=\"text-align: right;\">      ID</th><th>Block                  </th><th>Primary Type  </th><th>Description            </th><th>Location Description          </th><th>Arrest  </th><th>Domestic  </th><th style=\"text-align: right;\">  Beat</th><th style=\"text-align: right;\">  District</th><th style=\"text-align: right;\">  Community Area</th><th style=\"text-align: right;\">  Year</th><th style=\"text-align: right;\">  Latitude</th><th style=\"text-align: right;\">  Longitude</th><th>Datetime           </th><th>Day     </th><th>Time    </th><th>Month    </th></tr>\n",
       "</thead>\n",
       "<tbody>\n",
       "<tr><td><i style='opacity: 0.6'>0</i></td><td>2015-09-05 13:30:00</td><td style=\"text-align: right;\">10224738</td><td>043XX S WOOD ST        </td><td>BATTERY       </td><td>DOMESTIC BATTERY SIMPLE</td><td>RESIDENCE                     </td><td>No      </td><td>True      </td><td style=\"text-align: right;\">   924</td><td style=\"text-align: right;\">         9</td><td style=\"text-align: right;\">              61</td><td style=\"text-align: right;\">  2015</td><td style=\"text-align: right;\">   41.8151</td><td style=\"text-align: right;\">   -87.67  </td><td>2015-09-05 13:30:00</td><td>Saturday</td><td>13:30:00</td><td>September</td></tr>\n",
       "<tr><td><i style='opacity: 0.6'>1</i></td><td>2015-09-04 11:30:00</td><td style=\"text-align: right;\">10224739</td><td>008XX N CENTRAL AVE    </td><td>THEFT         </td><td>POCKET-PICKING         </td><td>CTA BUS                       </td><td>No      </td><td>False     </td><td style=\"text-align: right;\">  1511</td><td style=\"text-align: right;\">        15</td><td style=\"text-align: right;\">              25</td><td style=\"text-align: right;\">  2015</td><td style=\"text-align: right;\">   41.8951</td><td style=\"text-align: right;\">   -87.7654</td><td>2015-09-04 11:30:00</td><td>Friday  </td><td>11:30:00</td><td>September</td></tr>\n",
       "<tr><td><i style='opacity: 0.6'>2</i></td><td>2015-09-05 12:45:00</td><td style=\"text-align: right;\">10224740</td><td>035XX W BARRY AVE      </td><td>NARCOTICS     </td><td>POSS: HEROIN(BRN/TAN)  </td><td>SIDEWALK                      </td><td>Yes     </td><td>False     </td><td style=\"text-align: right;\">  1412</td><td style=\"text-align: right;\">        14</td><td style=\"text-align: right;\">              21</td><td style=\"text-align: right;\">  2015</td><td style=\"text-align: right;\">   41.9374</td><td style=\"text-align: right;\">   -87.7166</td><td>2015-09-05 12:45:00</td><td>Saturday</td><td>12:45:00</td><td>September</td></tr>\n",
       "<tr><td><i style='opacity: 0.6'>3</i></td><td>2015-09-05 13:00:00</td><td style=\"text-align: right;\">10224741</td><td>0000X N LARAMIE AVE    </td><td>ASSAULT       </td><td>SIMPLE                 </td><td>APARTMENT                     </td><td>No      </td><td>True      </td><td style=\"text-align: right;\">  1522</td><td style=\"text-align: right;\">        15</td><td style=\"text-align: right;\">              25</td><td style=\"text-align: right;\">  2015</td><td style=\"text-align: right;\">   41.8819</td><td style=\"text-align: right;\">   -87.7551</td><td>2015-09-05 13:00:00</td><td>Saturday</td><td>13:00:00</td><td>September</td></tr>\n",
       "<tr><td><i style='opacity: 0.6'>4</i></td><td>2015-09-05 10:55:00</td><td style=\"text-align: right;\">10224742</td><td>082XX S LOOMIS BLVD    </td><td>BURGLARY      </td><td>FORCIBLE ENTRY         </td><td>RESIDENCE                     </td><td>No      </td><td>False     </td><td style=\"text-align: right;\">   614</td><td style=\"text-align: right;\">         6</td><td style=\"text-align: right;\">              71</td><td style=\"text-align: right;\">  2015</td><td style=\"text-align: right;\">   41.7444</td><td style=\"text-align: right;\">   -87.6584</td><td>2015-09-05 10:55:00</td><td>Saturday</td><td>10:55:00</td><td>September</td></tr>\n",
       "<tr><td><i style='opacity: 0.6'>5</i></td><td>2015-09-04 18:00:00</td><td style=\"text-align: right;\">10224743</td><td>021XX W CHURCHILL ST   </td><td>BURGLARY      </td><td>UNLAWFUL ENTRY         </td><td>RESIDENCE-GARAGE              </td><td>No      </td><td>False     </td><td style=\"text-align: right;\">  1434</td><td style=\"text-align: right;\">        14</td><td style=\"text-align: right;\">              24</td><td style=\"text-align: right;\">  2015</td><td style=\"text-align: right;\">   41.9146</td><td style=\"text-align: right;\">   -87.6816</td><td>2015-09-04 18:00:00</td><td>Friday  </td><td>18:00:00</td><td>September</td></tr>\n",
       "<tr><td><i style='opacity: 0.6'>6</i></td><td>2015-09-05 13:00:00</td><td style=\"text-align: right;\">10224744</td><td>025XX W CERMAK RD      </td><td>THEFT         </td><td>RETAIL THEFT           </td><td>GROCERY FOOD STORE            </td><td>Yes     </td><td>False     </td><td style=\"text-align: right;\">  1034</td><td style=\"text-align: right;\">        10</td><td style=\"text-align: right;\">              31</td><td style=\"text-align: right;\">  2015</td><td style=\"text-align: right;\">   41.852 </td><td style=\"text-align: right;\">   -87.6892</td><td>2015-09-05 13:00:00</td><td>Saturday</td><td>13:00:00</td><td>September</td></tr>\n",
       "<tr><td><i style='opacity: 0.6'>7</i></td><td>2015-09-05 11:30:00</td><td style=\"text-align: right;\">10224745</td><td>031XX W WASHINGTON BLVD</td><td>ROBBERY       </td><td>STRONGARM - NO WEAPON  </td><td>STREET                        </td><td>No      </td><td>True      </td><td style=\"text-align: right;\">  1222</td><td style=\"text-align: right;\">        12</td><td style=\"text-align: right;\">              27</td><td style=\"text-align: right;\">  2015</td><td style=\"text-align: right;\">   41.8828</td><td style=\"text-align: right;\">   -87.7043</td><td>2015-09-05 11:30:00</td><td>Saturday</td><td>11:30:00</td><td>September</td></tr>\n",
       "<tr><td><i style='opacity: 0.6'>8</i></td><td>2015-09-05 14:00:00</td><td style=\"text-align: right;\">10224746</td><td>071XX S PULASKI RD     </td><td>THEFT         </td><td>$500 AND UNDER         </td><td>PARKING LOT/GARAGE(NON.RESID.)</td><td>No      </td><td>False     </td><td style=\"text-align: right;\">   833</td><td style=\"text-align: right;\">         8</td><td style=\"text-align: right;\">              65</td><td style=\"text-align: right;\">  2015</td><td style=\"text-align: right;\">   41.7636</td><td style=\"text-align: right;\">   -87.7223</td><td>2015-09-05 14:00:00</td><td>Saturday</td><td>14:00:00</td><td>September</td></tr>\n",
       "<tr><td><i style='opacity: 0.6'>9</i></td><td>2015-09-05 11:00:00</td><td style=\"text-align: right;\">10224749</td><td>052XX N MILWAUKEE AVE  </td><td>BATTERY       </td><td>SIMPLE                 </td><td>SMALL RETAIL STORE            </td><td>No      </td><td>False     </td><td style=\"text-align: right;\">  1623</td><td style=\"text-align: right;\">        16</td><td style=\"text-align: right;\">              11</td><td style=\"text-align: right;\">  2015</td><td style=\"text-align: right;\">   41.976 </td><td style=\"text-align: right;\">   -87.768 </td><td>2015-09-05 11:00:00</td><td>Saturday</td><td>11:00:00</td><td>September</td></tr>\n",
       "</tbody>\n",
       "</table>"
      ],
      "text/plain": [
       "  #  Date                       ID  Block                    Primary Type    Description              Location Description            Arrest    Domestic      Beat    District    Community Area    Year    Latitude    Longitude  Datetime             Day       Time      Month\n",
       "  0  2015-09-05 13:30:00  10224738  043XX S WOOD ST          BATTERY         DOMESTIC BATTERY SIMPLE  RESIDENCE                       No        True           924           9                61    2015     41.8151     -87.67    2015-09-05 13:30:00  Saturday  13:30:00  September\n",
       "  1  2015-09-04 11:30:00  10224739  008XX N CENTRAL AVE      THEFT           POCKET-PICKING           CTA BUS                         No        False         1511          15                25    2015     41.8951     -87.7654  2015-09-04 11:30:00  Friday    11:30:00  September\n",
       "  2  2015-09-05 12:45:00  10224740  035XX W BARRY AVE        NARCOTICS       POSS: HEROIN(BRN/TAN)    SIDEWALK                        Yes       False         1412          14                21    2015     41.9374     -87.7166  2015-09-05 12:45:00  Saturday  12:45:00  September\n",
       "  3  2015-09-05 13:00:00  10224741  0000X N LARAMIE AVE      ASSAULT         SIMPLE                   APARTMENT                       No        True          1522          15                25    2015     41.8819     -87.7551  2015-09-05 13:00:00  Saturday  13:00:00  September\n",
       "  4  2015-09-05 10:55:00  10224742  082XX S LOOMIS BLVD      BURGLARY        FORCIBLE ENTRY           RESIDENCE                       No        False          614           6                71    2015     41.7444     -87.6584  2015-09-05 10:55:00  Saturday  10:55:00  September\n",
       "  5  2015-09-04 18:00:00  10224743  021XX W CHURCHILL ST     BURGLARY        UNLAWFUL ENTRY           RESIDENCE-GARAGE                No        False         1434          14                24    2015     41.9146     -87.6816  2015-09-04 18:00:00  Friday    18:00:00  September\n",
       "  6  2015-09-05 13:00:00  10224744  025XX W CERMAK RD        THEFT           RETAIL THEFT             GROCERY FOOD STORE              Yes       False         1034          10                31    2015     41.852      -87.6892  2015-09-05 13:00:00  Saturday  13:00:00  September\n",
       "  7  2015-09-05 11:30:00  10224745  031XX W WASHINGTON BLVD  ROBBERY         STRONGARM - NO WEAPON    STREET                          No        True          1222          12                27    2015     41.8828     -87.7043  2015-09-05 11:30:00  Saturday  11:30:00  September\n",
       "  8  2015-09-05 14:00:00  10224746  071XX S PULASKI RD       THEFT           $500 AND UNDER           PARKING LOT/GARAGE(NON.RESID.)  No        False          833           8                65    2015     41.7636     -87.7223  2015-09-05 14:00:00  Saturday  14:00:00  September\n",
       "  9  2015-09-05 11:00:00  10224749  052XX N MILWAUKEE AVE    BATTERY         SIMPLE                   SMALL RETAIL STORE              No        False         1623          16                11    2015     41.976      -87.768   2015-09-05 11:00:00  Saturday  11:00:00  September"
      ]
     },
     "execution_count": 20,
     "metadata": {},
     "output_type": "execute_result"
    }
   ],
   "source": [
    "data_frame['Arrest'] = data_frame['Arrest'].map({True: 'Yes', False: 'No'}) \n",
    "data_frame.head()"
   ]
  },
  {
   "cell_type": "code",
   "execution_count": 21,
   "metadata": {},
   "outputs": [
    {
     "data": {
      "text/html": [
       "<table>\n",
       "<thead>\n",
       "<tr><th>#                            </th><th>Date               </th><th style=\"text-align: right;\">      ID</th><th>Block                  </th><th>Primary Type  </th><th>Description            </th><th>Location Description          </th><th>Arrest  </th><th>Domestic  </th><th style=\"text-align: right;\">  Beat</th><th style=\"text-align: right;\">  District</th><th style=\"text-align: right;\">  Community Area</th><th style=\"text-align: right;\">  Year</th><th style=\"text-align: right;\">  Latitude</th><th style=\"text-align: right;\">  Longitude</th><th>Datetime           </th><th>Day     </th><th>Time    </th><th>Month    </th></tr>\n",
       "</thead>\n",
       "<tbody>\n",
       "<tr><td><i style='opacity: 0.6'>0</i></td><td>2015-09-05 13:30:00</td><td style=\"text-align: right;\">10224738</td><td>043XX S WOOD ST        </td><td>BATTERY       </td><td>DOMESTIC BATTERY SIMPLE</td><td>RESIDENCE                     </td><td>No      </td><td>Yes       </td><td style=\"text-align: right;\">   924</td><td style=\"text-align: right;\">         9</td><td style=\"text-align: right;\">              61</td><td style=\"text-align: right;\">  2015</td><td style=\"text-align: right;\">   41.8151</td><td style=\"text-align: right;\">   -87.67  </td><td>2015-09-05 13:30:00</td><td>Saturday</td><td>13:30:00</td><td>September</td></tr>\n",
       "<tr><td><i style='opacity: 0.6'>1</i></td><td>2015-09-04 11:30:00</td><td style=\"text-align: right;\">10224739</td><td>008XX N CENTRAL AVE    </td><td>THEFT         </td><td>POCKET-PICKING         </td><td>CTA BUS                       </td><td>No      </td><td>No        </td><td style=\"text-align: right;\">  1511</td><td style=\"text-align: right;\">        15</td><td style=\"text-align: right;\">              25</td><td style=\"text-align: right;\">  2015</td><td style=\"text-align: right;\">   41.8951</td><td style=\"text-align: right;\">   -87.7654</td><td>2015-09-04 11:30:00</td><td>Friday  </td><td>11:30:00</td><td>September</td></tr>\n",
       "<tr><td><i style='opacity: 0.6'>2</i></td><td>2015-09-05 12:45:00</td><td style=\"text-align: right;\">10224740</td><td>035XX W BARRY AVE      </td><td>NARCOTICS     </td><td>POSS: HEROIN(BRN/TAN)  </td><td>SIDEWALK                      </td><td>Yes     </td><td>No        </td><td style=\"text-align: right;\">  1412</td><td style=\"text-align: right;\">        14</td><td style=\"text-align: right;\">              21</td><td style=\"text-align: right;\">  2015</td><td style=\"text-align: right;\">   41.9374</td><td style=\"text-align: right;\">   -87.7166</td><td>2015-09-05 12:45:00</td><td>Saturday</td><td>12:45:00</td><td>September</td></tr>\n",
       "<tr><td><i style='opacity: 0.6'>3</i></td><td>2015-09-05 13:00:00</td><td style=\"text-align: right;\">10224741</td><td>0000X N LARAMIE AVE    </td><td>ASSAULT       </td><td>SIMPLE                 </td><td>APARTMENT                     </td><td>No      </td><td>Yes       </td><td style=\"text-align: right;\">  1522</td><td style=\"text-align: right;\">        15</td><td style=\"text-align: right;\">              25</td><td style=\"text-align: right;\">  2015</td><td style=\"text-align: right;\">   41.8819</td><td style=\"text-align: right;\">   -87.7551</td><td>2015-09-05 13:00:00</td><td>Saturday</td><td>13:00:00</td><td>September</td></tr>\n",
       "<tr><td><i style='opacity: 0.6'>4</i></td><td>2015-09-05 10:55:00</td><td style=\"text-align: right;\">10224742</td><td>082XX S LOOMIS BLVD    </td><td>BURGLARY      </td><td>FORCIBLE ENTRY         </td><td>RESIDENCE                     </td><td>No      </td><td>No        </td><td style=\"text-align: right;\">   614</td><td style=\"text-align: right;\">         6</td><td style=\"text-align: right;\">              71</td><td style=\"text-align: right;\">  2015</td><td style=\"text-align: right;\">   41.7444</td><td style=\"text-align: right;\">   -87.6584</td><td>2015-09-05 10:55:00</td><td>Saturday</td><td>10:55:00</td><td>September</td></tr>\n",
       "<tr><td><i style='opacity: 0.6'>5</i></td><td>2015-09-04 18:00:00</td><td style=\"text-align: right;\">10224743</td><td>021XX W CHURCHILL ST   </td><td>BURGLARY      </td><td>UNLAWFUL ENTRY         </td><td>RESIDENCE-GARAGE              </td><td>No      </td><td>No        </td><td style=\"text-align: right;\">  1434</td><td style=\"text-align: right;\">        14</td><td style=\"text-align: right;\">              24</td><td style=\"text-align: right;\">  2015</td><td style=\"text-align: right;\">   41.9146</td><td style=\"text-align: right;\">   -87.6816</td><td>2015-09-04 18:00:00</td><td>Friday  </td><td>18:00:00</td><td>September</td></tr>\n",
       "<tr><td><i style='opacity: 0.6'>6</i></td><td>2015-09-05 13:00:00</td><td style=\"text-align: right;\">10224744</td><td>025XX W CERMAK RD      </td><td>THEFT         </td><td>RETAIL THEFT           </td><td>GROCERY FOOD STORE            </td><td>Yes     </td><td>No        </td><td style=\"text-align: right;\">  1034</td><td style=\"text-align: right;\">        10</td><td style=\"text-align: right;\">              31</td><td style=\"text-align: right;\">  2015</td><td style=\"text-align: right;\">   41.852 </td><td style=\"text-align: right;\">   -87.6892</td><td>2015-09-05 13:00:00</td><td>Saturday</td><td>13:00:00</td><td>September</td></tr>\n",
       "<tr><td><i style='opacity: 0.6'>7</i></td><td>2015-09-05 11:30:00</td><td style=\"text-align: right;\">10224745</td><td>031XX W WASHINGTON BLVD</td><td>ROBBERY       </td><td>STRONGARM - NO WEAPON  </td><td>STREET                        </td><td>No      </td><td>Yes       </td><td style=\"text-align: right;\">  1222</td><td style=\"text-align: right;\">        12</td><td style=\"text-align: right;\">              27</td><td style=\"text-align: right;\">  2015</td><td style=\"text-align: right;\">   41.8828</td><td style=\"text-align: right;\">   -87.7043</td><td>2015-09-05 11:30:00</td><td>Saturday</td><td>11:30:00</td><td>September</td></tr>\n",
       "<tr><td><i style='opacity: 0.6'>8</i></td><td>2015-09-05 14:00:00</td><td style=\"text-align: right;\">10224746</td><td>071XX S PULASKI RD     </td><td>THEFT         </td><td>$500 AND UNDER         </td><td>PARKING LOT/GARAGE(NON.RESID.)</td><td>No      </td><td>No        </td><td style=\"text-align: right;\">   833</td><td style=\"text-align: right;\">         8</td><td style=\"text-align: right;\">              65</td><td style=\"text-align: right;\">  2015</td><td style=\"text-align: right;\">   41.7636</td><td style=\"text-align: right;\">   -87.7223</td><td>2015-09-05 14:00:00</td><td>Saturday</td><td>14:00:00</td><td>September</td></tr>\n",
       "<tr><td><i style='opacity: 0.6'>9</i></td><td>2015-09-05 11:00:00</td><td style=\"text-align: right;\">10224749</td><td>052XX N MILWAUKEE AVE  </td><td>BATTERY       </td><td>SIMPLE                 </td><td>SMALL RETAIL STORE            </td><td>No      </td><td>No        </td><td style=\"text-align: right;\">  1623</td><td style=\"text-align: right;\">        16</td><td style=\"text-align: right;\">              11</td><td style=\"text-align: right;\">  2015</td><td style=\"text-align: right;\">   41.976 </td><td style=\"text-align: right;\">   -87.768 </td><td>2015-09-05 11:00:00</td><td>Saturday</td><td>11:00:00</td><td>September</td></tr>\n",
       "</tbody>\n",
       "</table>"
      ],
      "text/plain": [
       "  #  Date                       ID  Block                    Primary Type    Description              Location Description            Arrest    Domestic      Beat    District    Community Area    Year    Latitude    Longitude  Datetime             Day       Time      Month\n",
       "  0  2015-09-05 13:30:00  10224738  043XX S WOOD ST          BATTERY         DOMESTIC BATTERY SIMPLE  RESIDENCE                       No        Yes            924           9                61    2015     41.8151     -87.67    2015-09-05 13:30:00  Saturday  13:30:00  September\n",
       "  1  2015-09-04 11:30:00  10224739  008XX N CENTRAL AVE      THEFT           POCKET-PICKING           CTA BUS                         No        No            1511          15                25    2015     41.8951     -87.7654  2015-09-04 11:30:00  Friday    11:30:00  September\n",
       "  2  2015-09-05 12:45:00  10224740  035XX W BARRY AVE        NARCOTICS       POSS: HEROIN(BRN/TAN)    SIDEWALK                        Yes       No            1412          14                21    2015     41.9374     -87.7166  2015-09-05 12:45:00  Saturday  12:45:00  September\n",
       "  3  2015-09-05 13:00:00  10224741  0000X N LARAMIE AVE      ASSAULT         SIMPLE                   APARTMENT                       No        Yes           1522          15                25    2015     41.8819     -87.7551  2015-09-05 13:00:00  Saturday  13:00:00  September\n",
       "  4  2015-09-05 10:55:00  10224742  082XX S LOOMIS BLVD      BURGLARY        FORCIBLE ENTRY           RESIDENCE                       No        No             614           6                71    2015     41.7444     -87.6584  2015-09-05 10:55:00  Saturday  10:55:00  September\n",
       "  5  2015-09-04 18:00:00  10224743  021XX W CHURCHILL ST     BURGLARY        UNLAWFUL ENTRY           RESIDENCE-GARAGE                No        No            1434          14                24    2015     41.9146     -87.6816  2015-09-04 18:00:00  Friday    18:00:00  September\n",
       "  6  2015-09-05 13:00:00  10224744  025XX W CERMAK RD        THEFT           RETAIL THEFT             GROCERY FOOD STORE              Yes       No            1034          10                31    2015     41.852      -87.6892  2015-09-05 13:00:00  Saturday  13:00:00  September\n",
       "  7  2015-09-05 11:30:00  10224745  031XX W WASHINGTON BLVD  ROBBERY         STRONGARM - NO WEAPON    STREET                          No        Yes           1222          12                27    2015     41.8828     -87.7043  2015-09-05 11:30:00  Saturday  11:30:00  September\n",
       "  8  2015-09-05 14:00:00  10224746  071XX S PULASKI RD       THEFT           $500 AND UNDER           PARKING LOT/GARAGE(NON.RESID.)  No        No             833           8                65    2015     41.7636     -87.7223  2015-09-05 14:00:00  Saturday  14:00:00  September\n",
       "  9  2015-09-05 11:00:00  10224749  052XX N MILWAUKEE AVE    BATTERY         SIMPLE                   SMALL RETAIL STORE              No        No            1623          16                11    2015     41.976      -87.768   2015-09-05 11:00:00  Saturday  11:00:00  September"
      ]
     },
     "execution_count": 21,
     "metadata": {},
     "output_type": "execute_result"
    }
   ],
   "source": [
    "data_frame[\"Domestic\"] = data_frame.Domestic.map({True: 'Yes', False: 'No'})\n",
    "data_frame.head()"
   ]
  },
  {
   "cell_type": "code",
   "execution_count": 23,
   "metadata": {},
   "outputs": [],
   "source": [
    "police_districts = {1: \"Central\", 2: \"Wentworth\", 3: \"Grand Crossing\", 4: \"South Chicago\", 5: \"Calumet\",\n",
    "                        6: \"Gresham\", 7: \"Englewood\", 8: \"Chicago Lawn\", 9: \"Deering\", 10: \"Ogden\",\n",
    "                        11: \"Harrison\", 12: \"Near West\", 14: \"Shakespeare\", 15: \"Austin\", 16: \"Jefferson Park\",\n",
    "                        17: \"Albany Park\", 18: \"Near North\", 19: \"Town Hall\", 20: \"Lincoln\", 22: \"Morgan Park\",\n",
    "                        24: \"Rogers Park\", 25: \"Grand Central\", 21: \"North Center\", 31: \"Washington Park\"}\n",
    "data_frame[\"District_Name\"] = data_frame[\"District\"].map(police_districts)"
   ]
  },
  {
   "cell_type": "code",
   "execution_count": 24,
   "metadata": {},
   "outputs": [
    {
     "data": {
      "text/html": [
       "<table>\n",
       "<thead>\n",
       "<tr><th>#                            </th><th>Date               </th><th style=\"text-align: right;\">      ID</th><th>Block                  </th><th>Primary Type  </th><th>Description            </th><th>Location Description          </th><th>Arrest  </th><th>Domestic  </th><th style=\"text-align: right;\">  Beat</th><th style=\"text-align: right;\">  District</th><th style=\"text-align: right;\">  Community Area</th><th style=\"text-align: right;\">  Year</th><th style=\"text-align: right;\">  Latitude</th><th style=\"text-align: right;\">  Longitude</th><th>Datetime           </th><th>Day     </th><th>Time    </th><th>Month    </th><th>District_Name  </th></tr>\n",
       "</thead>\n",
       "<tbody>\n",
       "<tr><td><i style='opacity: 0.6'>0</i></td><td>2015-09-05 13:30:00</td><td style=\"text-align: right;\">10224738</td><td>043XX S WOOD ST        </td><td>BATTERY       </td><td>DOMESTIC BATTERY SIMPLE</td><td>RESIDENCE                     </td><td>No      </td><td>Yes       </td><td style=\"text-align: right;\">   924</td><td style=\"text-align: right;\">         9</td><td style=\"text-align: right;\">              61</td><td style=\"text-align: right;\">  2015</td><td style=\"text-align: right;\">   41.8151</td><td style=\"text-align: right;\">   -87.67  </td><td>2015-09-05 13:30:00</td><td>Saturday</td><td>13:30:00</td><td>September</td><td>Deering        </td></tr>\n",
       "<tr><td><i style='opacity: 0.6'>1</i></td><td>2015-09-04 11:30:00</td><td style=\"text-align: right;\">10224739</td><td>008XX N CENTRAL AVE    </td><td>THEFT         </td><td>POCKET-PICKING         </td><td>CTA BUS                       </td><td>No      </td><td>No        </td><td style=\"text-align: right;\">  1511</td><td style=\"text-align: right;\">        15</td><td style=\"text-align: right;\">              25</td><td style=\"text-align: right;\">  2015</td><td style=\"text-align: right;\">   41.8951</td><td style=\"text-align: right;\">   -87.7654</td><td>2015-09-04 11:30:00</td><td>Friday  </td><td>11:30:00</td><td>September</td><td>Austin         </td></tr>\n",
       "<tr><td><i style='opacity: 0.6'>2</i></td><td>2015-09-05 12:45:00</td><td style=\"text-align: right;\">10224740</td><td>035XX W BARRY AVE      </td><td>NARCOTICS     </td><td>POSS: HEROIN(BRN/TAN)  </td><td>SIDEWALK                      </td><td>Yes     </td><td>No        </td><td style=\"text-align: right;\">  1412</td><td style=\"text-align: right;\">        14</td><td style=\"text-align: right;\">              21</td><td style=\"text-align: right;\">  2015</td><td style=\"text-align: right;\">   41.9374</td><td style=\"text-align: right;\">   -87.7166</td><td>2015-09-05 12:45:00</td><td>Saturday</td><td>12:45:00</td><td>September</td><td>Shakespeare    </td></tr>\n",
       "<tr><td><i style='opacity: 0.6'>3</i></td><td>2015-09-05 13:00:00</td><td style=\"text-align: right;\">10224741</td><td>0000X N LARAMIE AVE    </td><td>ASSAULT       </td><td>SIMPLE                 </td><td>APARTMENT                     </td><td>No      </td><td>Yes       </td><td style=\"text-align: right;\">  1522</td><td style=\"text-align: right;\">        15</td><td style=\"text-align: right;\">              25</td><td style=\"text-align: right;\">  2015</td><td style=\"text-align: right;\">   41.8819</td><td style=\"text-align: right;\">   -87.7551</td><td>2015-09-05 13:00:00</td><td>Saturday</td><td>13:00:00</td><td>September</td><td>Austin         </td></tr>\n",
       "<tr><td><i style='opacity: 0.6'>4</i></td><td>2015-09-05 10:55:00</td><td style=\"text-align: right;\">10224742</td><td>082XX S LOOMIS BLVD    </td><td>BURGLARY      </td><td>FORCIBLE ENTRY         </td><td>RESIDENCE                     </td><td>No      </td><td>No        </td><td style=\"text-align: right;\">   614</td><td style=\"text-align: right;\">         6</td><td style=\"text-align: right;\">              71</td><td style=\"text-align: right;\">  2015</td><td style=\"text-align: right;\">   41.7444</td><td style=\"text-align: right;\">   -87.6584</td><td>2015-09-05 10:55:00</td><td>Saturday</td><td>10:55:00</td><td>September</td><td>Gresham        </td></tr>\n",
       "<tr><td><i style='opacity: 0.6'>5</i></td><td>2015-09-04 18:00:00</td><td style=\"text-align: right;\">10224743</td><td>021XX W CHURCHILL ST   </td><td>BURGLARY      </td><td>UNLAWFUL ENTRY         </td><td>RESIDENCE-GARAGE              </td><td>No      </td><td>No        </td><td style=\"text-align: right;\">  1434</td><td style=\"text-align: right;\">        14</td><td style=\"text-align: right;\">              24</td><td style=\"text-align: right;\">  2015</td><td style=\"text-align: right;\">   41.9146</td><td style=\"text-align: right;\">   -87.6816</td><td>2015-09-04 18:00:00</td><td>Friday  </td><td>18:00:00</td><td>September</td><td>Shakespeare    </td></tr>\n",
       "<tr><td><i style='opacity: 0.6'>6</i></td><td>2015-09-05 13:00:00</td><td style=\"text-align: right;\">10224744</td><td>025XX W CERMAK RD      </td><td>THEFT         </td><td>RETAIL THEFT           </td><td>GROCERY FOOD STORE            </td><td>Yes     </td><td>No        </td><td style=\"text-align: right;\">  1034</td><td style=\"text-align: right;\">        10</td><td style=\"text-align: right;\">              31</td><td style=\"text-align: right;\">  2015</td><td style=\"text-align: right;\">   41.852 </td><td style=\"text-align: right;\">   -87.6892</td><td>2015-09-05 13:00:00</td><td>Saturday</td><td>13:00:00</td><td>September</td><td>Ogden          </td></tr>\n",
       "<tr><td><i style='opacity: 0.6'>7</i></td><td>2015-09-05 11:30:00</td><td style=\"text-align: right;\">10224745</td><td>031XX W WASHINGTON BLVD</td><td>ROBBERY       </td><td>STRONGARM - NO WEAPON  </td><td>STREET                        </td><td>No      </td><td>Yes       </td><td style=\"text-align: right;\">  1222</td><td style=\"text-align: right;\">        12</td><td style=\"text-align: right;\">              27</td><td style=\"text-align: right;\">  2015</td><td style=\"text-align: right;\">   41.8828</td><td style=\"text-align: right;\">   -87.7043</td><td>2015-09-05 11:30:00</td><td>Saturday</td><td>11:30:00</td><td>September</td><td>Near West      </td></tr>\n",
       "<tr><td><i style='opacity: 0.6'>8</i></td><td>2015-09-05 14:00:00</td><td style=\"text-align: right;\">10224746</td><td>071XX S PULASKI RD     </td><td>THEFT         </td><td>$500 AND UNDER         </td><td>PARKING LOT/GARAGE(NON.RESID.)</td><td>No      </td><td>No        </td><td style=\"text-align: right;\">   833</td><td style=\"text-align: right;\">         8</td><td style=\"text-align: right;\">              65</td><td style=\"text-align: right;\">  2015</td><td style=\"text-align: right;\">   41.7636</td><td style=\"text-align: right;\">   -87.7223</td><td>2015-09-05 14:00:00</td><td>Saturday</td><td>14:00:00</td><td>September</td><td>Chicago Lawn   </td></tr>\n",
       "<tr><td><i style='opacity: 0.6'>9</i></td><td>2015-09-05 11:00:00</td><td style=\"text-align: right;\">10224749</td><td>052XX N MILWAUKEE AVE  </td><td>BATTERY       </td><td>SIMPLE                 </td><td>SMALL RETAIL STORE            </td><td>No      </td><td>No        </td><td style=\"text-align: right;\">  1623</td><td style=\"text-align: right;\">        16</td><td style=\"text-align: right;\">              11</td><td style=\"text-align: right;\">  2015</td><td style=\"text-align: right;\">   41.976 </td><td style=\"text-align: right;\">   -87.768 </td><td>2015-09-05 11:00:00</td><td>Saturday</td><td>11:00:00</td><td>September</td><td>Jefferson Park </td></tr>\n",
       "</tbody>\n",
       "</table>"
      ],
      "text/plain": [
       "  #  Date                       ID  Block                    Primary Type    Description              Location Description            Arrest    Domestic      Beat    District    Community Area    Year    Latitude    Longitude  Datetime             Day       Time      Month      District_Name\n",
       "  0  2015-09-05 13:30:00  10224738  043XX S WOOD ST          BATTERY         DOMESTIC BATTERY SIMPLE  RESIDENCE                       No        Yes            924           9                61    2015     41.8151     -87.67    2015-09-05 13:30:00  Saturday  13:30:00  September  Deering\n",
       "  1  2015-09-04 11:30:00  10224739  008XX N CENTRAL AVE      THEFT           POCKET-PICKING           CTA BUS                         No        No            1511          15                25    2015     41.8951     -87.7654  2015-09-04 11:30:00  Friday    11:30:00  September  Austin\n",
       "  2  2015-09-05 12:45:00  10224740  035XX W BARRY AVE        NARCOTICS       POSS: HEROIN(BRN/TAN)    SIDEWALK                        Yes       No            1412          14                21    2015     41.9374     -87.7166  2015-09-05 12:45:00  Saturday  12:45:00  September  Shakespeare\n",
       "  3  2015-09-05 13:00:00  10224741  0000X N LARAMIE AVE      ASSAULT         SIMPLE                   APARTMENT                       No        Yes           1522          15                25    2015     41.8819     -87.7551  2015-09-05 13:00:00  Saturday  13:00:00  September  Austin\n",
       "  4  2015-09-05 10:55:00  10224742  082XX S LOOMIS BLVD      BURGLARY        FORCIBLE ENTRY           RESIDENCE                       No        No             614           6                71    2015     41.7444     -87.6584  2015-09-05 10:55:00  Saturday  10:55:00  September  Gresham\n",
       "  5  2015-09-04 18:00:00  10224743  021XX W CHURCHILL ST     BURGLARY        UNLAWFUL ENTRY           RESIDENCE-GARAGE                No        No            1434          14                24    2015     41.9146     -87.6816  2015-09-04 18:00:00  Friday    18:00:00  September  Shakespeare\n",
       "  6  2015-09-05 13:00:00  10224744  025XX W CERMAK RD        THEFT           RETAIL THEFT             GROCERY FOOD STORE              Yes       No            1034          10                31    2015     41.852      -87.6892  2015-09-05 13:00:00  Saturday  13:00:00  September  Ogden\n",
       "  7  2015-09-05 11:30:00  10224745  031XX W WASHINGTON BLVD  ROBBERY         STRONGARM - NO WEAPON    STREET                          No        Yes           1222          12                27    2015     41.8828     -87.7043  2015-09-05 11:30:00  Saturday  11:30:00  September  Near West\n",
       "  8  2015-09-05 14:00:00  10224746  071XX S PULASKI RD       THEFT           $500 AND UNDER           PARKING LOT/GARAGE(NON.RESID.)  No        No             833           8                65    2015     41.7636     -87.7223  2015-09-05 14:00:00  Saturday  14:00:00  September  Chicago Lawn\n",
       "  9  2015-09-05 11:00:00  10224749  052XX N MILWAUKEE AVE    BATTERY         SIMPLE                   SMALL RETAIL STORE              No        No            1623          16                11    2015     41.976      -87.768   2015-09-05 11:00:00  Saturday  11:00:00  September  Jefferson Park"
      ]
     },
     "execution_count": 24,
     "metadata": {},
     "output_type": "execute_result"
    }
   ],
   "source": [
    "data_frame.head()"
   ]
  },
  {
   "cell_type": "code",
   "execution_count": 25,
   "metadata": {},
   "outputs": [],
   "source": [
    "data_frame.export_hdf5(\"dataset/cleaned/cleaned_full.hdf5\")\n"
   ]
  },
  {
   "cell_type": "code",
   "execution_count": null,
   "metadata": {},
   "outputs": [],
   "source": [
    "years = [2010, 2011, 2012, 2013, 2014, 2015, 2016, 2017, 2018, 2019, 2020, 2021, 2022]\n",
    "cleaned_subset = data_frame[data_frame['Year'].isin(years)]\n",
    "cleaned_subset.export_hdf5(\"dataset/cleaned/cleaned_2010.hdf5\")"
   ]
  },
  {
   "cell_type": "code",
   "execution_count": 46,
   "metadata": {},
   "outputs": [
    {
     "ename": "RuntimeError",
     "evalue": "end index should be larger or equal to start index",
     "output_type": "error",
     "traceback": [
      "\u001b[0;31m---------------------------------------------------------------------------\u001b[0m",
      "\u001b[0;31mRuntimeError\u001b[0m                              Traceback (most recent call last)",
      "\u001b[1;32m/workspaces/diva536/newapp/demo.ipynb Cell 10'\u001b[0m in \u001b[0;36m<cell line: 2>\u001b[0;34m()\u001b[0m\n\u001b[1;32m      <a href='vscode-notebook-cell://codespaces%2Bvamshi900-diva536-7r6wwgxv2p7p/workspaces/diva536/newapp/demo.ipynb#ch0000013vscode-remote?line=0'>1</a>\u001b[0m tdf \u001b[39m=\u001b[39m data_frame[data_frame\u001b[39m.\u001b[39mDistrict_Name \u001b[39m==\u001b[39m \u001b[39m'\u001b[39m\u001b[39mmissing Washington Park\u001b[39m\u001b[39m'\u001b[39m]\n\u001b[0;32m----> <a href='vscode-notebook-cell://codespaces%2Bvamshi900-diva536-7r6wwgxv2p7p/workspaces/diva536/newapp/demo.ipynb#ch0000013vscode-remote?line=1'>2</a>\u001b[0m tdf\u001b[39m.\u001b[39;49mhead(\u001b[39m10\u001b[39;49m)\n",
      "File \u001b[0;32m/workspaces/diva536/.venv/lib/python3.8/site-packages/vaex/dataframe.py:3950\u001b[0m, in \u001b[0;36mDataFrame.head\u001b[0;34m(self, n)\u001b[0m\n\u001b[1;32m   <a href='file:///workspaces/diva536/.venv/lib/python3.8/site-packages/vaex/dataframe.py?line=3947'>3948</a>\u001b[0m \u001b[39mdef\u001b[39;00m \u001b[39mhead\u001b[39m(\u001b[39mself\u001b[39m, n\u001b[39m=\u001b[39m\u001b[39m10\u001b[39m):\n\u001b[1;32m   <a href='file:///workspaces/diva536/.venv/lib/python3.8/site-packages/vaex/dataframe.py?line=3948'>3949</a>\u001b[0m     \u001b[39m\"\"\"Return a shallow copy a DataFrame with the first n rows.\"\"\"\u001b[39;00m\n\u001b[0;32m-> <a href='file:///workspaces/diva536/.venv/lib/python3.8/site-packages/vaex/dataframe.py?line=3949'>3950</a>\u001b[0m     \u001b[39mreturn\u001b[39;00m \u001b[39mself\u001b[39;49m[:\u001b[39mmin\u001b[39;49m(n, \u001b[39mlen\u001b[39;49m(\u001b[39mself\u001b[39;49m))]\n",
      "File \u001b[0;32m/workspaces/diva536/.venv/lib/python3.8/site-packages/vaex/dataframe.py:5381\u001b[0m, in \u001b[0;36mDataFrame.__getitem__\u001b[0;34m(self, item)\u001b[0m\n\u001b[1;32m   <a href='file:///workspaces/diva536/.venv/lib/python3.8/site-packages/vaex/dataframe.py?line=5378'>5379</a>\u001b[0m \u001b[39mself\u001b[39m\u001b[39m.\u001b[39m_fill_filter_mask()\n\u001b[1;32m   <a href='file:///workspaces/diva536/.venv/lib/python3.8/site-packages/vaex/dataframe.py?line=5379'>5380</a>\u001b[0m mask \u001b[39m=\u001b[39m \u001b[39mself\u001b[39m\u001b[39m.\u001b[39m_selection_masks[FILTER_SELECTION_NAME]\n\u001b[0;32m-> <a href='file:///workspaces/diva536/.venv/lib/python3.8/site-packages/vaex/dataframe.py?line=5380'>5381</a>\u001b[0m startf, stopf \u001b[39m=\u001b[39m mask\u001b[39m.\u001b[39;49mindices(start, stop\u001b[39m-\u001b[39;49m\u001b[39m1\u001b[39;49m) \u001b[39m# -1 since it is inclusive\u001b[39;00m\n\u001b[1;32m   <a href='file:///workspaces/diva536/.venv/lib/python3.8/site-packages/vaex/dataframe.py?line=5381'>5382</a>\u001b[0m \u001b[39massert\u001b[39;00m startf \u001b[39m!=\u001b[39m \u001b[39m-\u001b[39m\u001b[39m1\u001b[39m\n\u001b[1;32m   <a href='file:///workspaces/diva536/.venv/lib/python3.8/site-packages/vaex/dataframe.py?line=5382'>5383</a>\u001b[0m \u001b[39massert\u001b[39;00m stopf \u001b[39m!=\u001b[39m \u001b[39m-\u001b[39m\u001b[39m1\u001b[39m\n",
      "\u001b[0;31mRuntimeError\u001b[0m: end index should be larger or equal to start index"
     ]
    }
   ],
   "source": [
    "tdf = data_frame[data_frame.District_Name == 'missing Washington Park']\n",
    "tdf.head(10)"
   ]
  },
  {
   "cell_type": "code",
   "execution_count": 22,
   "metadata": {},
   "outputs": [
    {
     "ename": "NameError",
     "evalue": "Column or variable 'District_Name' does not exist. Did you mean: 'District'",
     "output_type": "error",
     "traceback": [
      "\u001b[0;31m---------------------------------------------------------------------------\u001b[0m",
      "\u001b[0;31mNameError\u001b[0m                                 Traceback (most recent call last)",
      "\u001b[1;32m/workspaces/diva536/crime_files/demo.ipynb Cell 15'\u001b[0m in \u001b[0;36m<cell line: 1>\u001b[0;34m()\u001b[0m\n\u001b[0;32m----> <a href='vscode-notebook-cell://codespaces%2Bvamshi900-diva536-4g566xrjcqgq6/workspaces/diva536/crime_files/demo.ipynb#ch0000020vscode-remote?line=0'>1</a>\u001b[0m data_frame[\u001b[39m\"\u001b[39;49m\u001b[39mDistrict_Name\u001b[39;49m\u001b[39m\"\u001b[39;49m]\u001b[39m.\u001b[39munique()\n",
      "File \u001b[0;32m/workspaces/diva536/.venv/lib/python3.8/site-packages/vaex/dataframe.py:5346\u001b[0m, in \u001b[0;36mDataFrame.__getitem__\u001b[0;34m(self, item)\u001b[0m\n\u001b[1;32m   <a href='file:///workspaces/diva536/.venv/lib/python3.8/site-packages/vaex/dataframe.py?line=5340'>5341</a>\u001b[0m \u001b[39m# if item in self.virtual_columns:\u001b[39;00m\n\u001b[1;32m   <a href='file:///workspaces/diva536/.venv/lib/python3.8/site-packages/vaex/dataframe.py?line=5341'>5342</a>\u001b[0m \u001b[39m#   return Expression(self, self.virtual_columns[item])\u001b[39;00m\n\u001b[1;32m   <a href='file:///workspaces/diva536/.venv/lib/python3.8/site-packages/vaex/dataframe.py?line=5342'>5343</a>\u001b[0m \u001b[39m# if item in self._virtual_expressions:\u001b[39;00m\n\u001b[1;32m   <a href='file:///workspaces/diva536/.venv/lib/python3.8/site-packages/vaex/dataframe.py?line=5343'>5344</a>\u001b[0m \u001b[39m#     return self._virtual_expressions[item]\u001b[39;00m\n\u001b[1;32m   <a href='file:///workspaces/diva536/.venv/lib/python3.8/site-packages/vaex/dataframe.py?line=5344'>5345</a>\u001b[0m \u001b[39mif\u001b[39;00m item \u001b[39mnot\u001b[39;00m \u001b[39min\u001b[39;00m \u001b[39mself\u001b[39m\u001b[39m.\u001b[39mcolumn_names:\n\u001b[0;32m-> <a href='file:///workspaces/diva536/.venv/lib/python3.8/site-packages/vaex/dataframe.py?line=5345'>5346</a>\u001b[0m     \u001b[39mself\u001b[39;49m\u001b[39m.\u001b[39;49mvalidate_expression(item)\n\u001b[1;32m   <a href='file:///workspaces/diva536/.venv/lib/python3.8/site-packages/vaex/dataframe.py?line=5346'>5347</a>\u001b[0m item \u001b[39m=\u001b[39m vaex\u001b[39m.\u001b[39mutils\u001b[39m.\u001b[39mvalid_expression(\u001b[39mself\u001b[39m\u001b[39m.\u001b[39mget_column_names(), item)\n\u001b[1;32m   <a href='file:///workspaces/diva536/.venv/lib/python3.8/site-packages/vaex/dataframe.py?line=5347'>5348</a>\u001b[0m \u001b[39mreturn\u001b[39;00m Expression(\u001b[39mself\u001b[39m, item)  \u001b[39m# TODO we'd like to return the same expression if possible\u001b[39;00m\n",
      "File \u001b[0;32m/workspaces/diva536/.venv/lib/python3.8/site-packages/vaex/dataframe.py:3441\u001b[0m, in \u001b[0;36mDataFrame.validate_expression\u001b[0;34m(self, expression)\u001b[0m\n\u001b[1;32m   <a href='file:///workspaces/diva536/.venv/lib/python3.8/site-packages/vaex/dataframe.py?line=3438'>3439</a>\u001b[0m     \u001b[39mreturn\u001b[39;00m vaex\u001b[39m.\u001b[39mexpresso\u001b[39m.\u001b[39mvalidate_expression(expression, \u001b[39mvars\u001b[39m, funcs)\n\u001b[1;32m   <a href='file:///workspaces/diva536/.venv/lib/python3.8/site-packages/vaex/dataframe.py?line=3439'>3440</a>\u001b[0m \u001b[39mexcept\u001b[39;00m \u001b[39mNameError\u001b[39;00m \u001b[39mas\u001b[39;00m e:\n\u001b[0;32m-> <a href='file:///workspaces/diva536/.venv/lib/python3.8/site-packages/vaex/dataframe.py?line=3440'>3441</a>\u001b[0m     \u001b[39mraise\u001b[39;00m \u001b[39mNameError\u001b[39;00m(\u001b[39mstr\u001b[39m(e)) \u001b[39mfrom\u001b[39;00m \u001b[39mNone\u001b[39m\n",
      "\u001b[0;31mNameError\u001b[0m: Column or variable 'District_Name' does not exist. Did you mean: 'District'"
     ]
    }
   ],
   "source": [
    "data_frame[\"District_Name\"].unique()"
   ]
  },
  {
   "cell_type": "code",
   "execution_count": 43,
   "metadata": {},
   "outputs": [
    {
     "name": "stdout",
     "output_type": "stream",
     "text": [
      "{'Near North': 'Near North', 'Deering': 'Deering', 'Morgan Park': 'Morgan Park', 'Wentworth': 'Wentworth', 'Englewood': 'Englewood', 'Shakespeare': 'Shakespeare', 'Central': 'Central', 'Rogers Park': 'Rogers Park', 'Jefferson Park': 'Jefferson Park', 'Calumet': 'Calumet', 'Grand Central': 'Grand Central', 'Town Hall': 'Town Hall', 'South Chicago': 'South Chicago', 'Chicago Lawn': 'Chicago Lawn', 'Austin': 'Austin', 'Grand Crossing': 'Grand Crossing', 'Near West': 'Near West', 'Ogden': 'Ogden', 'Albany Park': 'Albany Park', 'Harrison': 'Harrison', 'Gresham': 'Gresham', 'Washington Park': 'Washington Park', 'Lincoln': 'Lincoln', 'missing Washington Park': 'Washington Park'}\n"
     ]
    }
   ],
   "source": [
    "ls = data_frame[\"District_Name\"].unique()\n",
    "mp = {}\n",
    "for v in ls:\n",
    "    mp[v] = v\n",
    "mp[\"missing Washington Park\"] = \"Washington Park\"\n",
    "print(mp)"
   ]
  },
  {
   "cell_type": "code",
   "execution_count": 44,
   "metadata": {},
   "outputs": [
    {
     "data": {
      "text/html": [
       "<table>\n",
       "<thead>\n",
       "<tr><th>#                            </th><th style=\"text-align: right;\">      ID</th><th>Block                  </th><th>Primary Type  </th><th>Description            </th><th>Location Description          </th><th>Arrest  </th><th>Domestic  </th><th style=\"text-align: right;\">  Beat</th><th style=\"text-align: right;\">  District</th><th style=\"text-align: right;\">  Year</th><th style=\"text-align: right;\">  Latitude</th><th style=\"text-align: right;\">  Longitude</th><th>Location                     </th><th>Day     </th><th>Time    </th><th>Month    </th><th>District_Name  </th></tr>\n",
       "</thead>\n",
       "<tbody>\n",
       "<tr><td><i style='opacity: 0.6'>0</i></td><td style=\"text-align: right;\">10224738</td><td>043XX S WOOD ST        </td><td>BATTERY       </td><td>DOMESTIC BATTERY SIMPLE</td><td>RESIDENCE                     </td><td>No      </td><td>Yes       </td><td style=\"text-align: right;\">   924</td><td style=\"text-align: right;\">         9</td><td style=\"text-align: right;\">  2015</td><td style=\"text-align: right;\">   41.8151</td><td style=\"text-align: right;\">   -87.67  </td><td>(41.815117282, -87.669999562)</td><td>Saturday</td><td>13:30:00</td><td>September</td><td>Deering        </td></tr>\n",
       "<tr><td><i style='opacity: 0.6'>1</i></td><td style=\"text-align: right;\">10224739</td><td>008XX N CENTRAL AVE    </td><td>THEFT         </td><td>POCKET-PICKING         </td><td>CTA BUS                       </td><td>No      </td><td>No        </td><td style=\"text-align: right;\">  1511</td><td style=\"text-align: right;\">        15</td><td style=\"text-align: right;\">  2015</td><td style=\"text-align: right;\">   41.8951</td><td style=\"text-align: right;\">   -87.7654</td><td>(41.895080471, -87.765400451)</td><td>Friday  </td><td>11:30:00</td><td>September</td><td>Austin         </td></tr>\n",
       "<tr><td><i style='opacity: 0.6'>2</i></td><td style=\"text-align: right;\">10224740</td><td>035XX W BARRY AVE      </td><td>NARCOTICS     </td><td>POSS: HEROIN(BRN/TAN)  </td><td>SIDEWALK                      </td><td>Yes     </td><td>No        </td><td style=\"text-align: right;\">  1412</td><td style=\"text-align: right;\">        14</td><td style=\"text-align: right;\">  2015</td><td style=\"text-align: right;\">   41.9374</td><td style=\"text-align: right;\">   -87.7166</td><td>(41.937405765, -87.716649687)</td><td>Saturday</td><td>12:45:00</td><td>September</td><td>Shakespeare    </td></tr>\n",
       "<tr><td><i style='opacity: 0.6'>3</i></td><td style=\"text-align: right;\">10224741</td><td>0000X N LARAMIE AVE    </td><td>ASSAULT       </td><td>SIMPLE                 </td><td>APARTMENT                     </td><td>No      </td><td>Yes       </td><td style=\"text-align: right;\">  1522</td><td style=\"text-align: right;\">        15</td><td style=\"text-align: right;\">  2015</td><td style=\"text-align: right;\">   41.8819</td><td style=\"text-align: right;\">   -87.7551</td><td>(41.881903443, -87.755121152)</td><td>Saturday</td><td>13:00:00</td><td>September</td><td>Austin         </td></tr>\n",
       "<tr><td><i style='opacity: 0.6'>4</i></td><td style=\"text-align: right;\">10224742</td><td>082XX S LOOMIS BLVD    </td><td>BURGLARY      </td><td>FORCIBLE ENTRY         </td><td>RESIDENCE                     </td><td>No      </td><td>No        </td><td style=\"text-align: right;\">   614</td><td style=\"text-align: right;\">         6</td><td style=\"text-align: right;\">  2015</td><td style=\"text-align: right;\">   41.7444</td><td style=\"text-align: right;\">   -87.6584</td><td>(41.744378879, -87.658430635)</td><td>Saturday</td><td>10:55:00</td><td>September</td><td>Gresham        </td></tr>\n",
       "<tr><td><i style='opacity: 0.6'>5</i></td><td style=\"text-align: right;\">10224743</td><td>021XX W CHURCHILL ST   </td><td>BURGLARY      </td><td>UNLAWFUL ENTRY         </td><td>RESIDENCE-GARAGE              </td><td>No      </td><td>No        </td><td style=\"text-align: right;\">  1434</td><td style=\"text-align: right;\">        14</td><td style=\"text-align: right;\">  2015</td><td style=\"text-align: right;\">   41.9146</td><td style=\"text-align: right;\">   -87.6816</td><td>(41.914635603, -87.681630909)</td><td>Friday  </td><td>18:00:00</td><td>September</td><td>Shakespeare    </td></tr>\n",
       "<tr><td><i style='opacity: 0.6'>6</i></td><td style=\"text-align: right;\">10224744</td><td>025XX W CERMAK RD      </td><td>THEFT         </td><td>RETAIL THEFT           </td><td>GROCERY FOOD STORE            </td><td>Yes     </td><td>No        </td><td style=\"text-align: right;\">  1034</td><td style=\"text-align: right;\">        10</td><td style=\"text-align: right;\">  2015</td><td style=\"text-align: right;\">   41.852 </td><td style=\"text-align: right;\">   -87.6892</td><td>(41.851988885, -87.689219118)</td><td>Saturday</td><td>13:00:00</td><td>September</td><td>Ogden          </td></tr>\n",
       "<tr><td><i style='opacity: 0.6'>7</i></td><td style=\"text-align: right;\">10224745</td><td>031XX W WASHINGTON BLVD</td><td>ROBBERY       </td><td>STRONGARM - NO WEAPON  </td><td>STREET                        </td><td>No      </td><td>Yes       </td><td style=\"text-align: right;\">  1222</td><td style=\"text-align: right;\">        12</td><td style=\"text-align: right;\">  2015</td><td style=\"text-align: right;\">   41.8828</td><td style=\"text-align: right;\">   -87.7043</td><td>(41.88281374, -87.704325717) </td><td>Saturday</td><td>11:30:00</td><td>September</td><td>Near West      </td></tr>\n",
       "<tr><td><i style='opacity: 0.6'>8</i></td><td style=\"text-align: right;\">10224746</td><td>071XX S PULASKI RD     </td><td>THEFT         </td><td>$500 AND UNDER         </td><td>PARKING LOT/GARAGE(NON.RESID.)</td><td>No      </td><td>No        </td><td style=\"text-align: right;\">   833</td><td style=\"text-align: right;\">         8</td><td style=\"text-align: right;\">  2015</td><td style=\"text-align: right;\">   41.7636</td><td style=\"text-align: right;\">   -87.7223</td><td>(41.763647552, -87.722344693)</td><td>Saturday</td><td>14:00:00</td><td>September</td><td>Chicago Lawn   </td></tr>\n",
       "<tr><td><i style='opacity: 0.6'>9</i></td><td style=\"text-align: right;\">10224749</td><td>052XX N MILWAUKEE AVE  </td><td>BATTERY       </td><td>SIMPLE                 </td><td>SMALL RETAIL STORE            </td><td>No      </td><td>No        </td><td style=\"text-align: right;\">  1623</td><td style=\"text-align: right;\">        16</td><td style=\"text-align: right;\">  2015</td><td style=\"text-align: right;\">   41.976 </td><td style=\"text-align: right;\">   -87.768 </td><td>(41.975968415, -87.768014257)</td><td>Saturday</td><td>11:00:00</td><td>September</td><td>Jefferson Park </td></tr>\n",
       "</tbody>\n",
       "</table>"
      ],
      "text/plain": [
       "  #        ID  Block                    Primary Type    Description              Location Description            Arrest    Domestic      Beat    District    Year    Latitude    Longitude  Location                       Day       Time      Month      District_Name\n",
       "  0  10224738  043XX S WOOD ST          BATTERY         DOMESTIC BATTERY SIMPLE  RESIDENCE                       No        Yes            924           9    2015     41.8151     -87.67    (41.815117282, -87.669999562)  Saturday  13:30:00  September  Deering\n",
       "  1  10224739  008XX N CENTRAL AVE      THEFT           POCKET-PICKING           CTA BUS                         No        No            1511          15    2015     41.8951     -87.7654  (41.895080471, -87.765400451)  Friday    11:30:00  September  Austin\n",
       "  2  10224740  035XX W BARRY AVE        NARCOTICS       POSS: HEROIN(BRN/TAN)    SIDEWALK                        Yes       No            1412          14    2015     41.9374     -87.7166  (41.937405765, -87.716649687)  Saturday  12:45:00  September  Shakespeare\n",
       "  3  10224741  0000X N LARAMIE AVE      ASSAULT         SIMPLE                   APARTMENT                       No        Yes           1522          15    2015     41.8819     -87.7551  (41.881903443, -87.755121152)  Saturday  13:00:00  September  Austin\n",
       "  4  10224742  082XX S LOOMIS BLVD      BURGLARY        FORCIBLE ENTRY           RESIDENCE                       No        No             614           6    2015     41.7444     -87.6584  (41.744378879, -87.658430635)  Saturday  10:55:00  September  Gresham\n",
       "  5  10224743  021XX W CHURCHILL ST     BURGLARY        UNLAWFUL ENTRY           RESIDENCE-GARAGE                No        No            1434          14    2015     41.9146     -87.6816  (41.914635603, -87.681630909)  Friday    18:00:00  September  Shakespeare\n",
       "  6  10224744  025XX W CERMAK RD        THEFT           RETAIL THEFT             GROCERY FOOD STORE              Yes       No            1034          10    2015     41.852      -87.6892  (41.851988885, -87.689219118)  Saturday  13:00:00  September  Ogden\n",
       "  7  10224745  031XX W WASHINGTON BLVD  ROBBERY         STRONGARM - NO WEAPON    STREET                          No        Yes           1222          12    2015     41.8828     -87.7043  (41.88281374, -87.704325717)   Saturday  11:30:00  September  Near West\n",
       "  8  10224746  071XX S PULASKI RD       THEFT           $500 AND UNDER           PARKING LOT/GARAGE(NON.RESID.)  No        No             833           8    2015     41.7636     -87.7223  (41.763647552, -87.722344693)  Saturday  14:00:00  September  Chicago Lawn\n",
       "  9  10224749  052XX N MILWAUKEE AVE    BATTERY         SIMPLE                   SMALL RETAIL STORE              No        No            1623          16    2015     41.976      -87.768   (41.975968415, -87.768014257)  Saturday  11:00:00  September  Jefferson Park"
      ]
     },
     "execution_count": 44,
     "metadata": {},
     "output_type": "execute_result"
    }
   ],
   "source": [
    "data_frame[\"District_Name\"] = data_frame.District_Name.map(mp)\n",
    "data_frame.head()"
   ]
  },
  {
   "cell_type": "code",
   "execution_count": 27,
   "metadata": {},
   "outputs": [
    {
     "name": "stdout",
     "output_type": "stream",
     "text": [
      "25.0\n"
     ]
    }
   ],
   "source": []
  },
  {
   "cell_type": "code",
   "execution_count": 41,
   "metadata": {},
   "outputs": [
    {
     "data": {
      "text/html": [
       "<div>\n",
       "<style scoped>\n",
       "    .dataframe tbody tr th:only-of-type {\n",
       "        vertical-align: middle;\n",
       "    }\n",
       "\n",
       "    .dataframe tbody tr th {\n",
       "        vertical-align: top;\n",
       "    }\n",
       "\n",
       "    .dataframe thead th {\n",
       "        text-align: right;\n",
       "    }\n",
       "</style>\n",
       "<table border=\"1\" class=\"dataframe\">\n",
       "  <thead>\n",
       "    <tr style=\"text-align: right;\">\n",
       "      <th></th>\n",
       "      <th>District</th>\n",
       "      <th>Primary Type</th>\n",
       "      <th>total_case</th>\n",
       "    </tr>\n",
       "  </thead>\n",
       "  <tbody>\n",
       "    <tr>\n",
       "      <th>0</th>\n",
       "      <td>25.0</td>\n",
       "      <td>THEFT</td>\n",
       "      <td>476</td>\n",
       "    </tr>\n",
       "    <tr>\n",
       "      <th>1</th>\n",
       "      <td>25.0</td>\n",
       "      <td>BATTERY</td>\n",
       "      <td>457</td>\n",
       "    </tr>\n",
       "    <tr>\n",
       "      <th>2</th>\n",
       "      <td>25.0</td>\n",
       "      <td>CRIMINAL DAMAGE</td>\n",
       "      <td>282</td>\n",
       "    </tr>\n",
       "    <tr>\n",
       "      <th>3</th>\n",
       "      <td>25.0</td>\n",
       "      <td>OTHER OFFENSE</td>\n",
       "      <td>190</td>\n",
       "    </tr>\n",
       "    <tr>\n",
       "      <th>4</th>\n",
       "      <td>25.0</td>\n",
       "      <td>NARCOTICS</td>\n",
       "      <td>188</td>\n",
       "    </tr>\n",
       "    <tr>\n",
       "      <th>26</th>\n",
       "      <td>24.0</td>\n",
       "      <td>THEFT</td>\n",
       "      <td>344</td>\n",
       "    </tr>\n",
       "    <tr>\n",
       "      <th>27</th>\n",
       "      <td>24.0</td>\n",
       "      <td>BATTERY</td>\n",
       "      <td>263</td>\n",
       "    </tr>\n",
       "    <tr>\n",
       "      <th>28</th>\n",
       "      <td>24.0</td>\n",
       "      <td>CRIMINAL DAMAGE</td>\n",
       "      <td>141</td>\n",
       "    </tr>\n",
       "    <tr>\n",
       "      <th>29</th>\n",
       "      <td>24.0</td>\n",
       "      <td>OTHER OFFENSE</td>\n",
       "      <td>99</td>\n",
       "    </tr>\n",
       "    <tr>\n",
       "      <th>30</th>\n",
       "      <td>24.0</td>\n",
       "      <td>DECEPTIVE PRACTICE</td>\n",
       "      <td>91</td>\n",
       "    </tr>\n",
       "  </tbody>\n",
       "</table>\n",
       "</div>"
      ],
      "text/plain": [
       "    District        Primary Type  total_case\n",
       "0       25.0               THEFT         476\n",
       "1       25.0             BATTERY         457\n",
       "2       25.0     CRIMINAL DAMAGE         282\n",
       "3       25.0       OTHER OFFENSE         190\n",
       "4       25.0           NARCOTICS         188\n",
       "26      24.0               THEFT         344\n",
       "27      24.0             BATTERY         263\n",
       "28      24.0     CRIMINAL DAMAGE         141\n",
       "29      24.0       OTHER OFFENSE          99\n",
       "30      24.0  DECEPTIVE PRACTICE          91"
      ]
     },
     "execution_count": 41,
     "metadata": {},
     "output_type": "execute_result"
    }
   ],
   "source": [
    "temp_data_frame = data_frame[[\"Primary Type\", \"District\"]]\n",
    "temp_data_frame = temp_data_frame.groupby([temp_data_frame[\"District\"], temp_data_frame[\"Primary Type\"]],\n",
    "                                agg={'total_case': vx.agg.count('Primary Type')}, sort=True)\n",
    "temp_data_frame = temp_data_frame.sort(\n",
    "            [\"District\", \"total_case\"], ascending=False)\n",
    "temp_data_frame = temp_data_frame.to_pandas_df()\n",
    "temp_data_frame = temp_data_frame.groupby([\"District\"]).head(5)\n",
    "temp_data_frame.head(10)\n"
   ]
  },
  {
   "cell_type": "code",
   "execution_count": 32,
   "metadata": {},
   "outputs": [
    {
     "ename": "AttributeError",
     "evalue": "'GroupBy' object has no attribute 'count'",
     "output_type": "error",
     "traceback": [
      "\u001b[0;31m---------------------------------------------------------------------------\u001b[0m",
      "\u001b[0;31mAttributeError\u001b[0m                            Traceback (most recent call last)",
      "\u001b[1;32m/workspaces/diva536/newapp/demo.ipynb Cell 6'\u001b[0m in \u001b[0;36m<cell line: 11>\u001b[0;34m()\u001b[0m\n\u001b[1;32m      <a href='vscode-notebook-cell://codespaces%2Bvamshi900-diva536-7r6wwgxv2p7p/workspaces/diva536/newapp/demo.ipynb#ch0000003vscode-remote?line=7'>8</a>\u001b[0m         top_5_crimes \u001b[39m=\u001b[39m top_5_crimes\u001b[39m.\u001b[39mhead(\u001b[39m5\u001b[39m)\n\u001b[1;32m      <a href='vscode-notebook-cell://codespaces%2Bvamshi900-diva536-7r6wwgxv2p7p/workspaces/diva536/newapp/demo.ipynb#ch0000003vscode-remote?line=8'>9</a>\u001b[0m         \u001b[39mreturn\u001b[39;00m top_5_crimes\n\u001b[0;32m---> <a href='vscode-notebook-cell://codespaces%2Bvamshi900-diva536-7r6wwgxv2p7p/workspaces/diva536/newapp/demo.ipynb#ch0000003vscode-remote?line=10'>11</a>\u001b[0m \u001b[39mprint\u001b[39m(get_top_5_crimes())\n",
      "\u001b[1;32m/workspaces/diva536/newapp/demo.ipynb Cell 6'\u001b[0m in \u001b[0;36mget_top_5_crimes\u001b[0;34m()\u001b[0m\n\u001b[1;32m      <a href='vscode-notebook-cell://codespaces%2Bvamshi900-diva536-7r6wwgxv2p7p/workspaces/diva536/newapp/demo.ipynb#ch0000003vscode-remote?line=2'>3</a>\u001b[0m df \u001b[39m=\u001b[39m data_frame\u001b[39m.\u001b[39mcopy()\n\u001b[1;32m      <a href='vscode-notebook-cell://codespaces%2Bvamshi900-diva536-7r6wwgxv2p7p/workspaces/diva536/newapp/demo.ipynb#ch0000003vscode-remote?line=3'>4</a>\u001b[0m \u001b[39m# get the top 5 crimes\u001b[39;00m\n\u001b[0;32m----> <a href='vscode-notebook-cell://codespaces%2Bvamshi900-diva536-7r6wwgxv2p7p/workspaces/diva536/newapp/demo.ipynb#ch0000003vscode-remote?line=4'>5</a>\u001b[0m top_5_crimes \u001b[39m=\u001b[39m df\u001b[39m.\u001b[39;49mgroupby([\u001b[39m\"\u001b[39;49m\u001b[39mDistrict\u001b[39;49m\u001b[39m\"\u001b[39;49m, \u001b[39m\"\u001b[39;49m\u001b[39mPrimary Type\u001b[39;49m\u001b[39m\"\u001b[39;49m])\u001b[39m.\u001b[39;49mcount()\n\u001b[1;32m      <a href='vscode-notebook-cell://codespaces%2Bvamshi900-diva536-7r6wwgxv2p7p/workspaces/diva536/newapp/demo.ipynb#ch0000003vscode-remote?line=5'>6</a>\u001b[0m top_5_crimes \u001b[39m=\u001b[39m top_5_crimes\u001b[39m.\u001b[39msort_values(\n\u001b[1;32m      <a href='vscode-notebook-cell://codespaces%2Bvamshi900-diva536-7r6wwgxv2p7p/workspaces/diva536/newapp/demo.ipynb#ch0000003vscode-remote?line=6'>7</a>\u001b[0m     by\u001b[39m=\u001b[39m\u001b[39m\"\u001b[39m\u001b[39mCount\u001b[39m\u001b[39m\"\u001b[39m, ascending\u001b[39m=\u001b[39m\u001b[39mFalse\u001b[39;00m)\n\u001b[1;32m      <a href='vscode-notebook-cell://codespaces%2Bvamshi900-diva536-7r6wwgxv2p7p/workspaces/diva536/newapp/demo.ipynb#ch0000003vscode-remote?line=7'>8</a>\u001b[0m top_5_crimes \u001b[39m=\u001b[39m top_5_crimes\u001b[39m.\u001b[39mhead(\u001b[39m5\u001b[39m)\n",
      "\u001b[0;31mAttributeError\u001b[0m: 'GroupBy' object has no attribute 'count'"
     ]
    }
   ],
   "source": [
    "def get_top_5_crimes():\n",
    "        # get the data frame\n",
    "        df = data_frame.copy()\n",
    "        # get the top 5 crimes\n",
    "        top_5_crimes = df.groupby([\"District\", \"Primary Type\"]).count()\n",
    "        top_5_crimes = top_5_crimes.sort_values(\n",
    "            by=\"Count\", ascending=False)\n",
    "        top_5_crimes = top_5_crimes.head(5)\n",
    "        return top_5_crimes\n",
    "\n",
    "print(get_top_5_crimes())"
   ]
  },
  {
   "cell_type": "code",
   "execution_count": null,
   "metadata": {},
   "outputs": [],
   "source": []
  }
 ],
 "metadata": {
  "interpreter": {
   "hash": "7ec997fb6b1109af60e1a3991cfd945338bcfade1ed2f826316a6f7c6e4dce6e"
  },
  "kernelspec": {
   "display_name": "Python 3.8.12 ('.venv': venv)",
   "language": "python",
   "name": "python3"
  },
  "language_info": {
   "codemirror_mode": {
    "name": "ipython",
    "version": 3
   },
   "file_extension": ".py",
   "mimetype": "text/x-python",
   "name": "python",
   "nbconvert_exporter": "python",
   "pygments_lexer": "ipython3",
   "version": "3.8.12"
  },
  "orig_nbformat": 4
 },
 "nbformat": 4,
 "nbformat_minor": 2
}
